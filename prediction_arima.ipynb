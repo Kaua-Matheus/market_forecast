{
 "cells": [
  {
   "cell_type": "markdown",
   "id": "e2420db0",
   "metadata": {},
   "source": [
    "# Início\n",
    "Iremos usar um modelo de série temporal para manipulação de dados e predição."
   ]
  },
  {
   "cell_type": "code",
   "execution_count": 1,
   "id": "084474c8",
   "metadata": {},
   "outputs": [],
   "source": [
    "import pandas as pd\n",
    "import numpy as np\n",
    "\n",
    "# Somente se for utilizado\n",
    "import yfinance as yf\n",
    "\n",
    "import matplotlib.pyplot as plt\n",
    "from statsmodels.tsa.stattools import adfuller, acf, pacf\n",
    "from statsmodels.tsa.arima.model import ARIMA\n",
    "from sklearn.preprocessing import MinMaxScaler, StandardScaler\n",
    "from sklearn.metrics import mean_absolute_error, mean_squared_error\n",
    "from statsmodels.tsa.seasonal import seasonal_decompose\n",
    "from statsmodels.graphics.tsaplots import plot_acf, plot_pacf\n",
    "from statsmodels.tsa.stattools import kpss\n",
    "import warnings\n",
    "warnings.filterwarnings('ignore')"
   ]
  },
  {
   "cell_type": "markdown",
   "id": "ac6348b5",
   "metadata": {},
   "source": [
    "## Download dos dados"
   ]
  },
  {
   "cell_type": "code",
   "execution_count": null,
   "id": "9ed8b5a1",
   "metadata": {},
   "outputs": [
    {
     "name": "stderr",
     "output_type": "stream",
     "text": [
      "/tmp/ipykernel_9258/4157638368.py:1: FutureWarning: YF.download() has changed argument auto_adjust default to True\n",
      "  data = yf.download('USDBRL=X', start='2000-01-01', end='2025-09-04')\n",
      "[*********************100%***********************]  1 of 1 completed"
     ]
    },
    {
     "name": "stdout",
     "output_type": "stream",
     "text": [
      "Ticker      USDBRL=X\n",
      "Date                \n",
      "2003-12-01     2.923\n",
      "2003-12-02     2.931\n",
      "2003-12-03     2.931\n",
      "2003-12-04     2.943\n",
      "2003-12-05     2.934\n",
      "Ticker      USDBRL=X\n",
      "Date                \n",
      "2025-08-28    5.4177\n",
      "2025-08-29    5.4130\n",
      "2025-09-01    5.4324\n",
      "2025-09-02    5.4384\n",
      "2025-09-03    5.4670\n"
     ]
    },
    {
     "name": "stderr",
     "output_type": "stream",
     "text": [
      "\n"
     ]
    }
   ],
   "source": [
    "# data = yf.download('BRL=X', start='2015-01-01', end='2025-09-04')\n",
    "\n",
    "# if data is None:\n",
    "#     print(\"Não foi possível adquirir os dados, objeto nulo.\")\n",
    "# else:\n",
    "#     df = pd.DataFrame(data['Close']).rename(columns={'Close': 'rate'})  # Use Close price\n",
    "\n",
    "#     # Clean and save\n",
    "#     df.dropna(inplace=True)\n",
    "#     print(df.head())\n",
    "#     print(df.tail())\n",
    "#     df.to_csv('usd_brl_2000_2025.csv')"
   ]
  },
  {
   "cell_type": "code",
   "execution_count": 5,
   "id": "f0fed51f",
   "metadata": {},
   "outputs": [],
   "source": [
    "data = pd.read_csv('./Data/usd_brl_2000_2025.csv')\n",
    "data = data.dropna()"
   ]
  },
  {
   "cell_type": "code",
   "execution_count": 9,
   "id": "a66ebe6c",
   "metadata": {},
   "outputs": [],
   "source": [
    "data.index = pd.to_datetime(data.index)"
   ]
  },
  {
   "cell_type": "code",
   "execution_count": 12,
   "id": "6fc6aa97",
   "metadata": {},
   "outputs": [
    {
     "data": {
      "text/html": [
       "<div>\n",
       "<style scoped>\n",
       "    .dataframe tbody tr th:only-of-type {\n",
       "        vertical-align: middle;\n",
       "    }\n",
       "\n",
       "    .dataframe tbody tr th {\n",
       "        vertical-align: top;\n",
       "    }\n",
       "\n",
       "    .dataframe thead th {\n",
       "        text-align: right;\n",
       "    }\n",
       "</style>\n",
       "<table border=\"1\" class=\"dataframe\">\n",
       "  <thead>\n",
       "    <tr style=\"text-align: right;\">\n",
       "      <th></th>\n",
       "      <th>Date</th>\n",
       "      <th>USDBRL=X</th>\n",
       "    </tr>\n",
       "  </thead>\n",
       "  <tbody>\n",
       "    <tr>\n",
       "      <th>1970-01-01 00:00:00.000000000</th>\n",
       "      <td>2003-12-01</td>\n",
       "      <td>2.9230</td>\n",
       "    </tr>\n",
       "    <tr>\n",
       "      <th>1970-01-01 00:00:00.000000001</th>\n",
       "      <td>2003-12-02</td>\n",
       "      <td>2.9310</td>\n",
       "    </tr>\n",
       "    <tr>\n",
       "      <th>1970-01-01 00:00:00.000000002</th>\n",
       "      <td>2003-12-03</td>\n",
       "      <td>2.9310</td>\n",
       "    </tr>\n",
       "    <tr>\n",
       "      <th>1970-01-01 00:00:00.000000003</th>\n",
       "      <td>2003-12-04</td>\n",
       "      <td>2.9430</td>\n",
       "    </tr>\n",
       "    <tr>\n",
       "      <th>1970-01-01 00:00:00.000000004</th>\n",
       "      <td>2003-12-05</td>\n",
       "      <td>2.9340</td>\n",
       "    </tr>\n",
       "    <tr>\n",
       "      <th>...</th>\n",
       "      <td>...</td>\n",
       "      <td>...</td>\n",
       "    </tr>\n",
       "    <tr>\n",
       "      <th>1970-01-01 00:00:00.000005223</th>\n",
       "      <td>2025-08-28</td>\n",
       "      <td>5.4177</td>\n",
       "    </tr>\n",
       "    <tr>\n",
       "      <th>1970-01-01 00:00:00.000005224</th>\n",
       "      <td>2025-08-29</td>\n",
       "      <td>5.4130</td>\n",
       "    </tr>\n",
       "    <tr>\n",
       "      <th>1970-01-01 00:00:00.000005225</th>\n",
       "      <td>2025-09-01</td>\n",
       "      <td>5.4324</td>\n",
       "    </tr>\n",
       "    <tr>\n",
       "      <th>1970-01-01 00:00:00.000005226</th>\n",
       "      <td>2025-09-02</td>\n",
       "      <td>5.4384</td>\n",
       "    </tr>\n",
       "    <tr>\n",
       "      <th>1970-01-01 00:00:00.000005227</th>\n",
       "      <td>2025-09-03</td>\n",
       "      <td>5.4670</td>\n",
       "    </tr>\n",
       "  </tbody>\n",
       "</table>\n",
       "<p>5228 rows × 2 columns</p>\n",
       "</div>"
      ],
      "text/plain": [
       "                                     Date  USDBRL=X\n",
       "1970-01-01 00:00:00.000000000  2003-12-01    2.9230\n",
       "1970-01-01 00:00:00.000000001  2003-12-02    2.9310\n",
       "1970-01-01 00:00:00.000000002  2003-12-03    2.9310\n",
       "1970-01-01 00:00:00.000000003  2003-12-04    2.9430\n",
       "1970-01-01 00:00:00.000000004  2003-12-05    2.9340\n",
       "...                                   ...       ...\n",
       "1970-01-01 00:00:00.000005223  2025-08-28    5.4177\n",
       "1970-01-01 00:00:00.000005224  2025-08-29    5.4130\n",
       "1970-01-01 00:00:00.000005225  2025-09-01    5.4324\n",
       "1970-01-01 00:00:00.000005226  2025-09-02    5.4384\n",
       "1970-01-01 00:00:00.000005227  2025-09-03    5.4670\n",
       "\n",
       "[5228 rows x 2 columns]"
      ]
     },
     "execution_count": 12,
     "metadata": {},
     "output_type": "execute_result"
    }
   ],
   "source": [
    "data"
   ]
  },
  {
   "cell_type": "code",
   "execution_count": 13,
   "id": "745462de",
   "metadata": {},
   "outputs": [],
   "source": [
    "data = data.asfreq('D')"
   ]
  },
  {
   "cell_type": "code",
   "execution_count": 14,
   "id": "5fd6e789",
   "metadata": {},
   "outputs": [
    {
     "data": {
      "text/html": [
       "<div>\n",
       "<style scoped>\n",
       "    .dataframe tbody tr th:only-of-type {\n",
       "        vertical-align: middle;\n",
       "    }\n",
       "\n",
       "    .dataframe tbody tr th {\n",
       "        vertical-align: top;\n",
       "    }\n",
       "\n",
       "    .dataframe thead th {\n",
       "        text-align: right;\n",
       "    }\n",
       "</style>\n",
       "<table border=\"1\" class=\"dataframe\">\n",
       "  <thead>\n",
       "    <tr style=\"text-align: right;\">\n",
       "      <th></th>\n",
       "      <th>Date</th>\n",
       "      <th>USDBRL=X</th>\n",
       "    </tr>\n",
       "  </thead>\n",
       "  <tbody>\n",
       "    <tr>\n",
       "      <th>1970-01-01</th>\n",
       "      <td>2003-12-01</td>\n",
       "      <td>2.923</td>\n",
       "    </tr>\n",
       "  </tbody>\n",
       "</table>\n",
       "</div>"
      ],
      "text/plain": [
       "                  Date  USDBRL=X\n",
       "1970-01-01  2003-12-01     2.923"
      ]
     },
     "execution_count": 14,
     "metadata": {},
     "output_type": "execute_result"
    }
   ],
   "source": [
    "data"
   ]
  },
  {
   "cell_type": "markdown",
   "id": "eaf7607b",
   "metadata": {},
   "source": [
    "# Análise Exploratória e Preparação dos Dados\n",
    "\n",
    "Vamos fazer uma análise completa dos dados para identificar padrões, sazonalidade e tendências que o modelo possa capturar melhor."
   ]
  },
  {
   "cell_type": "code",
   "execution_count": 9,
   "id": "caf50934",
   "metadata": {},
   "outputs": [
    {
     "name": "stdout",
     "output_type": "stream",
     "text": [
      "ADF Statistic:  -0.33309634560827034\n",
      "p-value:  0.9206843426926521\n"
     ]
    }
   ],
   "source": [
    "result = adfuller(data['USDBRL=X'])\n",
    "print('ADF Statistic: ', result[0])\n",
    "print('p-value: ', result[1])"
   ]
  },
  {
   "cell_type": "code",
   "execution_count": 12,
   "id": "7e0f96a4",
   "metadata": {},
   "outputs": [],
   "source": [
    "if result[1] > 0.05:\n",
    "    data['diff'] = data['USDBRL=X'].diff().dropna()\n",
    "else:\n",
    "    data['diff'] = data['USDBRL=X']"
   ]
  },
  {
   "cell_type": "code",
   "execution_count": 13,
   "id": "41df53ab",
   "metadata": {},
   "outputs": [
    {
     "data": {
      "image/png": "[encoded data removed]",
      "text/plain": [
       "<Figure size 640x480 with 2 Axes>"
      ]
     },
     "metadata": {},
     "output_type": "display_data"
    }
   ],
   "source": [
    "lag_acf = acf(data['diff'].dropna(), nlags=20)\n",
    "lag_pacf = pacf(data['diff'].dropna(), nlags=20)\n",
    "\n",
    "plt.subplot(121)\n",
    "plt.plot(lag_acf)\n",
    "plt.title('ACF')\n",
    "plt.subplot(122)\n",
    "plt.plot(lag_pacf)\n",
    "plt.title('PACF')\n",
    "plt.show()"
   ]
  },
  {
   "cell_type": "code",
   "execution_count": 14,
   "id": "8266b0e0",
   "metadata": {},
   "outputs": [
    {
     "name": "stdout",
     "output_type": "stream",
     "text": [
      "                               SARIMAX Results                                \n",
      "==============================================================================\n",
      "Dep. Variable:               USDBRL=X   No. Observations:                 5228\n",
      "Model:                 ARIMA(5, 1, 0)   Log Likelihood                9352.748\n",
      "Date:                Fri, 05 Sep 2025   AIC                         -18693.496\n",
      "Time:                        19:28:59   BIC                         -18654.127\n",
      "Sample:                             0   HQIC                        -18679.729\n",
      "                               - 5228                                         \n",
      "Covariance Type:                  opg                                         \n",
      "==============================================================================\n",
      "                 coef    std err          z      P>|z|      [0.025      0.975]\n",
      "------------------------------------------------------------------------------\n",
      "ar.L1         -0.1062      0.007    -14.266      0.000      -0.121      -0.092\n",
      "ar.L2         -0.0142      0.009     -1.518      0.129      -0.033       0.004\n",
      "ar.L3         -0.0221      0.010     -2.324      0.020      -0.041      -0.003\n",
      "ar.L4         -0.0064      0.010     -0.611      0.541      -0.027       0.014\n",
      "ar.L5         -0.0054      0.010     -0.537      0.591      -0.025       0.014\n",
      "sigma2         0.0016   7.62e-06    214.427      0.000       0.002       0.002\n",
      "===================================================================================\n",
      "Ljung-Box (L1) (Q):                   0.00   Jarque-Bera (JB):            251622.32\n",
      "Prob(Q):                              0.98   Prob(JB):                         0.00\n",
      "Heteroskedasticity (H):               2.56   Skew:                            -1.38\n",
      "Prob(H) (two-sided):                  0.00   Kurtosis:                        36.88\n",
      "===================================================================================\n",
      "\n",
      "Warnings:\n",
      "[1] Covariance matrix calculated using the outer product of gradients (complex-step).\n"
     ]
    }
   ],
   "source": [
    "model = ARIMA(data['USDBRL=X'], order=(5, 1, 0)).fit()\n",
    "print(model.summary())"
   ]
  },
  {
   "cell_type": "code",
   "execution_count": 18,
   "id": "b943b016",
   "metadata": {},
   "outputs": [
    {
     "name": "stdout",
     "output_type": "stream",
     "text": [
      "7-Day Forecast:  5228    5.463550\n",
      "5229    5.463279\n",
      "5230    5.462582\n",
      "5231    5.462521\n",
      "5232    5.462411\n",
      "5233    5.462460\n",
      "5234    5.462463\n",
      "Name: predicted_mean, dtype: float64\n"
     ]
    }
   ],
   "source": [
    "forecast = model.forecast(steps=7)\n",
    "print('7-Day Forecast: ', forecast)"
   ]
  },
  {
   "cell_type": "code",
   "execution_count": null,
   "id": "474d8ddd",
   "metadata": {},
   "outputs": [
    {
     "data": {
      "image/png": "[encoded data removed]",
      "text/plain": [
       "<Figure size 640x480 with 1 Axes>"
      ]
     },
     "metadata": {},
     "output_type": "display_data"
    }
   ],
   "source": [
    "data['USDBRL=X'].tail(7).plot(label='Historical')\n",
    "forecast.plot(label='Forecast', color='red')\n",
    "plt.legend()\n",
    "plt.show()"
   ]
  }
 ],
 "metadata": {
  "kernelspec": {
   "display_name": ".venv (3.12.3)",
   "language": "python",
   "name": "python3"
  },
  "language_info": {
   "codemirror_mode": {
    "name": "ipython",
    "version": 3
   },
   "file_extension": ".py",
   "mimetype": "text/x-python",
   "name": "python",
   "nbconvert_exporter": "python",
   "pygments_lexer": "ipython3",
   "version": "3.12.3"
  }
 },
 "nbformat": 4,
 "nbformat_minor": 5
}
