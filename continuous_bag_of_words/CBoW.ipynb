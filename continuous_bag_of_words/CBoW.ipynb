{
 "cells": [
  {
   "cell_type": "markdown",
   "id": "eca01361",
   "metadata": {},
   "source": [
    "# Início\n",
    "\n",
    "## Como funciona o CBoW?\n",
    "Diferentemente do BoW, que somente \"conta\" a quantidade de ocorrências de uma palavra em uma frase e determina a positividade geral com base em pesos já predefinidos (não levando em conta contexto e outros fatores), o CBoW (Continuous Bag of Words) analisa todo o contexto da frase, de maneira a identificar mais precisamente o valor da frase em si (positivo ou negativo)."
   ]
  },
  {
   "cell_type": "markdown",
   "id": "21e5b685",
   "metadata": {},
   "source": [
    "## Importações"
   ]
  },
  {
   "cell_type": "code",
   "execution_count": null,
   "id": "65f23437",
   "metadata": {},
   "outputs": [],
   "source": [
    "# ---- Importações ----\n",
    "import pandas as pd\n",
    "import re\n",
    "import string\n",
    "\n",
    "from sklearn.feature_extraction.text import TfidfVectorizer\n",
    "from sklearn.linear_model import LogisticRegression\n",
    "from sklearn.model_selection import cross_val_score\n",
    "from sklearn.metrics import accuracy_score"
   ]
  },
  {
   "cell_type": "markdown",
   "id": "5d8fde72",
   "metadata": {},
   "source": [
    "## Definição dos Dados"
   ]
  },
  {
   "cell_type": "code",
   "execution_count": null,
   "id": "c431fa52",
   "metadata": {},
   "outputs": [],
   "source": [
    "# ---- Dados ----\n",
    "sentiment_1 = pd.read_csv('../data/financial_sentiment_1/data.csv')\n",
    "sentiment_2 = pd.read_csv('../data/financial_sentiment_2/data.csv', encoding='latin1')\n",
    "sentiment_3 = pd.read_csv('../data/financial_sentiment_3/data.csv')\n",
    "\n",
    "# --- Tratamento 1 ---\n",
    "sentiment_1['Sentiment'] = sentiment_1['Sentiment'].map({'positive': 1, 'negative': 0, 'neutral': 2})\n",
    "\n",
    "# --- Tratamento 2 ---\n",
    "sentiment_2.columns = ['Sentiment', 'Sentence']\n",
    "sentiment_2 = sentiment_2[['Sentence', 'Sentiment']]\n",
    "sentiment_2['Sentiment'] = sentiment_2['Sentiment'].map({'positive': 1, 'negative': 0, 'neutral': 2})\n",
    "\n",
    "# --- Tratamento 3 ---\n",
    "# Os dados 3 estão mais completos, talvez essas informações podem ser usadas.\n",
    "sentiment_3 = pd.DataFrame({\n",
    "    'Sentence' :sentiment_3['Title'],\n",
    "    'Sentiment' :sentiment_3['Sentiment'],\n",
    "})\n",
    "sentiment_3['Sentiment'] = sentiment_3['Sentiment'].map({'positive': 1, 'negative': 0, 'neutral': 2})"
   ]
  },
  {
   "cell_type": "code",
   "execution_count": null,
   "id": "b7a25a04",
   "metadata": {},
   "outputs": [
    {
     "name": "stdout",
     "output_type": "stream",
     "text": [
      "\n",
      "    Quantidade Data 1: 5842\n",
      "    Quantidade Data 2: 4845\n",
      "    Quantidade Data 3: 3500\n",
      "\n"
     ]
    }
   ],
   "source": [
    "print(f'''\n",
    "    Quantidade Data 1: {len(sentiment_1)}\n",
    "    Quantidade Data 2: {len(sentiment_2)}\n",
    "    Quantidade Data 3: {len(sentiment_3)}\n",
    "''')"
   ]
  },
  {
   "cell_type": "code",
   "execution_count": null,
   "id": "ac813c76",
   "metadata": {},
   "outputs": [],
   "source": [
    "# ---- Dataset Final ----\n",
    "df = pd.concat([sentiment_1, sentiment_2, sentiment_3], ignore_index=True)\n",
    "df = df.drop((df.loc[df['Sentiment'] == 2]).index)\n",
    "df = df.dropna(subset=['Sentence', 'Sentiment'])"
   ]
  }
 ],
 "metadata": {
  "language_info": {
   "name": "python"
  }
 },
 "nbformat": 4,
 "nbformat_minor": 5
}
