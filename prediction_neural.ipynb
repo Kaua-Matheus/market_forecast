{
 "cells": [
  {
   "cell_type": "markdown",
   "id": "fcc9164e",
   "metadata": {},
   "source": [
    "# Inicio\n",
    "Iremos usar um modelo de rede neural para manipular séries temporais.\\\n",
    "Iremos usar o NeuralProphet"
   ]
  },
  {
   "cell_type": "code",
   "execution_count": 1,
   "id": "2aa2ec9d",
   "metadata": {},
   "outputs": [
    {
     "name": "stderr",
     "output_type": "stream",
     "text": [
      "/home/operador/Documentos/Estudos/Projetos/ScienceMarket/.venv/lib/python3.12/site-packages/lightning_fabric/__init__.py:29: UserWarning: pkg_resources is deprecated as an API. See https://setuptools.pypa.io/en/latest/pkg_resources.html. The pkg_resources package is slated for removal as early as 2025-11-30. Refrain from using this package or pin to Setuptools<81.\n",
      "  __import__(\"pkg_resources\").declare_namespace(__name__)\n",
      "/home/operador/Documentos/Estudos/Projetos/ScienceMarket/.venv/lib/python3.12/site-packages/tqdm/auto.py:21: TqdmWarning: IProgress not found. Please update jupyter and ipywidgets. See https://ipywidgets.readthedocs.io/en/stable/user_install.html\n",
      "  from .autonotebook import tqdm as notebook_tqdm\n",
      "Importing plotly failed. Interactive plots will not work.\n",
      "Importing plotly failed. Interactive plots will not work.\n"
     ]
    }
   ],
   "source": [
    "import pandas as pd\n",
    "import matplotlib.pyplot as plt\n",
    "import numpy as np\n",
    "import yfinance as yf\n",
    "import torch\n",
    "\n",
    "# from sklearn.metrics import (\n",
    "#     r2_score,\n",
    "#     mean_absolute_error,\n",
    "#     mean_absolute_percentage_error\n",
    "# )\n",
    "\n",
    "from neuralprophet.configure import Season\n",
    "torch.serialization.add_safe_globals([Season])\n",
    "\n",
    "import neuralprophet"
   ]
  },
  {
   "cell_type": "code",
   "execution_count": 10,
   "id": "8829ad6e",
   "metadata": {},
   "outputs": [
    {
     "name": "stderr",
     "output_type": "stream",
     "text": [
      "WARNING - (py.warnings._showwarnmsg) - /tmp/ipykernel_331414/1598541041.py:5: FutureWarning:\n",
      "\n",
      "YF.download() has changed argument auto_adjust default to True\n",
      "\n",
      "\n",
      "[*********************100%***********************]  1 of 1 completed\n"
     ]
    }
   ],
   "source": [
    "codigo = 'BRL=X'\n",
    "inicio = '2000-01-01'\n",
    "fim = '2025-09-04'\n",
    "\n",
    "data = yf.download(codigo, start=inicio, end=fim, multi_level_index=False)"
   ]
  },
  {
   "cell_type": "code",
   "execution_count": 11,
   "id": "dcc8c251",
   "metadata": {},
   "outputs": [],
   "source": [
    "# Transformando em dataframe\n",
    "df = pd.DataFrame(data)\n",
    "\n",
    "# Transformando dados\n",
    "df = df[['Close']].reset_index()\n",
    "df.columns = ['ds', 'y']"
   ]
  },
  {
   "cell_type": "markdown",
   "id": "08f8453d",
   "metadata": {},
   "source": [
    "## Modelo\n",
    "Iremos treinar o modelo com os dados"
   ]
  },
  {
   "cell_type": "code",
   "execution_count": 12,
   "id": "7189843d",
   "metadata": {},
   "outputs": [],
   "source": [
    "df_formatted = pd.DataFrame({\n",
    "    'ds': pd.to_datetime(df['ds']),\n",
    "    'y': df['y'].astype(float)\n",
    "})\n",
    "df_formatted = df_formatted.dropna()\n",
    "df_formatted = df_formatted.sort_values('ds').reset_index(drop=True)"
   ]
  },
  {
   "cell_type": "code",
   "execution_count": 13,
   "id": "db24cdcf",
   "metadata": {},
   "outputs": [
    {
     "name": "stderr",
     "output_type": "stream",
     "text": [
      "INFO - (NP.config.__post_init__) - Note: Trend changepoint regularization is experimental.\n",
      "WARNING - (NP.forecaster.fit) - When Global modeling with local normalization, metrics are displayed in normalized scale.\n",
      "WARNING - (py.warnings._showwarnmsg) - /home/operador/Documentos/Estudos/Projetos/ScienceMarket/.venv/lib/python3.12/site-packages/neuralprophet/df_utils.py:464: FutureWarning:\n",
      "\n",
      "DataFrameGroupBy.apply operated on the grouping columns. This behavior is deprecated, and in a future version of pandas the grouping columns will be excluded from the operation. Either pass `include_groups=False` to exclude the groupings or explicitly select the grouping columns after groupby to silence this warning.\n",
      "\n",
      "\n",
      "WARNING - (py.warnings._showwarnmsg) - /home/operador/Documentos/Estudos/Projetos/ScienceMarket/.venv/lib/python3.12/site-packages/neuralprophet/df_utils.py:1152: FutureWarning:\n",
      "\n",
      "Series.view is deprecated and will be removed in a future version. Use ``astype`` as an alternative to change the dtype.\n",
      "\n",
      "\n",
      "INFO - (NP.df_utils._infer_frequency) - Major frequency B corresponds to 99.541% of the data.\n",
      "WARNING - (py.warnings._showwarnmsg) - /home/operador/Documentos/Estudos/Projetos/ScienceMarket/.venv/lib/python3.12/site-packages/neuralprophet/df_utils.py:1152: FutureWarning:\n",
      "\n",
      "Series.view is deprecated and will be removed in a future version. Use ``astype`` as an alternative to change the dtype.\n",
      "\n",
      "\n",
      "WARNING - (py.warnings._showwarnmsg) - /home/operador/Documentos/Estudos/Projetos/ScienceMarket/.venv/lib/python3.12/site-packages/neuralprophet/df_utils.py:1152: FutureWarning:\n",
      "\n",
      "Series.view is deprecated and will be removed in a future version. Use ``astype`` as an alternative to change the dtype.\n",
      "\n",
      "\n",
      "INFO - (NP.df_utils._infer_frequency) - Defined frequency is equal to major frequency - D\n",
      "INFO - (NP.config.init_data_params) - Setting normalization to global as only one dataframe provided for training.\n",
      "INFO - (NP.config.set_auto_batch_epoch) - Auto-set epochs to 70\n"
     ]
    },
    {
     "name": "stdout",
     "output_type": "stream",
     "text": [
      "Epoch 70: 100%|██████████| 70/70 [00:00<00:00, 226.39it/s, loss=0.099, v_num=4, MAE=0.301, RMSE=0.400, Loss=0.0941, RegLoss=0.000]   \n"
     ]
    }
   ],
   "source": [
    "modelo = neuralprophet.NeuralProphet(\n",
    "    growth='linear',\n",
    "    yearly_seasonality=False,\n",
    "    weekly_seasonality=False,\n",
    "    daily_seasonality=True,\n",
    "    batch_size=64,\n",
    "    learning_rate=0.01,\n",
    "    normalize='standardize',\n",
    "    trend_reg=0.1,\n",
    "    trend_reg_threshold=False\n",
    ")\n",
    "metrics = modelo.fit(\n",
    "    df_formatted,\n",
    "    freq='D',\n",
    "    validation_df=None,\n",
    "    progress='bar'\n",
    "    )"
   ]
  },
  {
   "cell_type": "markdown",
   "id": "086e59c0",
   "metadata": {},
   "source": [
    "### Testando modelo"
   ]
  },
  {
   "cell_type": "code",
   "execution_count": 14,
   "id": "ef9883ee",
   "metadata": {},
   "outputs": [
    {
     "name": "stderr",
     "output_type": "stream",
     "text": [
      "WARNING - (py.warnings._showwarnmsg) - /home/operador/Documentos/Estudos/Projetos/ScienceMarket/.venv/lib/python3.12/site-packages/neuralprophet/df_utils.py:1152: FutureWarning:\n",
      "\n",
      "Series.view is deprecated and will be removed in a future version. Use ``astype`` as an alternative to change the dtype.\n",
      "\n",
      "\n",
      "INFO - (NP.df_utils._infer_frequency) - Major frequency B corresponds to 99.541% of the data.\n"
     ]
    },
    {
     "name": "stderr",
     "output_type": "stream",
     "text": [
      "WARNING - (py.warnings._showwarnmsg) - /home/operador/Documentos/Estudos/Projetos/ScienceMarket/.venv/lib/python3.12/site-packages/neuralprophet/df_utils.py:1152: FutureWarning:\n",
      "\n",
      "Series.view is deprecated and will be removed in a future version. Use ``astype`` as an alternative to change the dtype.\n",
      "\n",
      "\n",
      "WARNING - (py.warnings._showwarnmsg) - /home/operador/Documentos/Estudos/Projetos/ScienceMarket/.venv/lib/python3.12/site-packages/neuralprophet/df_utils.py:1152: FutureWarning:\n",
      "\n",
      "Series.view is deprecated and will be removed in a future version. Use ``astype`` as an alternative to change the dtype.\n",
      "\n",
      "\n",
      "INFO - (NP.df_utils._infer_frequency) - Defined frequency is equal to major frequency - D\n",
      "INFO - (NP.df_utils.return_df_in_original_format) - Returning df with no ID column\n",
      "WARNING - (py.warnings._showwarnmsg) - /home/operador/Documentos/Estudos/Projetos/ScienceMarket/.venv/lib/python3.12/site-packages/neuralprophet/df_utils.py:1152: FutureWarning:\n",
      "\n",
      "Series.view is deprecated and will be removed in a future version. Use ``astype`` as an alternative to change the dtype.\n",
      "\n",
      "\n",
      "INFO - (NP.df_utils._infer_frequency) - Major frequency D corresponds to 99.726% of the data.\n",
      "WARNING - (py.warnings._showwarnmsg) - /home/operador/Documentos/Estudos/Projetos/ScienceMarket/.venv/lib/python3.12/site-packages/neuralprophet/df_utils.py:1152: FutureWarning:\n",
      "\n",
      "Series.view is deprecated and will be removed in a future version. Use ``astype`` as an alternative to change the dtype.\n",
      "\n",
      "\n",
      "WARNING - (py.warnings._showwarnmsg) - /home/operador/Documentos/Estudos/Projetos/ScienceMarket/.venv/lib/python3.12/site-packages/neuralprophet/df_utils.py:1152: FutureWarning:\n",
      "\n",
      "Series.view is deprecated and will be removed in a future version. Use ``astype`` as an alternative to change the dtype.\n",
      "\n",
      "\n",
      "INFO - (NP.df_utils._infer_frequency) - Defined frequency is equal to major frequency - D\n",
      "WARNING - (py.warnings._showwarnmsg) - /home/operador/Documentos/Estudos/Projetos/ScienceMarket/.venv/lib/python3.12/site-packages/neuralprophet/df_utils.py:1152: FutureWarning:\n",
      "\n",
      "Series.view is deprecated and will be removed in a future version. Use ``astype`` as an alternative to change the dtype.\n",
      "\n",
      "\n",
      "INFO - (NP.df_utils._infer_frequency) - Major frequency D corresponds to 99.726% of the data.\n",
      "WARNING - (py.warnings._showwarnmsg) - /home/operador/Documentos/Estudos/Projetos/ScienceMarket/.venv/lib/python3.12/site-packages/neuralprophet/df_utils.py:1152: FutureWarning:\n",
      "\n",
      "Series.view is deprecated and will be removed in a future version. Use ``astype`` as an alternative to change the dtype.\n",
      "\n",
      "\n",
      "WARNING - (py.warnings._showwarnmsg) - /home/operador/Documentos/Estudos/Projetos/ScienceMarket/.venv/lib/python3.12/site-packages/neuralprophet/df_utils.py:1152: FutureWarning:\n",
      "\n",
      "Series.view is deprecated and will be removed in a future version. Use ``astype`` as an alternative to change the dtype.\n",
      "\n",
      "\n",
      "INFO - (NP.df_utils._infer_frequency) - Defined frequency is equal to major frequency - D\n",
      "WARNING - (py.warnings._showwarnmsg) - /home/operador/Documentos/Estudos/Projetos/ScienceMarket/.venv/lib/python3.12/site-packages/neuralprophet/df_utils.py:464: FutureWarning:\n",
      "\n",
      "DataFrameGroupBy.apply operated on the grouping columns. This behavior is deprecated, and in a future version of pandas the grouping columns will be excluded from the operation. Either pass `include_groups=False` to exclude the groupings or explicitly select the grouping columns after groupby to silence this warning.\n",
      "\n",
      "\n",
      "WARNING - (py.warnings._showwarnmsg) - /home/operador/Documentos/Estudos/Projetos/ScienceMarket/.venv/lib/python3.12/site-packages/neuralprophet/data/process.py:517: FutureWarning:\n",
      "\n",
      "DataFrameGroupBy.apply operated on the grouping columns. This behavior is deprecated, and in a future version of pandas the grouping columns will be excluded from the operation. Either pass `include_groups=False` to exclude the groupings or explicitly select the grouping columns after groupby to silence this warning.\n",
      "\n",
      "\n"
     ]
    },
    {
     "name": "stdout",
     "output_type": "stream",
     "text": [
      "Predicting DataLoader 0: 100%|██████████| 1/1 [00:00<00:00, 345.95it/s]"
     ]
    },
    {
     "name": "stderr",
     "output_type": "stream",
     "text": [
      "INFO - (NP.df_utils.return_df_in_original_format) - Returning df with no ID column\n",
      "WARNING - (py.warnings._showwarnmsg) - /home/operador/Documentos/Estudos/Projetos/ScienceMarket/.venv/lib/python3.12/site-packages/neuralprophet/df_utils.py:1152: FutureWarning:\n",
      "\n",
      "Series.view is deprecated and will be removed in a future version. Use ``astype`` as an alternative to change the dtype.\n",
      "\n",
      "\n",
      "INFO - (NP.df_utils._infer_frequency) - Major frequency B corresponds to 99.541% of the data.\n",
      "WARNING - (py.warnings._showwarnmsg) - /home/operador/Documentos/Estudos/Projetos/ScienceMarket/.venv/lib/python3.12/site-packages/neuralprophet/df_utils.py:1152: FutureWarning:\n",
      "\n",
      "Series.view is deprecated and will be removed in a future version. Use ``astype`` as an alternative to change the dtype.\n",
      "\n",
      "\n",
      "WARNING - (py.warnings._showwarnmsg) - /home/operador/Documentos/Estudos/Projetos/ScienceMarket/.venv/lib/python3.12/site-packages/neuralprophet/df_utils.py:1152: FutureWarning:\n",
      "\n",
      "Series.view is deprecated and will be removed in a future version. Use ``astype`` as an alternative to change the dtype.\n",
      "\n",
      "\n",
      "INFO - (NP.df_utils._infer_frequency) - Defined frequency is equal to major frequency - D\n",
      "WARNING - (py.warnings._showwarnmsg) - /home/operador/Documentos/Estudos/Projetos/ScienceMarket/.venv/lib/python3.12/site-packages/neuralprophet/df_utils.py:1152: FutureWarning:\n",
      "\n",
      "Series.view is deprecated and will be removed in a future version. Use ``astype`` as an alternative to change the dtype.\n",
      "\n",
      "\n",
      "INFO - (NP.df_utils._infer_frequency) - Major frequency B corresponds to 99.541% of the data.\n",
      "WARNING - (py.warnings._showwarnmsg) - /home/operador/Documentos/Estudos/Projetos/ScienceMarket/.venv/lib/python3.12/site-packages/neuralprophet/df_utils.py:1152: FutureWarning:\n",
      "\n",
      "Series.view is deprecated and will be removed in a future version. Use ``astype`` as an alternative to change the dtype.\n",
      "\n",
      "\n",
      "WARNING - (py.warnings._showwarnmsg) - /home/operador/Documentos/Estudos/Projetos/ScienceMarket/.venv/lib/python3.12/site-packages/neuralprophet/df_utils.py:1152: FutureWarning:\n",
      "\n",
      "Series.view is deprecated and will be removed in a future version. Use ``astype`` as an alternative to change the dtype.\n",
      "\n",
      "\n",
      "INFO - (NP.df_utils._infer_frequency) - Defined frequency is equal to major frequency - D\n",
      "WARNING - (py.warnings._showwarnmsg) - /home/operador/Documentos/Estudos/Projetos/ScienceMarket/.venv/lib/python3.12/site-packages/neuralprophet/df_utils.py:464: FutureWarning:\n",
      "\n",
      "DataFrameGroupBy.apply operated on the grouping columns. This behavior is deprecated, and in a future version of pandas the grouping columns will be excluded from the operation. Either pass `include_groups=False` to exclude the groupings or explicitly select the grouping columns after groupby to silence this warning.\n",
      "\n",
      "\n"
     ]
    },
    {
     "name": "stdout",
     "output_type": "stream",
     "text": [
      "\n",
      "Predicting DataLoader 0: 100%|██████████| 6/6 [00:00<00:00, 312.73it/s]\n"
     ]
    },
    {
     "name": "stderr",
     "output_type": "stream",
     "text": [
      "INFO - (NP.df_utils.return_df_in_original_format) - Returning df with no ID column\n"
     ]
    }
   ],
   "source": [
    "dados_futuros = modelo.make_future_dataframe(df_formatted, periods=365)\n",
    "previsao_futura = modelo.predict(dados_futuros)\n",
    "\n",
    "previsoes_historicas = modelo.predict(df_formatted)"
   ]
  },
  {
   "cell_type": "code",
   "execution_count": 15,
   "id": "f72aa08e",
   "metadata": {},
   "outputs": [
    {
     "data": {
      "text/html": [
       "<div>\n",
       "<style scoped>\n",
       "    .dataframe tbody tr th:only-of-type {\n",
       "        vertical-align: middle;\n",
       "    }\n",
       "\n",
       "    .dataframe tbody tr th {\n",
       "        vertical-align: top;\n",
       "    }\n",
       "\n",
       "    .dataframe thead th {\n",
       "        text-align: right;\n",
       "    }\n",
       "</style>\n",
       "<table border=\"1\" class=\"dataframe\">\n",
       "  <thead>\n",
       "    <tr style=\"text-align: right;\">\n",
       "      <th></th>\n",
       "      <th>ds</th>\n",
       "      <th>y</th>\n",
       "      <th>yhat1</th>\n",
       "      <th>trend</th>\n",
       "      <th>season_daily</th>\n",
       "    </tr>\n",
       "  </thead>\n",
       "  <tbody>\n",
       "    <tr>\n",
       "      <th>0</th>\n",
       "      <td>2025-09-04</td>\n",
       "      <td>None</td>\n",
       "      <td>6.033775</td>\n",
       "      <td>8.111540</td>\n",
       "      <td>-2.077765</td>\n",
       "    </tr>\n",
       "    <tr>\n",
       "      <th>1</th>\n",
       "      <td>2025-09-05</td>\n",
       "      <td>None</td>\n",
       "      <td>6.028272</td>\n",
       "      <td>8.112463</td>\n",
       "      <td>-2.084191</td>\n",
       "    </tr>\n",
       "    <tr>\n",
       "      <th>2</th>\n",
       "      <td>2025-09-06</td>\n",
       "      <td>None</td>\n",
       "      <td>6.035486</td>\n",
       "      <td>8.113386</td>\n",
       "      <td>-2.077900</td>\n",
       "    </tr>\n",
       "    <tr>\n",
       "      <th>3</th>\n",
       "      <td>2025-09-07</td>\n",
       "      <td>None</td>\n",
       "      <td>6.035320</td>\n",
       "      <td>8.114308</td>\n",
       "      <td>-2.078988</td>\n",
       "    </tr>\n",
       "    <tr>\n",
       "      <th>4</th>\n",
       "      <td>2025-09-08</td>\n",
       "      <td>None</td>\n",
       "      <td>6.029633</td>\n",
       "      <td>8.115232</td>\n",
       "      <td>-2.085600</td>\n",
       "    </tr>\n",
       "  </tbody>\n",
       "</table>\n",
       "</div>"
      ],
      "text/plain": [
       "          ds     y     yhat1     trend  season_daily\n",
       "0 2025-09-04  None  6.033775  8.111540     -2.077765\n",
       "1 2025-09-05  None  6.028272  8.112463     -2.084191\n",
       "2 2025-09-06  None  6.035486  8.113386     -2.077900\n",
       "3 2025-09-07  None  6.035320  8.114308     -2.078988\n",
       "4 2025-09-08  None  6.029633  8.115232     -2.085600"
      ]
     },
     "execution_count": 15,
     "metadata": {},
     "output_type": "execute_result"
    }
   ],
   "source": [
    "previsao_futura.head()"
   ]
  },
  {
   "cell_type": "code",
   "execution_count": 16,
   "id": "cfce2521",
   "metadata": {},
   "outputs": [
    {
     "name": "stderr",
     "output_type": "stream",
     "text": [
      "ERROR - (NP.plotly.plot_components) - plotly-resampler is not installed. Please install it to use the resampler.\n",
      "WARNING - (py.warnings._showwarnmsg) - /home/operador/Documentos/Estudos/Projetos/ScienceMarket/.venv/lib/python3.12/site-packages/neuralprophet/plot_forecast_plotly.py:283: FutureWarning:\n",
      "\n",
      "Downcasting object dtype arrays on .fillna, .ffill, .bfill is deprecated and will change in a future version. Call result.infer_objects(copy=False) instead. To opt-in to the future behavior, set `pd.set_option('future.no_silent_downcasting', True)`\n",
      "\n",
      "\n",
      "WARNING - (py.warnings._showwarnmsg) - /home/operador/Documentos/Estudos/Projetos/ScienceMarket/.venv/lib/python3.12/site-packages/neuralprophet/plot_forecast_plotly.py:410: FutureWarning:\n",
      "\n",
      "The behavior of DatetimeProperties.to_pydatetime is deprecated, in a future version this will return a Series containing python datetime objects instead of an ndarray. To retain the old behavior, call `np.array` on the result\n",
      "\n",
      "\n"
     ]
    },
    {
     "data": {
      "application/vnd.plotly.v1+json": {
       "config": {
        "plotlyServerURL": "https://plot.ly"
       },
       "data": [
        {
         "line": {
          "color": "#2d92ff",
          "width": 2
         },
         "mode": "lines",
         "name": "Trend",
         "showlegend": false,
         "type": "scatter",
         "x": [
          "2025-09-04T00:00:00",
          "2025-09-05T00:00:00",
          "2025-09-06T00:00:00",
          "2025-09-07T00:00:00",
          "2025-09-08T00:00:00",
          "2025-09-09T00:00:00",
          "2025-09-10T00:00:00",
          "2025-09-11T00:00:00",
          "2025-09-12T00:00:00",
          "2025-09-13T00:00:00",
          "2025-09-14T00:00:00",
          "2025-09-15T00:00:00",
          "2025-09-16T00:00:00",
          "2025-09-17T00:00:00",
          "2025-09-18T00:00:00",
          "2025-09-19T00:00:00",
          "2025-09-20T00:00:00",
          "2025-09-21T00:00:00",
          "2025-09-22T00:00:00",
          "2025-09-23T00:00:00",
          "2025-09-24T00:00:00",
          "2025-09-25T00:00:00",
          "2025-09-26T00:00:00",
          "2025-09-27T00:00:00",
          "2025-09-28T00:00:00",
          "2025-09-29T00:00:00",
          "2025-09-30T00:00:00",
          "2025-10-01T00:00:00",
          "2025-10-02T00:00:00",
          "2025-10-03T00:00:00",
          "2025-10-04T00:00:00",
          "2025-10-05T00:00:00",
          "2025-10-06T00:00:00",
          "2025-10-07T00:00:00",
          "2025-10-08T00:00:00",
          "2025-10-09T00:00:00",
          "2025-10-10T00:00:00",
          "2025-10-11T00:00:00",
          "2025-10-12T00:00:00",
          "2025-10-13T00:00:00",
          "2025-10-14T00:00:00",
          "2025-10-15T00:00:00",
          "2025-10-16T00:00:00",
          "2025-10-17T00:00:00",
          "2025-10-18T00:00:00",
          "2025-10-19T00:00:00",
          "2025-10-20T00:00:00",
          "2025-10-21T00:00:00",
          "2025-10-22T00:00:00",
          "2025-10-23T00:00:00",
          "2025-10-24T00:00:00",
          "2025-10-25T00:00:00",
          "2025-10-26T00:00:00",
          "2025-10-27T00:00:00",
          "2025-10-28T00:00:00",
          "2025-10-29T00:00:00",
          "2025-10-30T00:00:00",
          "2025-10-31T00:00:00",
          "2025-11-01T00:00:00",
          "2025-11-02T00:00:00",
          "2025-11-03T00:00:00",
          "2025-11-04T00:00:00",
          "2025-11-05T00:00:00",
          "2025-11-06T00:00:00",
          "2025-11-07T00:00:00",
          "2025-11-08T00:00:00",
          "2025-11-09T00:00:00",
          "2025-11-10T00:00:00",
          "2025-11-11T00:00:00",
          "2025-11-12T00:00:00",
          "2025-11-13T00:00:00",
          "2025-11-14T00:00:00",
          "2025-11-15T00:00:00",
          "2025-11-16T00:00:00",
          "2025-11-17T00:00:00",
          "2025-11-18T00:00:00",
          "2025-11-19T00:00:00",
          "2025-11-20T00:00:00",
          "2025-11-21T00:00:00",
          "2025-11-22T00:00:00",
          "2025-11-23T00:00:00",
          "2025-11-24T00:00:00",
          "2025-11-25T00:00:00",
          "2025-11-26T00:00:00",
          "2025-11-27T00:00:00",
          "2025-11-28T00:00:00",
          "2025-11-29T00:00:00",
          "2025-11-30T00:00:00",
          "2025-12-01T00:00:00",
          "2025-12-02T00:00:00",
          "2025-12-03T00:00:00",
          "2025-12-04T00:00:00",
          "2025-12-05T00:00:00",
          "2025-12-06T00:00:00",
          "2025-12-07T00:00:00",
          "2025-12-08T00:00:00",
          "2025-12-09T00:00:00",
          "2025-12-10T00:00:00",
          "2025-12-11T00:00:00",
          "2025-12-12T00:00:00",
          "2025-12-13T00:00:00",
          "2025-12-14T00:00:00",
          "2025-12-15T00:00:00",
          "2025-12-16T00:00:00",
          "2025-12-17T00:00:00",
          "2025-12-18T00:00:00",
          "2025-12-19T00:00:00",
          "2025-12-20T00:00:00",
          "2025-12-21T00:00:00",
          "2025-12-22T00:00:00",
          "2025-12-23T00:00:00",
          "2025-12-24T00:00:00",
          "2025-12-25T00:00:00",
          "2025-12-26T00:00:00",
          "2025-12-27T00:00:00",
          "2025-12-28T00:00:00",
          "2025-12-29T00:00:00",
          "2025-12-30T00:00:00",
          "2025-12-31T00:00:00",
          "2026-01-01T00:00:00",
          "2026-01-02T00:00:00",
          "2026-01-03T00:00:00",
          "2026-01-04T00:00:00",
          "2026-01-05T00:00:00",
          "2026-01-06T00:00:00",
          "2026-01-07T00:00:00",
          "2026-01-08T00:00:00",
          "2026-01-09T00:00:00",
          "2026-01-10T00:00:00",
          "2026-01-11T00:00:00",
          "2026-01-12T00:00:00",
          "2026-01-13T00:00:00",
          "2026-01-14T00:00:00",
          "2026-01-15T00:00:00",
          "2026-01-16T00:00:00",
          "2026-01-17T00:00:00",
          "2026-01-18T00:00:00",
          "2026-01-19T00:00:00",
          "2026-01-20T00:00:00",
          "2026-01-21T00:00:00",
          "2026-01-22T00:00:00",
          "2026-01-23T00:00:00",
          "2026-01-24T00:00:00",
          "2026-01-25T00:00:00",
          "2026-01-26T00:00:00",
          "2026-01-27T00:00:00",
          "2026-01-28T00:00:00",
          "2026-01-29T00:00:00",
          "2026-01-30T00:00:00",
          "2026-01-31T00:00:00",
          "2026-02-01T00:00:00",
          "2026-02-02T00:00:00",
          "2026-02-03T00:00:00",
          "2026-02-04T00:00:00",
          "2026-02-05T00:00:00",
          "2026-02-06T00:00:00",
          "2026-02-07T00:00:00",
          "2026-02-08T00:00:00",
          "2026-02-09T00:00:00",
          "2026-02-10T00:00:00",
          "2026-02-11T00:00:00",
          "2026-02-12T00:00:00",
          "2026-02-13T00:00:00",
          "2026-02-14T00:00:00",
          "2026-02-15T00:00:00",
          "2026-02-16T00:00:00",
          "2026-02-17T00:00:00",
          "2026-02-18T00:00:00",
          "2026-02-19T00:00:00",
          "2026-02-20T00:00:00",
          "2026-02-21T00:00:00",
          "2026-02-22T00:00:00",
          "2026-02-23T00:00:00",
          "2026-02-24T00:00:00",
          "2026-02-25T00:00:00",
          "2026-02-26T00:00:00",
          "2026-02-27T00:00:00",
          "2026-02-28T00:00:00",
          "2026-03-01T00:00:00",
          "2026-03-02T00:00:00",
          "2026-03-03T00:00:00",
          "2026-03-04T00:00:00",
          "2026-03-05T00:00:00",
          "2026-03-06T00:00:00",
          "2026-03-07T00:00:00",
          "2026-03-08T00:00:00",
          "2026-03-09T00:00:00",
          "2026-03-10T00:00:00",
          "2026-03-11T00:00:00",
          "2026-03-12T00:00:00",
          "2026-03-13T00:00:00",
          "2026-03-14T00:00:00",
          "2026-03-15T00:00:00",
          "2026-03-16T00:00:00",
          "2026-03-17T00:00:00",
          "2026-03-18T00:00:00",
          "2026-03-19T00:00:00",
          "2026-03-20T00:00:00",
          "2026-03-21T00:00:00",
          "2026-03-22T00:00:00",
          "2026-03-23T00:00:00",
          "2026-03-24T00:00:00",
          "2026-03-25T00:00:00",
          "2026-03-26T00:00:00",
          "2026-03-27T00:00:00",
          "2026-03-28T00:00:00",
          "2026-03-29T00:00:00",
          "2026-03-30T00:00:00",
          "2026-03-31T00:00:00",
          "2026-04-01T00:00:00",
          "2026-04-02T00:00:00",
          "2026-04-03T00:00:00",
          "2026-04-04T00:00:00",
          "2026-04-05T00:00:00",
          "2026-04-06T00:00:00",
          "2026-04-07T00:00:00",
          "2026-04-08T00:00:00",
          "2026-04-09T00:00:00",
          "2026-04-10T00:00:00",
          "2026-04-11T00:00:00",
          "2026-04-12T00:00:00",
          "2026-04-13T00:00:00",
          "2026-04-14T00:00:00",
          "2026-04-15T00:00:00",
          "2026-04-16T00:00:00",
          "2026-04-17T00:00:00",
          "2026-04-18T00:00:00",
          "2026-04-19T00:00:00",
          "2026-04-20T00:00:00",
          "2026-04-21T00:00:00",
          "2026-04-22T00:00:00",
          "2026-04-23T00:00:00",
          "2026-04-24T00:00:00",
          "2026-04-25T00:00:00",
          "2026-04-26T00:00:00",
          "2026-04-27T00:00:00",
          "2026-04-28T00:00:00",
          "2026-04-29T00:00:00",
          "2026-04-30T00:00:00",
          "2026-05-01T00:00:00",
          "2026-05-02T00:00:00",
          "2026-05-03T00:00:00",
          "2026-05-04T00:00:00",
          "2026-05-05T00:00:00",
          "2026-05-06T00:00:00",
          "2026-05-07T00:00:00",
          "2026-05-08T00:00:00",
          "2026-05-09T00:00:00",
          "2026-05-10T00:00:00",
          "2026-05-11T00:00:00",
          "2026-05-12T00:00:00",
          "2026-05-13T00:00:00",
          "2026-05-14T00:00:00",
          "2026-05-15T00:00:00",
          "2026-05-16T00:00:00",
          "2026-05-17T00:00:00",
          "2026-05-18T00:00:00",
          "2026-05-19T00:00:00",
          "2026-05-20T00:00:00",
          "2026-05-21T00:00:00",
          "2026-05-22T00:00:00",
          "2026-05-23T00:00:00",
          "2026-05-24T00:00:00",
          "2026-05-25T00:00:00",
          "2026-05-26T00:00:00",
          "2026-05-27T00:00:00",
          "2026-05-28T00:00:00",
          "2026-05-29T00:00:00",
          "2026-05-30T00:00:00",
          "2026-05-31T00:00:00",
          "2026-06-01T00:00:00",
          "2026-06-02T00:00:00",
          "2026-06-03T00:00:00",
          "2026-06-04T00:00:00",
          "2026-06-05T00:00:00",
          "2026-06-06T00:00:00",
          "2026-06-07T00:00:00",
          "2026-06-08T00:00:00",
          "2026-06-09T00:00:00",
          "2026-06-10T00:00:00",
          "2026-06-11T00:00:00",
          "2026-06-12T00:00:00",
          "2026-06-13T00:00:00",
          "2026-06-14T00:00:00",
          "2026-06-15T00:00:00",
          "2026-06-16T00:00:00",
          "2026-06-17T00:00:00",
          "2026-06-18T00:00:00",
          "2026-06-19T00:00:00",
          "2026-06-20T00:00:00",
          "2026-06-21T00:00:00",
          "2026-06-22T00:00:00",
          "2026-06-23T00:00:00",
          "2026-06-24T00:00:00",
          "2026-06-25T00:00:00",
          "2026-06-26T00:00:00",
          "2026-06-27T00:00:00",
          "2026-06-28T00:00:00",
          "2026-06-29T00:00:00",
          "2026-06-30T00:00:00",
          "2026-07-01T00:00:00",
          "2026-07-02T00:00:00",
          "2026-07-03T00:00:00",
          "2026-07-04T00:00:00",
          "2026-07-05T00:00:00",
          "2026-07-06T00:00:00",
          "2026-07-07T00:00:00",
          "2026-07-08T00:00:00",
          "2026-07-09T00:00:00",
          "2026-07-10T00:00:00",
          "2026-07-11T00:00:00",
          "2026-07-12T00:00:00",
          "2026-07-13T00:00:00",
          "2026-07-14T00:00:00",
          "2026-07-15T00:00:00",
          "2026-07-16T00:00:00",
          "2026-07-17T00:00:00",
          "2026-07-18T00:00:00",
          "2026-07-19T00:00:00",
          "2026-07-20T00:00:00",
          "2026-07-21T00:00:00",
          "2026-07-22T00:00:00",
          "2026-07-23T00:00:00",
          "2026-07-24T00:00:00",
          "2026-07-25T00:00:00",
          "2026-07-26T00:00:00",
          "2026-07-27T00:00:00",
          "2026-07-28T00:00:00",
          "2026-07-29T00:00:00",
          "2026-07-30T00:00:00",
          "2026-07-31T00:00:00",
          "2026-08-01T00:00:00",
          "2026-08-02T00:00:00",
          "2026-08-03T00:00:00",
          "2026-08-04T00:00:00",
          "2026-08-05T00:00:00",
          "2026-08-06T00:00:00",
          "2026-08-07T00:00:00",
          "2026-08-08T00:00:00",
          "2026-08-09T00:00:00",
          "2026-08-10T00:00:00",
          "2026-08-11T00:00:00",
          "2026-08-12T00:00:00",
          "2026-08-13T00:00:00",
          "2026-08-14T00:00:00",
          "2026-08-15T00:00:00",
          "2026-08-16T00:00:00",
          "2026-08-17T00:00:00",
          "2026-08-18T00:00:00",
          "2026-08-19T00:00:00",
          "2026-08-20T00:00:00",
          "2026-08-21T00:00:00",
          "2026-08-22T00:00:00",
          "2026-08-23T00:00:00",
          "2026-08-24T00:00:00",
          "2026-08-25T00:00:00",
          "2026-08-26T00:00:00",
          "2026-08-27T00:00:00",
          "2026-08-28T00:00:00",
          "2026-08-29T00:00:00",
          "2026-08-30T00:00:00",
          "2026-08-31T00:00:00",
          "2026-09-01T00:00:00",
          "2026-09-02T00:00:00",
          "2026-09-03T00:00:00"
         ],
         "xaxis": "x",
         "y": [
          8.111539840698242,
          8.112462997436523,
          8.113386154174805,
          8.11430835723877,
          8.115232467651367,
          8.116155624389648,
          8.11707878112793,
          8.118001937866211,
          8.118925094604492,
          8.11984920501709,
          8.120771408081055,
          8.121695518493652,
          8.122617721557617,
          8.123540878295898,
          8.124464988708496,
          8.125387191772461,
          8.126311302185059,
          8.12723445892334,
          8.128157615661621,
          8.129079818725586,
          8.130003929138184,
          8.130927085876465,
          8.131850242614746,
          8.132773399353027,
          8.133696556091309,
          8.13461971282959,
          8.135541915893555,
          8.136466026306152,
          8.13739013671875,
          8.138312339782715,
          8.139235496520996,
          8.140158653259277,
          8.141081809997559,
          8.14200496673584,
          8.142929077148438,
          8.143851280212402,
          8.144774436950684,
          8.145698547363281,
          8.146620750427246,
          8.147544860839844,
          8.148467063903809,
          8.14939022064209,
          8.150313377380371,
          8.151236534118652,
          8.15216064453125,
          8.153083801269531,
          8.154006958007812,
          8.154929161071777,
          8.155853271484375,
          8.15677547454834,
          8.157699584960938,
          8.158622741699219,
          8.1595458984375,
          8.160469055175781,
          8.161391258239746,
          8.162315368652344,
          8.163238525390625,
          8.164161682128906,
          8.165084838867188,
          8.166007995605469,
          8.16693115234375,
          8.167854309082031,
          8.168778419494629,
          8.169700622558594,
          8.170623779296875,
          8.171547889709473,
          8.172470092773438,
          8.173394203186035,
          8.17431640625,
          8.175240516662598,
          8.176162719726562,
          8.177085876464844,
          8.178009986877441,
          8.178933143615723,
          8.179856300354004,
          8.180779457092285,
          8.181702613830566,
          8.182624816894531,
          8.183548927307129,
          8.18447208404541,
          8.185395240783691,
          8.186318397521973,
          8.187240600585938,
          8.188164710998535,
          8.189087867736816,
          8.190011978149414,
          8.190934181213379,
          8.19185733795166,
          8.192781448364258,
          8.193703651428223,
          8.19462776184082,
          8.195549964904785,
          8.196473121643066,
          8.197396278381348,
          8.198319435119629,
          8.199243545532227,
          8.200166702270508,
          8.201089859008789,
          8.202012062072754,
          8.202936172485352,
          8.203858375549316,
          8.204782485961914,
          8.205705642700195,
          8.206628799438477,
          8.207551956176758,
          8.208474159240723,
          8.20939826965332,
          8.210321426391602,
          8.211244583129883,
          8.212167739868164,
          8.213090896606445,
          8.214014053344727,
          8.214937210083008,
          8.215861320495605,
          8.21678352355957,
          8.217706680297852,
          8.21863079071045,
          8.219552993774414,
          8.220477104187012,
          8.221399307250977,
          8.222322463989258,
          8.223245620727539,
          8.22416877746582,
          8.225092887878418,
          8.2260160446167,
          8.22693920135498,
          8.227861404418945,
          8.228785514831543,
          8.229707717895508,
          8.230631828308105,
          8.231554985046387,
          8.232478141784668,
          8.23340129852295,
          8.234323501586914,
          8.235247611999512,
          8.236170768737793,
          8.237093925476074,
          8.238017082214355,
          8.238940238952637,
          8.239863395690918,
          8.2407865524292,
          8.241710662841797,
          8.242632865905762,
          8.243556022644043,
          8.24448013305664,
          8.245402336120605,
          8.246326446533203,
          8.247248649597168,
          8.248172760009766,
          8.24909496307373,
          8.250018119812012,
          8.25094223022461,
          8.25186538696289,
          8.252788543701172,
          8.253711700439453,
          8.254634857177734,
          8.2555570602417,
          8.256481170654297,
          8.257403373718262,
          8.25832748413086,
          8.25925064086914,
          8.260172843933105,
          8.261096954345703,
          8.262020111083984,
          8.262943267822266,
          8.263866424560547,
          8.264789581298828,
          8.265713691711426,
          8.26663589477539,
          8.267560005187988,
          8.268482208251953,
          8.269405364990234,
          8.270328521728516,
          8.271251678466797,
          8.272175788879395,
          8.273098945617676,
          8.274022102355957,
          8.274944305419922,
          8.27586841583252,
          8.276790618896484,
          8.277714729309082,
          8.278637886047363,
          8.279561042785645,
          8.280484199523926,
          8.28140640258789,
          8.282330513000488,
          8.28325366973877,
          8.28417682647705,
          8.285099983215332,
          8.286023139953613,
          8.286946296691895,
          8.287869453430176,
          8.288793563842773,
          8.289715766906738,
          8.29063892364502,
          8.291563034057617,
          8.292485237121582,
          8.29340934753418,
          8.294331550598145,
          8.295254707336426,
          8.296177864074707,
          8.297101020812988,
          8.298025131225586,
          8.298948287963867,
          8.299871444702148,
          8.30079460144043,
          8.301717758178711,
          8.302639961242676,
          8.303564071655273,
          8.304487228393555,
          8.305410385131836,
          8.306333541870117,
          8.307255744934082,
          8.30817985534668,
          8.309103012084961,
          8.310026168823242,
          8.310949325561523,
          8.311872482299805,
          8.312795639038086,
          8.313718795776367,
          8.314642906188965,
          8.31556510925293,
          8.316488265991211,
          8.317411422729492,
          8.318334579467773,
          8.319258689880371,
          8.320180892944336,
          8.321105003356934,
          8.322027206420898,
          8.32295036315918,
          8.323873519897461,
          8.324797630310059,
          8.32572078704834,
          8.326643943786621,
          8.327567100524902,
          8.328489303588867,
          8.329413414001465,
          8.33033561706543,
          8.331259727478027,
          8.332182884216309,
          8.333105087280273,
          8.334029197692871,
          8.334952354431152,
          8.335875511169434,
          8.336798667907715,
          8.337721824645996,
          8.338645935058594,
          8.339568138122559,
          8.340492248535156,
          8.341414451599121,
          8.342337608337402,
          8.343260765075684,
          8.344183921813965,
          8.345108032226562,
          8.346031188964844,
          8.346954345703125,
          8.34787654876709,
          8.348800659179688,
          8.349722862243652,
          8.35064697265625,
          8.351570129394531,
          8.352493286132812,
          8.353416442871094,
          8.354338645935059,
          8.355262756347656,
          8.356185913085938,
          8.357109069824219,
          8.3580322265625,
          8.358955383300781,
          8.359878540039062,
          8.360801696777344,
          8.361725807189941,
          8.362648010253906,
          8.363571166992188,
          8.364495277404785,
          8.36541748046875,
          8.366341590881348,
          8.367263793945312,
          8.36818790435791,
          8.369110107421875,
          8.370033264160156,
          8.370956420898438,
          8.371880531311035,
          8.372803688049316,
          8.373726844787598,
          8.374650001525879,
          8.375572204589844,
          8.376496315002441,
          8.377418518066406,
          8.378342628479004,
          8.379265785217285,
          8.38018798828125,
          8.381112098693848,
          8.382035255432129,
          8.38295841217041,
          8.383881568908691,
          8.384804725646973,
          8.385727882385254,
          8.386651039123535,
          8.387575149536133,
          8.388497352600098,
          8.389420509338379,
          8.39034366607666,
          8.391266822814941,
          8.392190933227539,
          8.393113136291504,
          8.394037246704102,
          8.394959449768066,
          8.395882606506348,
          8.396805763244629,
          8.397729873657227,
          8.398653030395508,
          8.399576187133789,
          8.40049934387207,
          8.401421546936035,
          8.402345657348633,
          8.403267860412598,
          8.404191970825195,
          8.405115127563477,
          8.406037330627441,
          8.406961441040039,
          8.40788459777832,
          8.408807754516602,
          8.409730911254883,
          8.410654067993164,
          8.411578178405762,
          8.412500381469727,
          8.413424491882324,
          8.414346694946289,
          8.41526985168457,
          8.416193008422852,
          8.417116165161133,
          8.41804027557373,
          8.418962478637695,
          8.419886589050293,
          8.420808792114258,
          8.421732902526855,
          8.42265510559082,
          8.423579216003418,
          8.4245023727417,
          8.42542552947998,
          8.426348686218262,
          8.427270889282227,
          8.428194999694824,
          8.429118156433105,
          8.430041313171387,
          8.430964469909668,
          8.43188762664795,
          8.43281078338623,
          8.433733940124512,
          8.43465805053711,
          8.435580253601074,
          8.436503410339355,
          8.437426567077637,
          8.438349723815918,
          8.439273834228516,
          8.44019603729248,
          8.441120147705078,
          8.442042350769043,
          8.442965507507324,
          8.443888664245605,
          8.444812774658203,
          8.445735931396484,
          8.446659088134766,
          8.447582244873047
         ],
         "yaxis": "y"
        },
        {
         "line": {
          "color": "#2d92ff",
          "width": 2
         },
         "mode": "lines",
         "name": "daily seasonality",
         "showlegend": false,
         "type": "scatter",
         "x": [
          "2025-09-04T00:00:00",
          "2025-09-05T00:00:00",
          "2025-09-06T00:00:00",
          "2025-09-07T00:00:00",
          "2025-09-08T00:00:00",
          "2025-09-09T00:00:00",
          "2025-09-10T00:00:00",
          "2025-09-11T00:00:00",
          "2025-09-12T00:00:00",
          "2025-09-13T00:00:00",
          "2025-09-14T00:00:00",
          "2025-09-15T00:00:00",
          "2025-09-16T00:00:00",
          "2025-09-17T00:00:00",
          "2025-09-18T00:00:00",
          "2025-09-19T00:00:00",
          "2025-09-20T00:00:00",
          "2025-09-21T00:00:00",
          "2025-09-22T00:00:00",
          "2025-09-23T00:00:00",
          "2025-09-24T00:00:00",
          "2025-09-25T00:00:00",
          "2025-09-26T00:00:00",
          "2025-09-27T00:00:00",
          "2025-09-28T00:00:00",
          "2025-09-29T00:00:00",
          "2025-09-30T00:00:00",
          "2025-10-01T00:00:00",
          "2025-10-02T00:00:00",
          "2025-10-03T00:00:00",
          "2025-10-04T00:00:00",
          "2025-10-05T00:00:00",
          "2025-10-06T00:00:00",
          "2025-10-07T00:00:00",
          "2025-10-08T00:00:00",
          "2025-10-09T00:00:00",
          "2025-10-10T00:00:00",
          "2025-10-11T00:00:00",
          "2025-10-12T00:00:00",
          "2025-10-13T00:00:00",
          "2025-10-14T00:00:00",
          "2025-10-15T00:00:00",
          "2025-10-16T00:00:00",
          "2025-10-17T00:00:00",
          "2025-10-18T00:00:00",
          "2025-10-19T00:00:00",
          "2025-10-20T00:00:00",
          "2025-10-21T00:00:00",
          "2025-10-22T00:00:00",
          "2025-10-23T00:00:00",
          "2025-10-24T00:00:00",
          "2025-10-25T00:00:00",
          "2025-10-26T00:00:00",
          "2025-10-27T00:00:00",
          "2025-10-28T00:00:00",
          "2025-10-29T00:00:00",
          "2025-10-30T00:00:00",
          "2025-10-31T00:00:00",
          "2025-11-01T00:00:00",
          "2025-11-02T00:00:00",
          "2025-11-03T00:00:00",
          "2025-11-04T00:00:00",
          "2025-11-05T00:00:00",
          "2025-11-06T00:00:00",
          "2025-11-07T00:00:00",
          "2025-11-08T00:00:00",
          "2025-11-09T00:00:00",
          "2025-11-10T00:00:00",
          "2025-11-11T00:00:00",
          "2025-11-12T00:00:00",
          "2025-11-13T00:00:00",
          "2025-11-14T00:00:00",
          "2025-11-15T00:00:00",
          "2025-11-16T00:00:00",
          "2025-11-17T00:00:00",
          "2025-11-18T00:00:00",
          "2025-11-19T00:00:00",
          "2025-11-20T00:00:00",
          "2025-11-21T00:00:00",
          "2025-11-22T00:00:00",
          "2025-11-23T00:00:00",
          "2025-11-24T00:00:00",
          "2025-11-25T00:00:00",
          "2025-11-26T00:00:00",
          "2025-11-27T00:00:00",
          "2025-11-28T00:00:00",
          "2025-11-29T00:00:00",
          "2025-11-30T00:00:00",
          "2025-12-01T00:00:00",
          "2025-12-02T00:00:00",
          "2025-12-03T00:00:00",
          "2025-12-04T00:00:00",
          "2025-12-05T00:00:00",
          "2025-12-06T00:00:00",
          "2025-12-07T00:00:00",
          "2025-12-08T00:00:00",
          "2025-12-09T00:00:00",
          "2025-12-10T00:00:00",
          "2025-12-11T00:00:00",
          "2025-12-12T00:00:00",
          "2025-12-13T00:00:00",
          "2025-12-14T00:00:00",
          "2025-12-15T00:00:00",
          "2025-12-16T00:00:00",
          "2025-12-17T00:00:00",
          "2025-12-18T00:00:00",
          "2025-12-19T00:00:00",
          "2025-12-20T00:00:00",
          "2025-12-21T00:00:00",
          "2025-12-22T00:00:00",
          "2025-12-23T00:00:00",
          "2025-12-24T00:00:00",
          "2025-12-25T00:00:00",
          "2025-12-26T00:00:00",
          "2025-12-27T00:00:00",
          "2025-12-28T00:00:00",
          "2025-12-29T00:00:00",
          "2025-12-30T00:00:00",
          "2025-12-31T00:00:00",
          "2026-01-01T00:00:00",
          "2026-01-02T00:00:00",
          "2026-01-03T00:00:00",
          "2026-01-04T00:00:00",
          "2026-01-05T00:00:00",
          "2026-01-06T00:00:00",
          "2026-01-07T00:00:00",
          "2026-01-08T00:00:00",
          "2026-01-09T00:00:00",
          "2026-01-10T00:00:00",
          "2026-01-11T00:00:00",
          "2026-01-12T00:00:00",
          "2026-01-13T00:00:00",
          "2026-01-14T00:00:00",
          "2026-01-15T00:00:00",
          "2026-01-16T00:00:00",
          "2026-01-17T00:00:00",
          "2026-01-18T00:00:00",
          "2026-01-19T00:00:00",
          "2026-01-20T00:00:00",
          "2026-01-21T00:00:00",
          "2026-01-22T00:00:00",
          "2026-01-23T00:00:00",
          "2026-01-24T00:00:00",
          "2026-01-25T00:00:00",
          "2026-01-26T00:00:00",
          "2026-01-27T00:00:00",
          "2026-01-28T00:00:00",
          "2026-01-29T00:00:00",
          "2026-01-30T00:00:00",
          "2026-01-31T00:00:00",
          "2026-02-01T00:00:00",
          "2026-02-02T00:00:00",
          "2026-02-03T00:00:00",
          "2026-02-04T00:00:00",
          "2026-02-05T00:00:00",
          "2026-02-06T00:00:00",
          "2026-02-07T00:00:00",
          "2026-02-08T00:00:00",
          "2026-02-09T00:00:00",
          "2026-02-10T00:00:00",
          "2026-02-11T00:00:00",
          "2026-02-12T00:00:00",
          "2026-02-13T00:00:00",
          "2026-02-14T00:00:00",
          "2026-02-15T00:00:00",
          "2026-02-16T00:00:00",
          "2026-02-17T00:00:00",
          "2026-02-18T00:00:00",
          "2026-02-19T00:00:00",
          "2026-02-20T00:00:00",
          "2026-02-21T00:00:00",
          "2026-02-22T00:00:00",
          "2026-02-23T00:00:00",
          "2026-02-24T00:00:00",
          "2026-02-25T00:00:00",
          "2026-02-26T00:00:00",
          "2026-02-27T00:00:00",
          "2026-02-28T00:00:00",
          "2026-03-01T00:00:00",
          "2026-03-02T00:00:00",
          "2026-03-03T00:00:00",
          "2026-03-04T00:00:00",
          "2026-03-05T00:00:00",
          "2026-03-06T00:00:00",
          "2026-03-07T00:00:00",
          "2026-03-08T00:00:00",
          "2026-03-09T00:00:00",
          "2026-03-10T00:00:00",
          "2026-03-11T00:00:00",
          "2026-03-12T00:00:00",
          "2026-03-13T00:00:00",
          "2026-03-14T00:00:00",
          "2026-03-15T00:00:00",
          "2026-03-16T00:00:00",
          "2026-03-17T00:00:00",
          "2026-03-18T00:00:00",
          "2026-03-19T00:00:00",
          "2026-03-20T00:00:00",
          "2026-03-21T00:00:00",
          "2026-03-22T00:00:00",
          "2026-03-23T00:00:00",
          "2026-03-24T00:00:00",
          "2026-03-25T00:00:00",
          "2026-03-26T00:00:00",
          "2026-03-27T00:00:00",
          "2026-03-28T00:00:00",
          "2026-03-29T00:00:00",
          "2026-03-30T00:00:00",
          "2026-03-31T00:00:00",
          "2026-04-01T00:00:00",
          "2026-04-02T00:00:00",
          "2026-04-03T00:00:00",
          "2026-04-04T00:00:00",
          "2026-04-05T00:00:00",
          "2026-04-06T00:00:00",
          "2026-04-07T00:00:00",
          "2026-04-08T00:00:00",
          "2026-04-09T00:00:00",
          "2026-04-10T00:00:00",
          "2026-04-11T00:00:00",
          "2026-04-12T00:00:00",
          "2026-04-13T00:00:00",
          "2026-04-14T00:00:00",
          "2026-04-15T00:00:00",
          "2026-04-16T00:00:00",
          "2026-04-17T00:00:00",
          "2026-04-18T00:00:00",
          "2026-04-19T00:00:00",
          "2026-04-20T00:00:00",
          "2026-04-21T00:00:00",
          "2026-04-22T00:00:00",
          "2026-04-23T00:00:00",
          "2026-04-24T00:00:00",
          "2026-04-25T00:00:00",
          "2026-04-26T00:00:00",
          "2026-04-27T00:00:00",
          "2026-04-28T00:00:00",
          "2026-04-29T00:00:00",
          "2026-04-30T00:00:00",
          "2026-05-01T00:00:00",
          "2026-05-02T00:00:00",
          "2026-05-03T00:00:00",
          "2026-05-04T00:00:00",
          "2026-05-05T00:00:00",
          "2026-05-06T00:00:00",
          "2026-05-07T00:00:00",
          "2026-05-08T00:00:00",
          "2026-05-09T00:00:00",
          "2026-05-10T00:00:00",
          "2026-05-11T00:00:00",
          "2026-05-12T00:00:00",
          "2026-05-13T00:00:00",
          "2026-05-14T00:00:00",
          "2026-05-15T00:00:00",
          "2026-05-16T00:00:00",
          "2026-05-17T00:00:00",
          "2026-05-18T00:00:00",
          "2026-05-19T00:00:00",
          "2026-05-20T00:00:00",
          "2026-05-21T00:00:00",
          "2026-05-22T00:00:00",
          "2026-05-23T00:00:00",
          "2026-05-24T00:00:00",
          "2026-05-25T00:00:00",
          "2026-05-26T00:00:00",
          "2026-05-27T00:00:00",
          "2026-05-28T00:00:00",
          "2026-05-29T00:00:00",
          "2026-05-30T00:00:00",
          "2026-05-31T00:00:00",
          "2026-06-01T00:00:00",
          "2026-06-02T00:00:00",
          "2026-06-03T00:00:00",
          "2026-06-04T00:00:00",
          "2026-06-05T00:00:00",
          "2026-06-06T00:00:00",
          "2026-06-07T00:00:00",
          "2026-06-08T00:00:00",
          "2026-06-09T00:00:00",
          "2026-06-10T00:00:00",
          "2026-06-11T00:00:00",
          "2026-06-12T00:00:00",
          "2026-06-13T00:00:00",
          "2026-06-14T00:00:00",
          "2026-06-15T00:00:00",
          "2026-06-16T00:00:00",
          "2026-06-17T00:00:00",
          "2026-06-18T00:00:00",
          "2026-06-19T00:00:00",
          "2026-06-20T00:00:00",
          "2026-06-21T00:00:00",
          "2026-06-22T00:00:00",
          "2026-06-23T00:00:00",
          "2026-06-24T00:00:00",
          "2026-06-25T00:00:00",
          "2026-06-26T00:00:00",
          "2026-06-27T00:00:00",
          "2026-06-28T00:00:00",
          "2026-06-29T00:00:00",
          "2026-06-30T00:00:00",
          "2026-07-01T00:00:00",
          "2026-07-02T00:00:00",
          "2026-07-03T00:00:00",
          "2026-07-04T00:00:00",
          "2026-07-05T00:00:00",
          "2026-07-06T00:00:00",
          "2026-07-07T00:00:00",
          "2026-07-08T00:00:00",
          "2026-07-09T00:00:00",
          "2026-07-10T00:00:00",
          "2026-07-11T00:00:00",
          "2026-07-12T00:00:00",
          "2026-07-13T00:00:00",
          "2026-07-14T00:00:00",
          "2026-07-15T00:00:00",
          "2026-07-16T00:00:00",
          "2026-07-17T00:00:00",
          "2026-07-18T00:00:00",
          "2026-07-19T00:00:00",
          "2026-07-20T00:00:00",
          "2026-07-21T00:00:00",
          "2026-07-22T00:00:00",
          "2026-07-23T00:00:00",
          "2026-07-24T00:00:00",
          "2026-07-25T00:00:00",
          "2026-07-26T00:00:00",
          "2026-07-27T00:00:00",
          "2026-07-28T00:00:00",
          "2026-07-29T00:00:00",
          "2026-07-30T00:00:00",
          "2026-07-31T00:00:00",
          "2026-08-01T00:00:00",
          "2026-08-02T00:00:00",
          "2026-08-03T00:00:00",
          "2026-08-04T00:00:00",
          "2026-08-05T00:00:00",
          "2026-08-06T00:00:00",
          "2026-08-07T00:00:00",
          "2026-08-08T00:00:00",
          "2026-08-09T00:00:00",
          "2026-08-10T00:00:00",
          "2026-08-11T00:00:00",
          "2026-08-12T00:00:00",
          "2026-08-13T00:00:00",
          "2026-08-14T00:00:00",
          "2026-08-15T00:00:00",
          "2026-08-16T00:00:00",
          "2026-08-17T00:00:00",
          "2026-08-18T00:00:00",
          "2026-08-19T00:00:00",
          "2026-08-20T00:00:00",
          "2026-08-21T00:00:00",
          "2026-08-22T00:00:00",
          "2026-08-23T00:00:00",
          "2026-08-24T00:00:00",
          "2026-08-25T00:00:00",
          "2026-08-26T00:00:00",
          "2026-08-27T00:00:00",
          "2026-08-28T00:00:00",
          "2026-08-29T00:00:00",
          "2026-08-30T00:00:00",
          "2026-08-31T00:00:00",
          "2026-09-01T00:00:00",
          "2026-09-02T00:00:00",
          "2026-09-03T00:00:00"
         ],
         "xaxis": "x2",
         "y": [
          -2.0777647495269775,
          -2.084191083908081,
          -2.0779004096984863,
          -2.0789883136749268,
          -2.0856001377105713,
          -2.0795867443084717,
          -2.0737483501434326,
          -2.0862679481506348,
          -2.080772876739502,
          -2.0752124786376953,
          -2.0815389156341553,
          -2.0817956924438477,
          -2.0760958194732666,
          -2.0821900367736816,
          -2.076853036880493,
          -2.0899813175201416,
          -2.0838329792022705,
          -2.0778584480285645,
          -2.0843942165374756,
          -2.0849764347076416,
          -2.079279661178589,
          -2.0860002040863037,
          -2.079752206802368,
          -2.080021619796753,
          -2.087106466293335,
          -2.0811357498168945,
          -2.0753397941589355,
          -2.0881097316741943,
          -2.0819997787475586,
          -2.0760645866394043,
          -2.0831217765808105,
          -2.0833778381347656,
          -2.0777199268341064,
          -2.084108591079712,
          -2.0778987407684326,
          -2.072558879852295,
          -2.085448980331421,
          -2.079517126083374,
          -2.0737602710723877,
          -2.079864025115967,
          -2.0801005363464355,
          -2.0751562118530273,
          -2.08144474029541,
          -2.075413703918457,
          -2.0884952545166016,
          -2.082150459289551,
          -2.0767719745635986,
          -2.0835022926330566,
          -2.0837254524230957,
          -2.077831983566284,
          -2.0843300819396973,
          -2.078518867492676,
          -2.0791852474212646,
          -2.0858678817749023,
          -2.0797009468078613,
          -2.0737087726593018,
          -2.086432456970215,
          -2.0810165405273438,
          -2.0753018856048584,
          -2.081700086593628,
          -2.081935405731201,
          -2.0760810375213623,
          -2.0829782485961914,
          -2.0769896507263184,
          -2.0776686668395996,
          -2.084019422531128,
          -2.0778908729553223,
          -2.072509288787842,
          -2.085291862487793,
          -2.0794408321380615,
          -2.073765754699707,
          -2.07983136177063,
          -2.0800790786743164,
          -2.087468147277832,
          -2.08134388923645,
          -2.0753941535949707,
          -2.0883681774139404,
          -2.082104444503784,
          -2.0766844749450684,
          -2.0833771228790283,
          -2.083611249923706,
          -2.0777995586395264,
          -2.084259510040283,
          -2.0778965950012207,
          -2.0790841579437256,
          -2.0857291221618652,
          -2.079643487930298,
          -2.073732614517212,
          -2.086348533630371,
          -2.080890655517578,
          -2.0752575397491455,
          -2.081618070602417,
          -2.081864595413208,
          -2.076091766357422,
          -2.0828278064727783,
          -2.076920509338379,
          -2.077611207962036,
          -2.0839240550994873,
          -2.077876567840576,
          -2.072005033493042,
          -2.0851283073425293,
          -2.0793588161468506,
          -2.0861127376556396,
          -2.0797922611236572,
          -2.0800514221191406,
          -2.087280035018921,
          -2.0812368392944336,
          -2.0753681659698486,
          -2.0882346630096436,
          -2.082051992416382,
          -2.0760438442230225,
          -2.083245277404785,
          -2.0834908485412598,
          -2.0777602195739746,
          -2.0841827392578125,
          -2.0779006481170654,
          -2.07897686958313,
          -2.0855839252471924,
          -2.0795793533325195,
          -2.0737500190734863,
          -2.0862579345703125,
          -2.080758810043335,
          -2.075206756591797,
          -2.081529378890991,
          -2.081787109375,
          -2.0760960578918457,
          -2.082185983657837,
          -2.0768449306488037,
          -2.0899617671966553,
          -2.0838217735290527,
          -2.0778560638427734,
          -2.0843875408172607,
          -2.084958076477051,
          -2.0792698860168457,
          -2.0859861373901367,
          -2.079746961593628,
          -2.080017566680908,
          -2.087085247039795,
          -2.0811233520507812,
          -2.07533597946167,
          -2.08809494972229,
          -2.081993341445923,
          -2.076066732406616,
          -2.0831072330474854,
          -2.0833637714385986,
          -2.0777149200439453,
          -2.084099292755127,
          -2.0778982639312744,
          -2.072554111480713,
          -2.085432767868042,
          -2.0795092582702637,
          -2.073760986328125,
          -2.0798611640930176,
          -2.0800986289978027,
          -2.0751500129699707,
          -2.081434488296509,
          -2.075411796569824,
          -2.088481903076172,
          -2.0821456909179688,
          -2.076763153076172,
          -2.083489418029785,
          -2.0837135314941406,
          -2.077829122543335,
          -2.084322929382324,
          -2.0785071849823,
          -2.079174757003784,
          -2.0858538150787354,
          -2.079695224761963,
          -2.073711395263672,
          -2.0864241123199463,
          -2.081003427505493,
          -2.0752973556518555,
          -2.0816917419433594,
          -2.081928253173828,
          -2.076082706451416,
          -2.0829625129699707,
          -2.0769827365875244,
          -2.0776631832122803,
          -2.0840094089508057,
          -2.077889919281006,
          -2.0725038051605225,
          -2.0852749347686768,
          -2.079432487487793,
          -2.073765754699707,
          -2.0798275470733643,
          -2.0800766944885254,
          -2.0874483585357666,
          -2.0813329219818115,
          -2.0753915309906006,
          -2.0883543491363525,
          -2.082099199295044,
          -2.076674699783325,
          -2.0833632946014404,
          -2.0835988521575928,
          -2.0777955055236816,
          -2.084251642227173,
          -2.077897310256958,
          -2.079073190689087,
          -2.08571457862854,
          -2.079637050628662,
          -2.0737345218658447,
          -2.086339235305786,
          -2.0808770656585693,
          -2.0752522945404053,
          -2.081609010696411,
          -2.0818567276000977,
          -2.076092481613159,
          -2.0828113555908203,
          -2.0769126415252686,
          -2.0776047706604004,
          -2.083913564682007,
          -2.0778748989105225,
          -2.084439992904663,
          -2.0851104259490967,
          -2.0793497562408447,
          -2.086099624633789,
          -2.0797879695892334,
          -2.0800483226776123,
          -2.0872597694396973,
          -2.0812253952026367,
          -2.0753650665283203,
          -2.0882201194763184,
          -2.0820460319519043,
          -2.0760464668273926,
          -2.083230972290039,
          -2.083477735519409,
          -2.0777556896209717,
          -2.084174394607544,
          -2.0779004096984863,
          -2.078964948654175,
          -2.08556866645813,
          -2.0795724391937256,
          -2.073751211166382,
          -2.0862483978271484,
          -2.080744504928589,
          -2.0752012729644775,
          -2.081519842147827,
          -2.0817785263061523,
          -2.0760960578918457,
          -2.082181930541992,
          -2.076836585998535,
          -2.089942216873169,
          -2.083810806274414,
          -2.0778534412384033,
          -2.084381103515625,
          -2.08493971824646,
          -2.0792601108551025,
          -2.085972547531128,
          -2.0797417163848877,
          -2.0800135135650635,
          -2.087064504623413,
          -2.081110954284668,
          -2.075331926345825,
          -2.0880796909332275,
          -2.081986904144287,
          -2.07606840133667,
          -2.083092212677002,
          -2.0770394802093506,
          -2.077709674835205,
          -2.084090232849121,
          -2.077897787094116,
          -2.0725491046905518,
          -2.085416316986084,
          -2.0795013904571533,
          -2.0737619400024414,
          -2.07985782623291,
          -2.080096483230591,
          -2.075143575668335,
          -2.0814242362976074,
          -2.0754098892211914,
          -2.0884687900543213,
          -2.082141160964966,
          -2.076754093170166,
          -2.0834765434265137,
          -2.0837016105651855,
          -2.0778257846832275,
          -2.084315538406372,
          -2.078495502471924,
          -2.079164505004883,
          -2.085839033126831,
          -2.0796892642974854,
          -2.073714256286621,
          -2.0864152908325195,
          -2.0809905529022217,
          -2.0752928256988525,
          -2.081683397293091,
          -2.081920862197876,
          -2.0760841369628906,
          -2.082947015762329,
          -2.0769753456115723,
          -2.0776569843292236,
          -2.0839998722076416,
          -2.0778887271881104,
          -2.0719528198242188,
          -2.0852575302124023,
          -2.0794241428375244,
          -2.073765993118286,
          -2.0798237323760986,
          -2.080073833465576,
          -2.0874288082122803,
          -2.0813217163085938,
          -2.0753891468048096,
          -2.0883402824401855,
          -2.0820939540863037,
          -2.076665163040161,
          -2.0833497047424316,
          -2.0835864543914795,
          -2.077791690826416,
          -2.0842440128326416,
          -2.077897787094116,
          -2.079061985015869,
          -2.0856993198394775,
          -2.0796303749084473,
          -2.0737366676330566,
          -2.086329936981201,
          -2.0808634757995605,
          -2.075247287750244,
          -2.081599473953247,
          -2.081848621368408,
          -2.0760931968688965,
          -2.0827953815460205,
          -2.0769050121307373,
          -2.0775980949401855,
          -2.0839028358459473,
          -2.0778727531433105,
          -2.0844342708587646,
          -2.085092544555664,
          -2.0793402194976807,
          -2.0860867500305176,
          -2.0797834396362305,
          -2.080044746398926,
          -2.0872392654418945,
          -2.0812134742736816,
          -2.075361967086792,
          -2.088205575942993,
          -2.0820400714874268,
          -2.076049327850342,
          -2.083216428756714,
          -2.0834643840789795,
          -2.0777511596679688,
          -2.084165573120117,
          -2.0779006481170654,
          -2.078953266143799,
          -2.085552930831909,
          -2.0795650482177734,
          -2.0737526416778564,
          -2.086238145828247,
          -2.0807301998138428,
          -2.075195550918579,
          -2.081509828567505,
          -2.0817699432373047,
          -2.0760960578918457,
          -2.0821781158447266,
          -2.0768280029296875,
          -2.0899221897125244,
          -2.0837998390197754,
          -2.077850818634033,
          -2.08437442779541,
          -2.084921360015869,
          -2.0792503356933594,
          -2.08595871925354,
          -2.0797364711761475,
          -2.0800094604492188,
          -2.087043046951294,
          -2.0810985565185547
         ],
         "yaxis": "y2"
        }
       ],
       "layout": {
        "autosize": true,
        "font": {
         "size": 10
        },
        "height": 420,
        "hovermode": "x unified",
        "legend": {
         "traceorder": "reversed",
         "y": 0.1
        },
        "margin": {
         "b": 0,
         "l": 0,
         "pad": 0,
         "r": 10,
         "t": 10
        },
        "template": {
         "data": {
          "bar": [
           {
            "error_x": {
             "color": "#2a3f5f"
            },
            "error_y": {
             "color": "#2a3f5f"
            },
            "marker": {
             "line": {
              "color": "white",
              "width": 0.5
             },
             "pattern": {
              "fillmode": "overlay",
              "size": 10,
              "solidity": 0.2
             }
            },
            "type": "bar"
           }
          ],
          "barpolar": [
           {
            "marker": {
             "line": {
              "color": "white",
              "width": 0.5
             },
             "pattern": {
              "fillmode": "overlay",
              "size": 10,
              "solidity": 0.2
             }
            },
            "type": "barpolar"
           }
          ],
          "carpet": [
           {
            "aaxis": {
             "endlinecolor": "#2a3f5f",
             "gridcolor": "#C8D4E3",
             "linecolor": "#C8D4E3",
             "minorgridcolor": "#C8D4E3",
             "startlinecolor": "#2a3f5f"
            },
            "baxis": {
             "endlinecolor": "#2a3f5f",
             "gridcolor": "#C8D4E3",
             "linecolor": "#C8D4E3",
             "minorgridcolor": "#C8D4E3",
             "startlinecolor": "#2a3f5f"
            },
            "type": "carpet"
           }
          ],
          "choropleth": [
           {
            "colorbar": {
             "outlinewidth": 0,
             "ticks": ""
            },
            "type": "choropleth"
           }
          ],
          "contour": [
           {
            "colorbar": {
             "outlinewidth": 0,
             "ticks": ""
            },
            "colorscale": [
             [
              0,
              "#0d0887"
             ],
             [
              0.1111111111111111,
              "#46039f"
             ],
             [
              0.2222222222222222,
              "#7201a8"
             ],
             [
              0.3333333333333333,
              "#9c179e"
             ],
             [
              0.4444444444444444,
              "#bd3786"
             ],
             [
              0.5555555555555556,
              "#d8576b"
             ],
             [
              0.6666666666666666,
              "#ed7953"
             ],
             [
              0.7777777777777778,
              "#fb9f3a"
             ],
             [
              0.8888888888888888,
              "#fdca26"
             ],
             [
              1,
              "#f0f921"
             ]
            ],
            "type": "contour"
           }
          ],
          "contourcarpet": [
           {
            "colorbar": {
             "outlinewidth": 0,
             "ticks": ""
            },
            "type": "contourcarpet"
           }
          ],
          "heatmap": [
           {
            "colorbar": {
             "outlinewidth": 0,
             "ticks": ""
            },
            "colorscale": [
             [
              0,
              "#0d0887"
             ],
             [
              0.1111111111111111,
              "#46039f"
             ],
             [
              0.2222222222222222,
              "#7201a8"
             ],
             [
              0.3333333333333333,
              "#9c179e"
             ],
             [
              0.4444444444444444,
              "#bd3786"
             ],
             [
              0.5555555555555556,
              "#d8576b"
             ],
             [
              0.6666666666666666,
              "#ed7953"
             ],
             [
              0.7777777777777778,
              "#fb9f3a"
             ],
             [
              0.8888888888888888,
              "#fdca26"
             ],
             [
              1,
              "#f0f921"
             ]
            ],
            "type": "heatmap"
           }
          ],
          "heatmapgl": [
           {
            "colorbar": {
             "outlinewidth": 0,
             "ticks": ""
            },
            "colorscale": [
             [
              0,
              "#0d0887"
             ],
             [
              0.1111111111111111,
              "#46039f"
             ],
             [
              0.2222222222222222,
              "#7201a8"
             ],
             [
              0.3333333333333333,
              "#9c179e"
             ],
             [
              0.4444444444444444,
              "#bd3786"
             ],
             [
              0.5555555555555556,
              "#d8576b"
             ],
             [
              0.6666666666666666,
              "#ed7953"
             ],
             [
              0.7777777777777778,
              "#fb9f3a"
             ],
             [
              0.8888888888888888,
              "#fdca26"
             ],
             [
              1,
              "#f0f921"
             ]
            ],
            "type": "heatmapgl"
           }
          ],
          "histogram": [
           {
            "marker": {
             "pattern": {
              "fillmode": "overlay",
              "size": 10,
              "solidity": 0.2
             }
            },
            "type": "histogram"
           }
          ],
          "histogram2d": [
           {
            "colorbar": {
             "outlinewidth": 0,
             "ticks": ""
            },
            "colorscale": [
             [
              0,
              "#0d0887"
             ],
             [
              0.1111111111111111,
              "#46039f"
             ],
             [
              0.2222222222222222,
              "#7201a8"
             ],
             [
              0.3333333333333333,
              "#9c179e"
             ],
             [
              0.4444444444444444,
              "#bd3786"
             ],
             [
              0.5555555555555556,
              "#d8576b"
             ],
             [
              0.6666666666666666,
              "#ed7953"
             ],
             [
              0.7777777777777778,
              "#fb9f3a"
             ],
             [
              0.8888888888888888,
              "#fdca26"
             ],
             [
              1,
              "#f0f921"
             ]
            ],
            "type": "histogram2d"
           }
          ],
          "histogram2dcontour": [
           {
            "colorbar": {
             "outlinewidth": 0,
             "ticks": ""
            },
            "colorscale": [
             [
              0,
              "#0d0887"
             ],
             [
              0.1111111111111111,
              "#46039f"
             ],
             [
              0.2222222222222222,
              "#7201a8"
             ],
             [
              0.3333333333333333,
              "#9c179e"
             ],
             [
              0.4444444444444444,
              "#bd3786"
             ],
             [
              0.5555555555555556,
              "#d8576b"
             ],
             [
              0.6666666666666666,
              "#ed7953"
             ],
             [
              0.7777777777777778,
              "#fb9f3a"
             ],
             [
              0.8888888888888888,
              "#fdca26"
             ],
             [
              1,
              "#f0f921"
             ]
            ],
            "type": "histogram2dcontour"
           }
          ],
          "mesh3d": [
           {
            "colorbar": {
             "outlinewidth": 0,
             "ticks": ""
            },
            "type": "mesh3d"
           }
          ],
          "parcoords": [
           {
            "line": {
             "colorbar": {
              "outlinewidth": 0,
              "ticks": ""
             }
            },
            "type": "parcoords"
           }
          ],
          "pie": [
           {
            "automargin": true,
            "type": "pie"
           }
          ],
          "scatter": [
           {
            "fillpattern": {
             "fillmode": "overlay",
             "size": 10,
             "solidity": 0.2
            },
            "type": "scatter"
           }
          ],
          "scatter3d": [
           {
            "line": {
             "colorbar": {
              "outlinewidth": 0,
              "ticks": ""
             }
            },
            "marker": {
             "colorbar": {
              "outlinewidth": 0,
              "ticks": ""
             }
            },
            "type": "scatter3d"
           }
          ],
          "scattercarpet": [
           {
            "marker": {
             "colorbar": {
              "outlinewidth": 0,
              "ticks": ""
             }
            },
            "type": "scattercarpet"
           }
          ],
          "scattergeo": [
           {
            "marker": {
             "colorbar": {
              "outlinewidth": 0,
              "ticks": ""
             }
            },
            "type": "scattergeo"
           }
          ],
          "scattergl": [
           {
            "marker": {
             "colorbar": {
              "outlinewidth": 0,
              "ticks": ""
             }
            },
            "type": "scattergl"
           }
          ],
          "scattermapbox": [
           {
            "marker": {
             "colorbar": {
              "outlinewidth": 0,
              "ticks": ""
             }
            },
            "type": "scattermapbox"
           }
          ],
          "scatterpolar": [
           {
            "marker": {
             "colorbar": {
              "outlinewidth": 0,
              "ticks": ""
             }
            },
            "type": "scatterpolar"
           }
          ],
          "scatterpolargl": [
           {
            "marker": {
             "colorbar": {
              "outlinewidth": 0,
              "ticks": ""
             }
            },
            "type": "scatterpolargl"
           }
          ],
          "scatterternary": [
           {
            "marker": {
             "colorbar": {
              "outlinewidth": 0,
              "ticks": ""
             }
            },
            "type": "scatterternary"
           }
          ],
          "surface": [
           {
            "colorbar": {
             "outlinewidth": 0,
             "ticks": ""
            },
            "colorscale": [
             [
              0,
              "#0d0887"
             ],
             [
              0.1111111111111111,
              "#46039f"
             ],
             [
              0.2222222222222222,
              "#7201a8"
             ],
             [
              0.3333333333333333,
              "#9c179e"
             ],
             [
              0.4444444444444444,
              "#bd3786"
             ],
             [
              0.5555555555555556,
              "#d8576b"
             ],
             [
              0.6666666666666666,
              "#ed7953"
             ],
             [
              0.7777777777777778,
              "#fb9f3a"
             ],
             [
              0.8888888888888888,
              "#fdca26"
             ],
             [
              1,
              "#f0f921"
             ]
            ],
            "type": "surface"
           }
          ],
          "table": [
           {
            "cells": {
             "fill": {
              "color": "#EBF0F8"
             },
             "line": {
              "color": "white"
             }
            },
            "header": {
             "fill": {
              "color": "#C8D4E3"
             },
             "line": {
              "color": "white"
             }
            },
            "type": "table"
           }
          ]
         },
         "layout": {
          "annotationdefaults": {
           "arrowcolor": "#2a3f5f",
           "arrowhead": 0,
           "arrowwidth": 1
          },
          "autotypenumbers": "strict",
          "coloraxis": {
           "colorbar": {
            "outlinewidth": 0,
            "ticks": ""
           }
          },
          "colorscale": {
           "diverging": [
            [
             0,
             "#8e0152"
            ],
            [
             0.1,
             "#c51b7d"
            ],
            [
             0.2,
             "#de77ae"
            ],
            [
             0.3,
             "#f1b6da"
            ],
            [
             0.4,
             "#fde0ef"
            ],
            [
             0.5,
             "#f7f7f7"
            ],
            [
             0.6,
             "#e6f5d0"
            ],
            [
             0.7,
             "#b8e186"
            ],
            [
             0.8,
             "#7fbc41"
            ],
            [
             0.9,
             "#4d9221"
            ],
            [
             1,
             "#276419"
            ]
           ],
           "sequential": [
            [
             0,
             "#0d0887"
            ],
            [
             0.1111111111111111,
             "#46039f"
            ],
            [
             0.2222222222222222,
             "#7201a8"
            ],
            [
             0.3333333333333333,
             "#9c179e"
            ],
            [
             0.4444444444444444,
             "#bd3786"
            ],
            [
             0.5555555555555556,
             "#d8576b"
            ],
            [
             0.6666666666666666,
             "#ed7953"
            ],
            [
             0.7777777777777778,
             "#fb9f3a"
            ],
            [
             0.8888888888888888,
             "#fdca26"
            ],
            [
             1,
             "#f0f921"
            ]
           ],
           "sequentialminus": [
            [
             0,
             "#0d0887"
            ],
            [
             0.1111111111111111,
             "#46039f"
            ],
            [
             0.2222222222222222,
             "#7201a8"
            ],
            [
             0.3333333333333333,
             "#9c179e"
            ],
            [
             0.4444444444444444,
             "#bd3786"
            ],
            [
             0.5555555555555556,
             "#d8576b"
            ],
            [
             0.6666666666666666,
             "#ed7953"
            ],
            [
             0.7777777777777778,
             "#fb9f3a"
            ],
            [
             0.8888888888888888,
             "#fdca26"
            ],
            [
             1,
             "#f0f921"
            ]
           ]
          },
          "colorway": [
           "#636efa",
           "#EF553B",
           "#00cc96",
           "#ab63fa",
           "#FFA15A",
           "#19d3f3",
           "#FF6692",
           "#B6E880",
           "#FF97FF",
           "#FECB52"
          ],
          "font": {
           "color": "#2a3f5f"
          },
          "geo": {
           "bgcolor": "white",
           "lakecolor": "white",
           "landcolor": "white",
           "showlakes": true,
           "showland": true,
           "subunitcolor": "#C8D4E3"
          },
          "hoverlabel": {
           "align": "left"
          },
          "hovermode": "closest",
          "mapbox": {
           "style": "light"
          },
          "paper_bgcolor": "white",
          "plot_bgcolor": "white",
          "polar": {
           "angularaxis": {
            "gridcolor": "#EBF0F8",
            "linecolor": "#EBF0F8",
            "ticks": ""
           },
           "bgcolor": "white",
           "radialaxis": {
            "gridcolor": "#EBF0F8",
            "linecolor": "#EBF0F8",
            "ticks": ""
           }
          },
          "scene": {
           "xaxis": {
            "backgroundcolor": "white",
            "gridcolor": "#DFE8F3",
            "gridwidth": 2,
            "linecolor": "#EBF0F8",
            "showbackground": true,
            "ticks": "",
            "zerolinecolor": "#EBF0F8"
           },
           "yaxis": {
            "backgroundcolor": "white",
            "gridcolor": "#DFE8F3",
            "gridwidth": 2,
            "linecolor": "#EBF0F8",
            "showbackground": true,
            "ticks": "",
            "zerolinecolor": "#EBF0F8"
           },
           "zaxis": {
            "backgroundcolor": "white",
            "gridcolor": "#DFE8F3",
            "gridwidth": 2,
            "linecolor": "#EBF0F8",
            "showbackground": true,
            "ticks": "",
            "zerolinecolor": "#EBF0F8"
           }
          },
          "shapedefaults": {
           "line": {
            "color": "#2a3f5f"
           }
          },
          "ternary": {
           "aaxis": {
            "gridcolor": "#DFE8F3",
            "linecolor": "#A2B1C6",
            "ticks": ""
           },
           "baxis": {
            "gridcolor": "#DFE8F3",
            "linecolor": "#A2B1C6",
            "ticks": ""
           },
           "bgcolor": "white",
           "caxis": {
            "gridcolor": "#DFE8F3",
            "linecolor": "#A2B1C6",
            "ticks": ""
           }
          },
          "title": {
           "x": 0.05
          },
          "xaxis": {
           "automargin": true,
           "gridcolor": "#EBF0F8",
           "linecolor": "#EBF0F8",
           "ticks": "",
           "title": {
            "standoff": 15
           },
           "zerolinecolor": "#EBF0F8",
           "zerolinewidth": 2
          },
          "yaxis": {
           "automargin": true,
           "gridcolor": "#EBF0F8",
           "linecolor": "#EBF0F8",
           "ticks": "",
           "title": {
            "standoff": 15
           },
           "zerolinecolor": "#EBF0F8",
           "zerolinewidth": 2
          }
         }
        },
        "title": {
         "font": {
          "size": 12
         }
        },
        "width": 700,
        "xaxis": {
         "anchor": "y",
         "domain": [
          0,
          1
         ],
         "linewidth": 1.5,
         "mirror": true,
         "range": [
          "2025-08-17T00:00:00",
          "2026-09-21T00:00:00"
         ],
         "showline": true,
         "title": {
          "text": "ds"
         },
         "type": "date"
        },
        "xaxis2": {
         "anchor": "y2",
         "domain": [
          0,
          1
         ],
         "linewidth": 1.5,
         "mirror": true,
         "range": [
          "2025-08-17T00:00:00",
          "2026-09-21T00:00:00"
         ],
         "showline": true,
         "title": {
          "text": "ds"
         },
         "type": "date"
        },
        "yaxis": {
         "anchor": "x",
         "domain": [
          0.575,
          1
         ],
         "linewidth": 1.5,
         "mirror": true,
         "rangemode": "normal",
         "showline": true,
         "title": {
          "text": "Trend"
         }
        },
        "yaxis2": {
         "anchor": "x2",
         "domain": [
          0,
          0.425
         ],
         "linewidth": 1.5,
         "mirror": true,
         "rangemode": "tozero",
         "showline": true,
         "title": {
          "text": "daily seasonality"
         }
        }
       }
      }
     },
     "metadata": {},
     "output_type": "display_data"
    }
   ],
   "source": [
    "modelo.plot_components(previsao_futura)"
   ]
  },
  {
   "cell_type": "markdown",
   "id": "6d3c2ef1",
   "metadata": {},
   "source": [
    "### Visualizando previsão"
   ]
  },
  {
   "cell_type": "code",
   "execution_count": 17,
   "id": "2252ec07",
   "metadata": {},
   "outputs": [
    {
     "data": {
      "image/png": "[encoded data removed]",
      "text/plain": [
       "<Figure size 1200x600 with 1 Axes>"
      ]
     },
     "metadata": {},
     "output_type": "display_data"
    }
   ],
   "source": [
    "plt.figure(figsize=(12, 6))\n",
    "\n",
    "# Previsão histórica\n",
    "plt.plot(\n",
    "    previsoes_historicas['ds'],\n",
    "    previsoes_historicas['yhat1'],\n",
    "    label='Previsões Históricas (2015 - 2025)',\n",
    "    c='r',\n",
    ")\n",
    "\n",
    "# Previsão futura\n",
    "plt.plot(\n",
    "    previsao_futura['ds'],\n",
    "    previsao_futura['yhat1'],\n",
    "    label='Previsões Futuras (Próximos 365 dias)',\n",
    "    c='b',\n",
    ")\n",
    "\n",
    "# Dados históricos\n",
    "plt.plot(\n",
    "    df_formatted['ds'],\n",
    "    df_formatted['y'],\n",
    "    label='Valores Históricas observados (2015 - 2025)',\n",
    "    c='g',\n",
    ")\n",
    "\n",
    "plt.legend()\n",
    "plt.show()"
   ]
  }
 ],
 "metadata": {
  "kernelspec": {
   "display_name": ".venv (3.12.3)",
   "language": "python",
   "name": "python3"
  },
  "language_info": {
   "codemirror_mode": {
    "name": "ipython",
    "version": 3
   },
   "file_extension": ".py",
   "mimetype": "text/x-python",
   "name": "python",
   "nbconvert_exporter": "python",
   "pygments_lexer": "ipython3",
   "version": "3.12.3"
  }
 },
 "nbformat": 4,
 "nbformat_minor": 5
}
