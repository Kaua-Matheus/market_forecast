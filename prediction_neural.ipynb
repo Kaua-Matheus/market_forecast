{
 "cells": [
  {
   "cell_type": "markdown",
   "id": "fcc9164e",
   "metadata": {},
   "source": [
    "# Inicio\n",
    "Iremos usar um modelo de rede neural para manipular séries temporais.\\\n",
    "Iremos usar o NeuralProphet"
   ]
  },
  {
   "cell_type": "code",
   "execution_count": 19,
   "id": "2aa2ec9d",
   "metadata": {},
   "outputs": [],
   "source": [
    "import pandas as pd\n",
    "import matplotlib.pyplot as plt\n",
    "import numpy as np\n",
    "import yfinance as yf\n",
    "import torch\n",
    "import os\n",
    "import pickle\n",
    "\n",
    "from sklearn.metrics import (\n",
    "    r2_score,\n",
    "    mean_absolute_error,\n",
    "    mean_absolute_percentage_error\n",
    ")\n",
    "\n",
    "from datetime import datetime\n",
    "from neuralprophet.configure import Season\n",
    "torch.serialization.add_safe_globals([Season])\n",
    "\n",
    "import neuralprophet"
   ]
  },
  {
   "cell_type": "code",
   "execution_count": 20,
   "id": "8829ad6e",
   "metadata": {},
   "outputs": [
    {
     "name": "stderr",
     "output_type": "stream",
     "text": [
      "WARNING - (py.warnings._showwarnmsg) - /tmp/ipykernel_130323/117030692.py:5: FutureWarning:\n",
      "\n",
      "YF.download() has changed argument auto_adjust default to True\n",
      "\n",
      "\n",
      "[*********************100%***********************]  1 of 1 completed\n"
     ]
    }
   ],
   "source": [
    "codigo = 'BRL=X'\n",
    "inicio = '2000-01-01'\n",
    "fim = pd.to_datetime(datetime.now()).strftime('%Y-%m-%d')\n",
    "\n",
    "data = yf.download(codigo, start=inicio, end=fim, multi_level_index=False)"
   ]
  },
  {
   "cell_type": "code",
   "execution_count": 21,
   "id": "dcc8c251",
   "metadata": {},
   "outputs": [],
   "source": [
    "# Transformando em dataframe\n",
    "df = pd.DataFrame(data)\n",
    "\n",
    "# Transformando dados\n",
    "df = df[['Close']].reset_index()\n",
    "df.columns = ['ds', 'y']"
   ]
  },
  {
   "cell_type": "markdown",
   "id": "08f8453d",
   "metadata": {},
   "source": [
    "## Modelo\n",
    "Iremos treinar o modelo com os dados"
   ]
  },
  {
   "cell_type": "code",
   "execution_count": 22,
   "id": "7189843d",
   "metadata": {},
   "outputs": [],
   "source": [
    "df_formatted = pd.DataFrame({\n",
    "    'ds': pd.to_datetime(df['ds']),\n",
    "    'y': df['y'].astype(float)\n",
    "})\n",
    "df_formatted = df_formatted.dropna()\n",
    "df_formatted = df_formatted.sort_values('ds').reset_index(drop=True)"
   ]
  },
  {
   "cell_type": "code",
   "execution_count": 112,
   "id": "89c47b63",
   "metadata": {},
   "outputs": [
    {
     "name": "stderr",
     "output_type": "stream",
     "text": [
      "INFO - (NP.config.__post_init__) - Note: Trend changepoint regularization is experimental.\n",
      "WARNING - (NP.forecaster.fit) - When Global modeling with local normalization, metrics are displayed in normalized scale.\n",
      "WARNING - (py.warnings._showwarnmsg) - /home/operador/Documentos/Estudos/Projetos/ScienceMarket/.venv/lib/python3.12/site-packages/neuralprophet/df_utils.py:464: FutureWarning:\n",
      "\n",
      "DataFrameGroupBy.apply operated on the grouping columns. This behavior is deprecated, and in a future version of pandas the grouping columns will be excluded from the operation. Either pass `include_groups=False` to exclude the groupings or explicitly select the grouping columns after groupby to silence this warning.\n",
      "\n",
      "\n",
      "WARNING - (py.warnings._showwarnmsg) - /home/operador/Documentos/Estudos/Projetos/ScienceMarket/.venv/lib/python3.12/site-packages/neuralprophet/df_utils.py:1152: FutureWarning:\n",
      "\n",
      "Series.view is deprecated and will be removed in a future version. Use ``astype`` as an alternative to change the dtype.\n",
      "\n",
      "\n",
      "INFO - (NP.df_utils._infer_frequency) - Major frequency B corresponds to 99.541% of the data.\n",
      "WARNING - (py.warnings._showwarnmsg) - /home/operador/Documentos/Estudos/Projetos/ScienceMarket/.venv/lib/python3.12/site-packages/neuralprophet/df_utils.py:1152: FutureWarning:\n",
      "\n",
      "Series.view is deprecated and will be removed in a future version. Use ``astype`` as an alternative to change the dtype.\n",
      "\n",
      "\n",
      "WARNING - (py.warnings._showwarnmsg) - /home/operador/Documentos/Estudos/Projetos/ScienceMarket/.venv/lib/python3.12/site-packages/neuralprophet/df_utils.py:1152: FutureWarning:\n",
      "\n",
      "Series.view is deprecated and will be removed in a future version. Use ``astype`` as an alternative to change the dtype.\n",
      "\n",
      "\n",
      "INFO - (NP.df_utils._infer_frequency) - Defined frequency is equal to major frequency - D\n",
      "INFO - (NP.config.init_data_params) - Setting normalization to global as only one dataframe provided for training.\n",
      "INFO - (NP.config.set_auto_batch_epoch) - Auto-set epochs to 70\n"
     ]
    },
    {
     "name": "stdout",
     "output_type": "stream",
     "text": [
      "Epoch 70: 100%|██████████| 70/70 [00:00<00:00, 145.82it/s, loss=0.00426, v_num=23, MAE=0.208, RMSE=0.262, Loss=0.00448, RegLoss=0.000348]  \n"
     ]
    }
   ],
   "source": [
    "modelo = neuralprophet.NeuralProphet(\n",
    "    growth='linear',\n",
    "    changepoints_range=0.9,\n",
    "    n_changepoints=25,\n",
    "\n",
    "    yearly_seasonality=True,\n",
    "    weekly_seasonality=False,\n",
    "    daily_seasonality=False,\n",
    "\n",
    "    batch_size=32,\n",
    "    learning_rate=0.01,\n",
    "\n",
    "    seasonality_mode='multiplicative',\n",
    "    normalize='minmax',\n",
    "\n",
    "    trend_reg=0.01,\n",
    "    ar_reg=0.01,\n",
    "\n",
    "    n_forecasts=1,\n",
    "\n",
    "    trend_reg_threshold=False\n",
    ")\n",
    "metrics = modelo.fit(\n",
    "    df_formatted,\n",
    "    freq='D',\n",
    "    validation_df=None,\n",
    "    progress='bar'\n",
    "    )"
   ]
  },
  {
   "cell_type": "markdown",
   "id": "086e59c0",
   "metadata": {},
   "source": [
    "### Testando modelo"
   ]
  },
  {
   "cell_type": "code",
   "execution_count": 113,
   "id": "ef9883ee",
   "metadata": {},
   "outputs": [
    {
     "name": "stderr",
     "output_type": "stream",
     "text": [
      "WARNING - (py.warnings._showwarnmsg) - /home/operador/Documentos/Estudos/Projetos/ScienceMarket/.venv/lib/python3.12/site-packages/neuralprophet/df_utils.py:1152: FutureWarning:\n",
      "\n",
      "Series.view is deprecated and will be removed in a future version. Use ``astype`` as an alternative to change the dtype.\n",
      "\n",
      "\n",
      "INFO - (NP.df_utils._infer_frequency) - Major frequency B corresponds to 99.541% of the data.\n",
      "WARNING - (py.warnings._showwarnmsg) - /home/operador/Documentos/Estudos/Projetos/ScienceMarket/.venv/lib/python3.12/site-packages/neuralprophet/df_utils.py:1152: FutureWarning:\n",
      "\n",
      "Series.view is deprecated and will be removed in a future version. Use ``astype`` as an alternative to change the dtype.\n",
      "\n",
      "\n",
      "WARNING - (py.warnings._showwarnmsg) - /home/operador/Documentos/Estudos/Projetos/ScienceMarket/.venv/lib/python3.12/site-packages/neuralprophet/df_utils.py:1152: FutureWarning:\n",
      "\n",
      "Series.view is deprecated and will be removed in a future version. Use ``astype`` as an alternative to change the dtype.\n",
      "\n",
      "\n",
      "INFO - (NP.df_utils._infer_frequency) - Defined frequency is equal to major frequency - D\n",
      "INFO - (NP.df_utils.return_df_in_original_format) - Returning df with no ID column\n",
      "WARNING - (py.warnings._showwarnmsg) - /home/operador/Documentos/Estudos/Projetos/ScienceMarket/.venv/lib/python3.12/site-packages/neuralprophet/df_utils.py:1152: FutureWarning:\n",
      "\n",
      "Series.view is deprecated and will be removed in a future version. Use ``astype`` as an alternative to change the dtype.\n",
      "\n",
      "\n",
      "INFO - (NP.df_utils._infer_frequency) - Major frequency D corresponds to 99.726% of the data.\n",
      "WARNING - (py.warnings._showwarnmsg) - /home/operador/Documentos/Estudos/Projetos/ScienceMarket/.venv/lib/python3.12/site-packages/neuralprophet/df_utils.py:1152: FutureWarning:\n",
      "\n",
      "Series.view is deprecated and will be removed in a future version. Use ``astype`` as an alternative to change the dtype.\n",
      "\n",
      "\n",
      "WARNING - (py.warnings._showwarnmsg) - /home/operador/Documentos/Estudos/Projetos/ScienceMarket/.venv/lib/python3.12/site-packages/neuralprophet/df_utils.py:1152: FutureWarning:\n",
      "\n",
      "Series.view is deprecated and will be removed in a future version. Use ``astype`` as an alternative to change the dtype.\n",
      "\n",
      "\n",
      "INFO - (NP.df_utils._infer_frequency) - Defined frequency is equal to major frequency - D\n",
      "WARNING - (py.warnings._showwarnmsg) - /home/operador/Documentos/Estudos/Projetos/ScienceMarket/.venv/lib/python3.12/site-packages/neuralprophet/df_utils.py:1152: FutureWarning:\n",
      "\n",
      "Series.view is deprecated and will be removed in a future version. Use ``astype`` as an alternative to change the dtype.\n",
      "\n",
      "\n",
      "INFO - (NP.df_utils._infer_frequency) - Major frequency D corresponds to 99.726% of the data.\n",
      "WARNING - (py.warnings._showwarnmsg) - /home/operador/Documentos/Estudos/Projetos/ScienceMarket/.venv/lib/python3.12/site-packages/neuralprophet/df_utils.py:1152: FutureWarning:\n",
      "\n",
      "Series.view is deprecated and will be removed in a future version. Use ``astype`` as an alternative to change the dtype.\n",
      "\n",
      "\n",
      "WARNING - (py.warnings._showwarnmsg) - /home/operador/Documentos/Estudos/Projetos/ScienceMarket/.venv/lib/python3.12/site-packages/neuralprophet/df_utils.py:1152: FutureWarning:\n",
      "\n",
      "Series.view is deprecated and will be removed in a future version. Use ``astype`` as an alternative to change the dtype.\n",
      "\n",
      "\n",
      "INFO - (NP.df_utils._infer_frequency) - Defined frequency is equal to major frequency - D\n",
      "WARNING - (py.warnings._showwarnmsg) - /home/operador/Documentos/Estudos/Projetos/ScienceMarket/.venv/lib/python3.12/site-packages/neuralprophet/df_utils.py:464: FutureWarning:\n",
      "\n",
      "DataFrameGroupBy.apply operated on the grouping columns. This behavior is deprecated, and in a future version of pandas the grouping columns will be excluded from the operation. Either pass `include_groups=False` to exclude the groupings or explicitly select the grouping columns after groupby to silence this warning.\n",
      "\n",
      "\n",
      "WARNING - (py.warnings._showwarnmsg) - /home/operador/Documentos/Estudos/Projetos/ScienceMarket/.venv/lib/python3.12/site-packages/neuralprophet/data/process.py:517: FutureWarning:\n",
      "\n",
      "DataFrameGroupBy.apply operated on the grouping columns. This behavior is deprecated, and in a future version of pandas the grouping columns will be excluded from the operation. Either pass `include_groups=False` to exclude the groupings or explicitly select the grouping columns after groupby to silence this warning.\n",
      "\n",
      "\n"
     ]
    },
    {
     "name": "stdout",
     "output_type": "stream",
     "text": [
      "Predicting DataLoader 0: 100%|██████████| 1/1 [00:00<00:00, 429.48it/s]"
     ]
    },
    {
     "name": "stderr",
     "output_type": "stream",
     "text": [
      "INFO - (NP.df_utils.return_df_in_original_format) - Returning df with no ID column\n",
      "WARNING - (py.warnings._showwarnmsg) - /home/operador/Documentos/Estudos/Projetos/ScienceMarket/.venv/lib/python3.12/site-packages/neuralprophet/df_utils.py:1152: FutureWarning:\n",
      "\n",
      "Series.view is deprecated and will be removed in a future version. Use ``astype`` as an alternative to change the dtype.\n",
      "\n",
      "\n",
      "INFO - (NP.df_utils._infer_frequency) - Major frequency B corresponds to 99.541% of the data.\n",
      "WARNING - (py.warnings._showwarnmsg) - /home/operador/Documentos/Estudos/Projetos/ScienceMarket/.venv/lib/python3.12/site-packages/neuralprophet/df_utils.py:1152: FutureWarning:\n",
      "\n",
      "Series.view is deprecated and will be removed in a future version. Use ``astype`` as an alternative to change the dtype.\n",
      "\n",
      "\n",
      "WARNING - (py.warnings._showwarnmsg) - /home/operador/Documentos/Estudos/Projetos/ScienceMarket/.venv/lib/python3.12/site-packages/neuralprophet/df_utils.py:1152: FutureWarning:\n",
      "\n",
      "Series.view is deprecated and will be removed in a future version. Use ``astype`` as an alternative to change the dtype.\n",
      "\n",
      "\n",
      "INFO - (NP.df_utils._infer_frequency) - Defined frequency is equal to major frequency - D\n",
      "WARNING - (py.warnings._showwarnmsg) - /home/operador/Documentos/Estudos/Projetos/ScienceMarket/.venv/lib/python3.12/site-packages/neuralprophet/df_utils.py:1152: FutureWarning:\n",
      "\n",
      "Series.view is deprecated and will be removed in a future version. Use ``astype`` as an alternative to change the dtype.\n",
      "\n",
      "\n",
      "INFO - (NP.df_utils._infer_frequency) - Major frequency B corresponds to 99.541% of the data.\n",
      "WARNING - (py.warnings._showwarnmsg) - /home/operador/Documentos/Estudos/Projetos/ScienceMarket/.venv/lib/python3.12/site-packages/neuralprophet/df_utils.py:1152: FutureWarning:\n",
      "\n",
      "Series.view is deprecated and will be removed in a future version. Use ``astype`` as an alternative to change the dtype.\n",
      "\n",
      "\n",
      "WARNING - (py.warnings._showwarnmsg) - /home/operador/Documentos/Estudos/Projetos/ScienceMarket/.venv/lib/python3.12/site-packages/neuralprophet/df_utils.py:1152: FutureWarning:\n",
      "\n",
      "Series.view is deprecated and will be removed in a future version. Use ``astype`` as an alternative to change the dtype.\n",
      "\n",
      "\n",
      "INFO - (NP.df_utils._infer_frequency) - Defined frequency is equal to major frequency - D\n",
      "WARNING - (py.warnings._showwarnmsg) - /home/operador/Documentos/Estudos/Projetos/ScienceMarket/.venv/lib/python3.12/site-packages/neuralprophet/df_utils.py:464: FutureWarning:\n",
      "\n",
      "DataFrameGroupBy.apply operated on the grouping columns. This behavior is deprecated, and in a future version of pandas the grouping columns will be excluded from the operation. Either pass `include_groups=False` to exclude the groupings or explicitly select the grouping columns after groupby to silence this warning.\n",
      "\n",
      "\n"
     ]
    },
    {
     "name": "stdout",
     "output_type": "stream",
     "text": [
      "\n",
      "Predicting DataLoader 0: 100%|██████████| 6/6 [00:00<00:00, 356.84it/s]"
     ]
    },
    {
     "name": "stderr",
     "output_type": "stream",
     "text": [
      "INFO - (NP.df_utils.return_df_in_original_format) - Returning df with no ID column\n"
     ]
    },
    {
     "name": "stdout",
     "output_type": "stream",
     "text": [
      "\n"
     ]
    }
   ],
   "source": [
    "dados_futuros = modelo.make_future_dataframe(df_formatted, periods=365)\n",
    "previsao_futura = modelo.predict(dados_futuros)\n",
    "\n",
    "previsoes_historicas = modelo.predict(df_formatted)"
   ]
  },
  {
   "cell_type": "code",
   "execution_count": 114,
   "id": "f72aa08e",
   "metadata": {},
   "outputs": [
    {
     "data": {
      "text/html": [
       "<div>\n",
       "<style scoped>\n",
       "    .dataframe tbody tr th:only-of-type {\n",
       "        vertical-align: middle;\n",
       "    }\n",
       "\n",
       "    .dataframe tbody tr th {\n",
       "        vertical-align: top;\n",
       "    }\n",
       "\n",
       "    .dataframe thead th {\n",
       "        text-align: right;\n",
       "    }\n",
       "</style>\n",
       "<table border=\"1\" class=\"dataframe\">\n",
       "  <thead>\n",
       "    <tr style=\"text-align: right;\">\n",
       "      <th></th>\n",
       "      <th>ds</th>\n",
       "      <th>y</th>\n",
       "      <th>yhat1</th>\n",
       "      <th>trend</th>\n",
       "      <th>season_yearly</th>\n",
       "    </tr>\n",
       "  </thead>\n",
       "  <tbody>\n",
       "    <tr>\n",
       "      <th>0</th>\n",
       "      <td>2025-09-11</td>\n",
       "      <td>None</td>\n",
       "      <td>5.987293</td>\n",
       "      <td>5.976585</td>\n",
       "      <td>0.010708</td>\n",
       "    </tr>\n",
       "    <tr>\n",
       "      <th>1</th>\n",
       "      <td>2025-09-12</td>\n",
       "      <td>None</td>\n",
       "      <td>5.994521</td>\n",
       "      <td>5.977793</td>\n",
       "      <td>0.016728</td>\n",
       "    </tr>\n",
       "    <tr>\n",
       "      <th>2</th>\n",
       "      <td>2025-09-13</td>\n",
       "      <td>None</td>\n",
       "      <td>6.001746</td>\n",
       "      <td>5.979002</td>\n",
       "      <td>0.022744</td>\n",
       "    </tr>\n",
       "    <tr>\n",
       "      <th>3</th>\n",
       "      <td>2025-09-14</td>\n",
       "      <td>None</td>\n",
       "      <td>6.008925</td>\n",
       "      <td>5.980211</td>\n",
       "      <td>0.028714</td>\n",
       "    </tr>\n",
       "    <tr>\n",
       "      <th>4</th>\n",
       "      <td>2025-09-15</td>\n",
       "      <td>None</td>\n",
       "      <td>6.016069</td>\n",
       "      <td>5.981419</td>\n",
       "      <td>0.034650</td>\n",
       "    </tr>\n",
       "  </tbody>\n",
       "</table>\n",
       "</div>"
      ],
      "text/plain": [
       "          ds     y     yhat1     trend  season_yearly\n",
       "0 2025-09-11  None  5.987293  5.976585       0.010708\n",
       "1 2025-09-12  None  5.994521  5.977793       0.016728\n",
       "2 2025-09-13  None  6.001746  5.979002       0.022744\n",
       "3 2025-09-14  None  6.008925  5.980211       0.028714\n",
       "4 2025-09-15  None  6.016069  5.981419       0.034650"
      ]
     },
     "execution_count": 114,
     "metadata": {},
     "output_type": "execute_result"
    }
   ],
   "source": [
    "previsao_futura.head()"
   ]
  },
  {
   "cell_type": "code",
   "execution_count": 109,
   "id": "cfce2521",
   "metadata": {},
   "outputs": [
    {
     "name": "stderr",
     "output_type": "stream",
     "text": [
      "ERROR - (NP.plotly.plot_components) - plotly-resampler is not installed. Please install it to use the resampler.\n",
      "WARNING - (py.warnings._showwarnmsg) - /home/operador/Documentos/Estudos/Projetos/ScienceMarket/.venv/lib/python3.12/site-packages/neuralprophet/plot_forecast_plotly.py:283: FutureWarning:\n",
      "\n",
      "Downcasting object dtype arrays on .fillna, .ffill, .bfill is deprecated and will change in a future version. Call result.infer_objects(copy=False) instead. To opt-in to the future behavior, set `pd.set_option('future.no_silent_downcasting', True)`\n",
      "\n",
      "\n",
      "WARNING - (py.warnings._showwarnmsg) - /home/operador/Documentos/Estudos/Projetos/ScienceMarket/.venv/lib/python3.12/site-packages/neuralprophet/plot_forecast_plotly.py:410: FutureWarning:\n",
      "\n",
      "The behavior of DatetimeProperties.to_pydatetime is deprecated, in a future version this will return a Series containing python datetime objects instead of an ndarray. To retain the old behavior, call `np.array` on the result\n",
      "\n",
      "\n"
     ]
    },
    {
     "data": {
      "application/vnd.plotly.v1+json": {
       "config": {
        "plotlyServerURL": "https://plot.ly"
       },
       "data": [
        {
         "line": {
          "color": "#2d92ff",
          "width": 2
         },
         "mode": "lines",
         "name": "Trend",
         "showlegend": false,
         "type": "scatter",
         "x": [
          "2025-09-11T00:00:00",
          "2025-09-12T00:00:00",
          "2025-09-13T00:00:00",
          "2025-09-14T00:00:00",
          "2025-09-15T00:00:00",
          "2025-09-16T00:00:00",
          "2025-09-17T00:00:00",
          "2025-09-18T00:00:00",
          "2025-09-19T00:00:00",
          "2025-09-20T00:00:00",
          "2025-09-21T00:00:00",
          "2025-09-22T00:00:00",
          "2025-09-23T00:00:00",
          "2025-09-24T00:00:00",
          "2025-09-25T00:00:00",
          "2025-09-26T00:00:00",
          "2025-09-27T00:00:00",
          "2025-09-28T00:00:00",
          "2025-09-29T00:00:00",
          "2025-09-30T00:00:00",
          "2025-10-01T00:00:00",
          "2025-10-02T00:00:00",
          "2025-10-03T00:00:00",
          "2025-10-04T00:00:00",
          "2025-10-05T00:00:00",
          "2025-10-06T00:00:00",
          "2025-10-07T00:00:00",
          "2025-10-08T00:00:00",
          "2025-10-09T00:00:00",
          "2025-10-10T00:00:00",
          "2025-10-11T00:00:00",
          "2025-10-12T00:00:00",
          "2025-10-13T00:00:00",
          "2025-10-14T00:00:00",
          "2025-10-15T00:00:00",
          "2025-10-16T00:00:00",
          "2025-10-17T00:00:00",
          "2025-10-18T00:00:00",
          "2025-10-19T00:00:00",
          "2025-10-20T00:00:00",
          "2025-10-21T00:00:00",
          "2025-10-22T00:00:00",
          "2025-10-23T00:00:00",
          "2025-10-24T00:00:00",
          "2025-10-25T00:00:00",
          "2025-10-26T00:00:00",
          "2025-10-27T00:00:00",
          "2025-10-28T00:00:00",
          "2025-10-29T00:00:00",
          "2025-10-30T00:00:00",
          "2025-10-31T00:00:00",
          "2025-11-01T00:00:00",
          "2025-11-02T00:00:00",
          "2025-11-03T00:00:00",
          "2025-11-04T00:00:00",
          "2025-11-05T00:00:00",
          "2025-11-06T00:00:00",
          "2025-11-07T00:00:00",
          "2025-11-08T00:00:00",
          "2025-11-09T00:00:00",
          "2025-11-10T00:00:00",
          "2025-11-11T00:00:00",
          "2025-11-12T00:00:00",
          "2025-11-13T00:00:00",
          "2025-11-14T00:00:00",
          "2025-11-15T00:00:00",
          "2025-11-16T00:00:00",
          "2025-11-17T00:00:00",
          "2025-11-18T00:00:00",
          "2025-11-19T00:00:00",
          "2025-11-20T00:00:00",
          "2025-11-21T00:00:00",
          "2025-11-22T00:00:00",
          "2025-11-23T00:00:00",
          "2025-11-24T00:00:00",
          "2025-11-25T00:00:00",
          "2025-11-26T00:00:00",
          "2025-11-27T00:00:00",
          "2025-11-28T00:00:00",
          "2025-11-29T00:00:00",
          "2025-11-30T00:00:00",
          "2025-12-01T00:00:00",
          "2025-12-02T00:00:00",
          "2025-12-03T00:00:00",
          "2025-12-04T00:00:00",
          "2025-12-05T00:00:00",
          "2025-12-06T00:00:00",
          "2025-12-07T00:00:00",
          "2025-12-08T00:00:00",
          "2025-12-09T00:00:00",
          "2025-12-10T00:00:00",
          "2025-12-11T00:00:00",
          "2025-12-12T00:00:00",
          "2025-12-13T00:00:00",
          "2025-12-14T00:00:00",
          "2025-12-15T00:00:00",
          "2025-12-16T00:00:00",
          "2025-12-17T00:00:00",
          "2025-12-18T00:00:00",
          "2025-12-19T00:00:00",
          "2025-12-20T00:00:00",
          "2025-12-21T00:00:00",
          "2025-12-22T00:00:00",
          "2025-12-23T00:00:00",
          "2025-12-24T00:00:00",
          "2025-12-25T00:00:00",
          "2025-12-26T00:00:00",
          "2025-12-27T00:00:00",
          "2025-12-28T00:00:00",
          "2025-12-29T00:00:00",
          "2025-12-30T00:00:00",
          "2025-12-31T00:00:00",
          "2026-01-01T00:00:00",
          "2026-01-02T00:00:00",
          "2026-01-03T00:00:00",
          "2026-01-04T00:00:00",
          "2026-01-05T00:00:00",
          "2026-01-06T00:00:00",
          "2026-01-07T00:00:00",
          "2026-01-08T00:00:00",
          "2026-01-09T00:00:00",
          "2026-01-10T00:00:00",
          "2026-01-11T00:00:00",
          "2026-01-12T00:00:00",
          "2026-01-13T00:00:00",
          "2026-01-14T00:00:00",
          "2026-01-15T00:00:00",
          "2026-01-16T00:00:00",
          "2026-01-17T00:00:00",
          "2026-01-18T00:00:00",
          "2026-01-19T00:00:00",
          "2026-01-20T00:00:00",
          "2026-01-21T00:00:00",
          "2026-01-22T00:00:00",
          "2026-01-23T00:00:00",
          "2026-01-24T00:00:00",
          "2026-01-25T00:00:00",
          "2026-01-26T00:00:00",
          "2026-01-27T00:00:00",
          "2026-01-28T00:00:00",
          "2026-01-29T00:00:00",
          "2026-01-30T00:00:00",
          "2026-01-31T00:00:00",
          "2026-02-01T00:00:00",
          "2026-02-02T00:00:00",
          "2026-02-03T00:00:00",
          "2026-02-04T00:00:00",
          "2026-02-05T00:00:00",
          "2026-02-06T00:00:00",
          "2026-02-07T00:00:00",
          "2026-02-08T00:00:00",
          "2026-02-09T00:00:00",
          "2026-02-10T00:00:00",
          "2026-02-11T00:00:00",
          "2026-02-12T00:00:00",
          "2026-02-13T00:00:00",
          "2026-02-14T00:00:00",
          "2026-02-15T00:00:00",
          "2026-02-16T00:00:00",
          "2026-02-17T00:00:00",
          "2026-02-18T00:00:00",
          "2026-02-19T00:00:00",
          "2026-02-20T00:00:00",
          "2026-02-21T00:00:00",
          "2026-02-22T00:00:00",
          "2026-02-23T00:00:00",
          "2026-02-24T00:00:00",
          "2026-02-25T00:00:00",
          "2026-02-26T00:00:00",
          "2026-02-27T00:00:00",
          "2026-02-28T00:00:00",
          "2026-03-01T00:00:00",
          "2026-03-02T00:00:00",
          "2026-03-03T00:00:00",
          "2026-03-04T00:00:00",
          "2026-03-05T00:00:00",
          "2026-03-06T00:00:00",
          "2026-03-07T00:00:00",
          "2026-03-08T00:00:00",
          "2026-03-09T00:00:00",
          "2026-03-10T00:00:00",
          "2026-03-11T00:00:00",
          "2026-03-12T00:00:00",
          "2026-03-13T00:00:00",
          "2026-03-14T00:00:00",
          "2026-03-15T00:00:00",
          "2026-03-16T00:00:00",
          "2026-03-17T00:00:00",
          "2026-03-18T00:00:00",
          "2026-03-19T00:00:00",
          "2026-03-20T00:00:00",
          "2026-03-21T00:00:00",
          "2026-03-22T00:00:00",
          "2026-03-23T00:00:00",
          "2026-03-24T00:00:00",
          "2026-03-25T00:00:00",
          "2026-03-26T00:00:00",
          "2026-03-27T00:00:00",
          "2026-03-28T00:00:00",
          "2026-03-29T00:00:00",
          "2026-03-30T00:00:00",
          "2026-03-31T00:00:00",
          "2026-04-01T00:00:00",
          "2026-04-02T00:00:00",
          "2026-04-03T00:00:00",
          "2026-04-04T00:00:00",
          "2026-04-05T00:00:00",
          "2026-04-06T00:00:00",
          "2026-04-07T00:00:00",
          "2026-04-08T00:00:00",
          "2026-04-09T00:00:00",
          "2026-04-10T00:00:00",
          "2026-04-11T00:00:00",
          "2026-04-12T00:00:00",
          "2026-04-13T00:00:00",
          "2026-04-14T00:00:00",
          "2026-04-15T00:00:00",
          "2026-04-16T00:00:00",
          "2026-04-17T00:00:00",
          "2026-04-18T00:00:00",
          "2026-04-19T00:00:00",
          "2026-04-20T00:00:00",
          "2026-04-21T00:00:00",
          "2026-04-22T00:00:00",
          "2026-04-23T00:00:00",
          "2026-04-24T00:00:00",
          "2026-04-25T00:00:00",
          "2026-04-26T00:00:00",
          "2026-04-27T00:00:00",
          "2026-04-28T00:00:00",
          "2026-04-29T00:00:00",
          "2026-04-30T00:00:00",
          "2026-05-01T00:00:00",
          "2026-05-02T00:00:00",
          "2026-05-03T00:00:00",
          "2026-05-04T00:00:00",
          "2026-05-05T00:00:00",
          "2026-05-06T00:00:00",
          "2026-05-07T00:00:00",
          "2026-05-08T00:00:00",
          "2026-05-09T00:00:00",
          "2026-05-10T00:00:00",
          "2026-05-11T00:00:00",
          "2026-05-12T00:00:00",
          "2026-05-13T00:00:00",
          "2026-05-14T00:00:00",
          "2026-05-15T00:00:00",
          "2026-05-16T00:00:00",
          "2026-05-17T00:00:00",
          "2026-05-18T00:00:00",
          "2026-05-19T00:00:00",
          "2026-05-20T00:00:00",
          "2026-05-21T00:00:00",
          "2026-05-22T00:00:00",
          "2026-05-23T00:00:00",
          "2026-05-24T00:00:00",
          "2026-05-25T00:00:00",
          "2026-05-26T00:00:00",
          "2026-05-27T00:00:00",
          "2026-05-28T00:00:00",
          "2026-05-29T00:00:00",
          "2026-05-30T00:00:00",
          "2026-05-31T00:00:00",
          "2026-06-01T00:00:00",
          "2026-06-02T00:00:00",
          "2026-06-03T00:00:00",
          "2026-06-04T00:00:00",
          "2026-06-05T00:00:00",
          "2026-06-06T00:00:00",
          "2026-06-07T00:00:00",
          "2026-06-08T00:00:00",
          "2026-06-09T00:00:00",
          "2026-06-10T00:00:00",
          "2026-06-11T00:00:00",
          "2026-06-12T00:00:00",
          "2026-06-13T00:00:00",
          "2026-06-14T00:00:00",
          "2026-06-15T00:00:00",
          "2026-06-16T00:00:00",
          "2026-06-17T00:00:00",
          "2026-06-18T00:00:00",
          "2026-06-19T00:00:00",
          "2026-06-20T00:00:00",
          "2026-06-21T00:00:00",
          "2026-06-22T00:00:00",
          "2026-06-23T00:00:00",
          "2026-06-24T00:00:00",
          "2026-06-25T00:00:00",
          "2026-06-26T00:00:00",
          "2026-06-27T00:00:00",
          "2026-06-28T00:00:00",
          "2026-06-29T00:00:00",
          "2026-06-30T00:00:00",
          "2026-07-01T00:00:00",
          "2026-07-02T00:00:00",
          "2026-07-03T00:00:00",
          "2026-07-04T00:00:00",
          "2026-07-05T00:00:00",
          "2026-07-06T00:00:00",
          "2026-07-07T00:00:00",
          "2026-07-08T00:00:00",
          "2026-07-09T00:00:00",
          "2026-07-10T00:00:00",
          "2026-07-11T00:00:00",
          "2026-07-12T00:00:00",
          "2026-07-13T00:00:00",
          "2026-07-14T00:00:00",
          "2026-07-15T00:00:00",
          "2026-07-16T00:00:00",
          "2026-07-17T00:00:00",
          "2026-07-18T00:00:00",
          "2026-07-19T00:00:00",
          "2026-07-20T00:00:00",
          "2026-07-21T00:00:00",
          "2026-07-22T00:00:00",
          "2026-07-23T00:00:00",
          "2026-07-24T00:00:00",
          "2026-07-25T00:00:00",
          "2026-07-26T00:00:00",
          "2026-07-27T00:00:00",
          "2026-07-28T00:00:00",
          "2026-07-29T00:00:00",
          "2026-07-30T00:00:00",
          "2026-07-31T00:00:00",
          "2026-08-01T00:00:00",
          "2026-08-02T00:00:00",
          "2026-08-03T00:00:00",
          "2026-08-04T00:00:00",
          "2026-08-05T00:00:00",
          "2026-08-06T00:00:00",
          "2026-08-07T00:00:00",
          "2026-08-08T00:00:00",
          "2026-08-09T00:00:00",
          "2026-08-10T00:00:00",
          "2026-08-11T00:00:00",
          "2026-08-12T00:00:00",
          "2026-08-13T00:00:00",
          "2026-08-14T00:00:00",
          "2026-08-15T00:00:00",
          "2026-08-16T00:00:00",
          "2026-08-17T00:00:00",
          "2026-08-18T00:00:00",
          "2026-08-19T00:00:00",
          "2026-08-20T00:00:00",
          "2026-08-21T00:00:00",
          "2026-08-22T00:00:00",
          "2026-08-23T00:00:00",
          "2026-08-24T00:00:00",
          "2026-08-25T00:00:00",
          "2026-08-26T00:00:00",
          "2026-08-27T00:00:00",
          "2026-08-28T00:00:00",
          "2026-08-29T00:00:00",
          "2026-08-30T00:00:00",
          "2026-08-31T00:00:00",
          "2026-09-01T00:00:00",
          "2026-09-02T00:00:00",
          "2026-09-03T00:00:00",
          "2026-09-04T00:00:00",
          "2026-09-05T00:00:00",
          "2026-09-06T00:00:00",
          "2026-09-07T00:00:00",
          "2026-09-08T00:00:00",
          "2026-09-09T00:00:00",
          "2026-09-10T00:00:00"
         ],
         "xaxis": "x",
         "y": [
          6.094789505004883,
          6.095630168914795,
          6.096471309661865,
          6.097312927246094,
          6.098153591156006,
          6.098994731903076,
          6.0998358726501465,
          6.100676536560059,
          6.101518154144287,
          6.102359294891357,
          6.103200435638428,
          6.104041576385498,
          6.10488224029541,
          6.105723857879639,
          6.106565475463867,
          6.107405662536621,
          6.10824728012085,
          6.109088897705078,
          6.109929084777832,
          6.1107707023620605,
          6.1116108894348145,
          6.112452507019043,
          6.113293647766113,
          6.114134311676025,
          6.114975929260254,
          6.115817070007324,
          6.1166582107543945,
          6.117498874664307,
          6.118340492248535,
          6.1191816329956055,
          6.120022773742676,
          6.120863437652588,
          6.121704578399658,
          6.122546195983887,
          6.123386383056641,
          6.124228000640869,
          6.125069618225098,
          6.125909805297852,
          6.12675142288208,
          6.127593040466309,
          6.1284332275390625,
          6.129274845123291,
          6.130115985870361,
          6.130956649780273,
          6.131797790527344,
          6.132638931274414,
          6.133480072021484,
          6.134321212768555,
          6.135162353515625,
          6.1360039710998535,
          6.136844635009766,
          6.137685775756836,
          6.138526916503906,
          6.139368534088135,
          6.140208721160889,
          6.141050338745117,
          6.141890525817871,
          6.1427321434021,
          6.143573760986328,
          6.144413948059082,
          6.1452555656433105,
          6.146097183227539,
          6.146937370300293,
          6.1477789878845215,
          6.148620128631592,
          6.149461269378662,
          6.150301933288574,
          6.151143550872803,
          6.151984691619873,
          6.152825832366943,
          6.1536664962768555,
          6.154508113861084,
          6.155349254608154,
          6.156189918518066,
          6.157031059265137,
          6.157872676849365,
          6.158712863922119,
          6.159554481506348,
          6.160396099090576,
          6.16123628616333,
          6.162077903747559,
          6.162918567657471,
          6.163759708404541,
          6.1646013259887695,
          6.165441989898682,
          6.166283130645752,
          6.167124271392822,
          6.167965412139893,
          6.168807029724121,
          6.169647693634033,
          6.1704888343811035,
          6.171329975128174,
          6.172171592712402,
          6.1730122566223145,
          6.173853397369385,
          6.174694061279297,
          6.175535202026367,
          6.176376819610596,
          6.17721700668335,
          6.178058624267578,
          6.178900241851807,
          6.1797404289245605,
          6.180582046508789,
          6.181423664093018,
          6.18226432800293,
          6.18310546875,
          6.183946132659912,
          6.184787750244141,
          6.185629367828369,
          6.186469554901123,
          6.187311172485352,
          6.188152313232422,
          6.188992977142334,
          6.1898345947265625,
          6.190675735473633,
          6.191516399383545,
          6.192357540130615,
          6.193199157714844,
          6.194039344787598,
          6.194880962371826,
          6.1957221031188965,
          6.196562767028809,
          6.197404384613037,
          6.198245048522949,
          6.1990861892700195,
          6.199927806854248,
          6.20076847076416,
          6.201610088348389,
          6.202450752258301,
          6.203291893005371,
          6.2041335105896,
          6.20497465133667,
          6.205815315246582,
          6.206656455993652,
          6.2074971199035645,
          6.208338737487793,
          6.209179878234863,
          6.210020542144775,
          6.210861682891846,
          6.211703300476074,
          6.212543487548828,
          6.213385105133057,
          6.214226722717285,
          6.215067386627197,
          6.215908527374268,
          6.21674919128418,
          6.217590808868408,
          6.218432426452637,
          6.219272613525391,
          6.220114231109619,
          6.220955848693848,
          6.221796035766602,
          6.22263765335083,
          6.2234787940979,
          6.2243194580078125,
          6.225161075592041,
          6.226002216339111,
          6.226842880249023,
          6.227684020996094,
          6.228525161743164,
          6.229365825653076,
          6.230207443237305,
          6.231048583984375,
          6.231889247894287,
          6.232730865478516,
          6.233571529388428,
          6.234413146972656,
          6.235254287719727,
          6.236094951629639,
          6.236936569213867,
          6.237776756286621,
          6.23861837387085,
          6.239459991455078,
          6.240300178527832,
          6.2411417961120605,
          6.241982936859131,
          6.242823600769043,
          6.2436652183532715,
          6.244506359100342,
          6.245347023010254,
          6.246188163757324,
          6.247029781341553,
          6.247870922088623,
          6.248711585998535,
          6.2495527267456055,
          6.250393867492676,
          6.251235485076904,
          6.252075672149658,
          6.252917289733887,
          6.253758907318115,
          6.254599094390869,
          6.255440711975098,
          6.256282329559326,
          6.25712251663208,
          6.257964134216309,
          6.2588043212890625,
          6.259645938873291,
          6.260487079620361,
          6.261328220367432,
          6.262169361114502,
          6.263010501861572,
          6.263851642608643,
          6.264692306518555,
          6.265533924102783,
          6.2663750648498535,
          6.267216205596924,
          6.268057346343994,
          6.268898010253906,
          6.269739627838135,
          6.270579814910889,
          6.271421432495117,
          6.272263050079346,
          6.2731032371521,
          6.273944854736328,
          6.274786472320557,
          6.2756266593933105,
          6.276468276977539,
          6.277309417724609,
          6.2781500816345215,
          6.27899169921875,
          6.279832363128662,
          6.280673980712891,
          6.281514644622803,
          6.282355785369873,
          6.283197402954102,
          6.284038543701172,
          6.284879207611084,
          6.285720348358154,
          6.286561965942383,
          6.287402153015137,
          6.288243770599365,
          6.289085388183594,
          6.289925575256348,
          6.290767192840576,
          6.29160737991333,
          6.292448997497559,
          6.293290615081787,
          6.294131278991699,
          6.2949724197387695,
          6.29581356048584,
          6.29665470123291,
          6.2974958419799805,
          6.298336982727051,
          6.299178123474121,
          6.30001974105835,
          6.3008599281311035,
          6.301701545715332,
          6.302542686462402,
          6.3033833503723145,
          6.304224491119385,
          6.305066108703613,
          6.305906295776367,
          6.306747913360596,
          6.307589530944824,
          6.308429718017578,
          6.309271335601807,
          6.310112953186035,
          6.310953140258789,
          6.311794757843018,
          6.31263542175293,
          6.313477039337158,
          6.31431770324707,
          6.315158843994141,
          6.316000461578369,
          6.3168416023254395,
          6.317682266235352,
          6.31852388381958,
          6.31936502456665,
          6.3202056884765625,
          6.321046829223633,
          6.321887493133545,
          6.322728633880615,
          6.323570251464844,
          6.324410438537598,
          6.325252056121826,
          6.326093673706055,
          6.326934337615967,
          6.327775478363037,
          6.328617095947266,
          6.329457759857178,
          6.330298900604248,
          6.331140041351318,
          6.331981182098389,
          6.332822799682617,
          6.333662986755371,
          6.3345046043396,
          6.335346221923828,
          6.336186408996582,
          6.3370280265808105,
          6.337869167327881,
          6.338709831237793,
          6.339550971984863,
          6.340392589569092,
          6.341232776641846,
          6.342074394226074,
          6.3429155349731445,
          6.343756198883057,
          6.344597816467285,
          6.345438480377197,
          6.346280097961426,
          6.347121238708496,
          6.347961902618408,
          6.348803520202637,
          6.349645137786865,
          6.350485324859619,
          6.351326942443848,
          6.352168083190918,
          6.35300874710083,
          6.353850364685059,
          6.3546905517578125,
          6.355532169342041,
          6.356373310089111,
          6.357213973999023,
          6.358055114746094,
          6.358896732330322,
          6.359737873077393,
          6.360578536987305,
          6.361420154571533,
          6.362260818481445,
          6.363101959228516,
          6.363942623138428,
          6.364784240722656,
          6.365625858306885,
          6.366466045379639,
          6.367307662963867,
          6.368149280548096,
          6.36898946762085,
          6.369831085205078,
          6.370672225952148,
          6.3715128898620605,
          6.372354507446289,
          6.373195648193359,
          6.3740363121032715,
          6.374877452850342,
          6.375718593597412,
          6.376559257507324,
          6.377400875091553,
          6.378242015838623,
          6.379083156585693,
          6.379924297332764,
          6.380764961242676,
          6.381606578826904,
          6.382448196411133,
          6.383288383483887,
          6.384130001068115,
          6.384971618652344,
          6.385811805725098,
          6.386653423309326,
          6.38749361038208,
          6.388335227966309,
          6.389176845550537,
          6.390017032623291,
          6.3908586502075195,
          6.39169979095459,
          6.39254093170166,
          6.393381595611572,
          6.394223213195801,
          6.395064353942871,
          6.395905017852783,
          6.3967461585998535,
          6.397587299346924,
          6.398428916931152,
          6.399269104003906,
          6.400110721588135,
          6.400952339172363
         ],
         "yaxis": "y"
        },
        {
         "line": {
          "color": "#2d92ff",
          "width": 2
         },
         "mode": "lines",
         "name": "yearly seasonality",
         "showlegend": false,
         "type": "scatter",
         "x": [
          "2025-09-11T00:00:00",
          "2025-09-12T00:00:00",
          "2025-09-13T00:00:00",
          "2025-09-14T00:00:00",
          "2025-09-15T00:00:00",
          "2025-09-16T00:00:00",
          "2025-09-17T00:00:00",
          "2025-09-18T00:00:00",
          "2025-09-19T00:00:00",
          "2025-09-20T00:00:00",
          "2025-09-21T00:00:00",
          "2025-09-22T00:00:00",
          "2025-09-23T00:00:00",
          "2025-09-24T00:00:00",
          "2025-09-25T00:00:00",
          "2025-09-26T00:00:00",
          "2025-09-27T00:00:00",
          "2025-09-28T00:00:00",
          "2025-09-29T00:00:00",
          "2025-09-30T00:00:00",
          "2025-10-01T00:00:00",
          "2025-10-02T00:00:00",
          "2025-10-03T00:00:00",
          "2025-10-04T00:00:00",
          "2025-10-05T00:00:00",
          "2025-10-06T00:00:00",
          "2025-10-07T00:00:00",
          "2025-10-08T00:00:00",
          "2025-10-09T00:00:00",
          "2025-10-10T00:00:00",
          "2025-10-11T00:00:00",
          "2025-10-12T00:00:00",
          "2025-10-13T00:00:00",
          "2025-10-14T00:00:00",
          "2025-10-15T00:00:00",
          "2025-10-16T00:00:00",
          "2025-10-17T00:00:00",
          "2025-10-18T00:00:00",
          "2025-10-19T00:00:00",
          "2025-10-20T00:00:00",
          "2025-10-21T00:00:00",
          "2025-10-22T00:00:00",
          "2025-10-23T00:00:00",
          "2025-10-24T00:00:00",
          "2025-10-25T00:00:00",
          "2025-10-26T00:00:00",
          "2025-10-27T00:00:00",
          "2025-10-28T00:00:00",
          "2025-10-29T00:00:00",
          "2025-10-30T00:00:00",
          "2025-10-31T00:00:00",
          "2025-11-01T00:00:00",
          "2025-11-02T00:00:00",
          "2025-11-03T00:00:00",
          "2025-11-04T00:00:00",
          "2025-11-05T00:00:00",
          "2025-11-06T00:00:00",
          "2025-11-07T00:00:00",
          "2025-11-08T00:00:00",
          "2025-11-09T00:00:00",
          "2025-11-10T00:00:00",
          "2025-11-11T00:00:00",
          "2025-11-12T00:00:00",
          "2025-11-13T00:00:00",
          "2025-11-14T00:00:00",
          "2025-11-15T00:00:00",
          "2025-11-16T00:00:00",
          "2025-11-17T00:00:00",
          "2025-11-18T00:00:00",
          "2025-11-19T00:00:00",
          "2025-11-20T00:00:00",
          "2025-11-21T00:00:00",
          "2025-11-22T00:00:00",
          "2025-11-23T00:00:00",
          "2025-11-24T00:00:00",
          "2025-11-25T00:00:00",
          "2025-11-26T00:00:00",
          "2025-11-27T00:00:00",
          "2025-11-28T00:00:00",
          "2025-11-29T00:00:00",
          "2025-11-30T00:00:00",
          "2025-12-01T00:00:00",
          "2025-12-02T00:00:00",
          "2025-12-03T00:00:00",
          "2025-12-04T00:00:00",
          "2025-12-05T00:00:00",
          "2025-12-06T00:00:00",
          "2025-12-07T00:00:00",
          "2025-12-08T00:00:00",
          "2025-12-09T00:00:00",
          "2025-12-10T00:00:00",
          "2025-12-11T00:00:00",
          "2025-12-12T00:00:00",
          "2025-12-13T00:00:00",
          "2025-12-14T00:00:00",
          "2025-12-15T00:00:00",
          "2025-12-16T00:00:00",
          "2025-12-17T00:00:00",
          "2025-12-18T00:00:00",
          "2025-12-19T00:00:00",
          "2025-12-20T00:00:00",
          "2025-12-21T00:00:00",
          "2025-12-22T00:00:00",
          "2025-12-23T00:00:00",
          "2025-12-24T00:00:00",
          "2025-12-25T00:00:00",
          "2025-12-26T00:00:00",
          "2025-12-27T00:00:00",
          "2025-12-28T00:00:00",
          "2025-12-29T00:00:00",
          "2025-12-30T00:00:00",
          "2025-12-31T00:00:00",
          "2026-01-01T00:00:00",
          "2026-01-02T00:00:00",
          "2026-01-03T00:00:00",
          "2026-01-04T00:00:00",
          "2026-01-05T00:00:00",
          "2026-01-06T00:00:00",
          "2026-01-07T00:00:00",
          "2026-01-08T00:00:00",
          "2026-01-09T00:00:00",
          "2026-01-10T00:00:00",
          "2026-01-11T00:00:00",
          "2026-01-12T00:00:00",
          "2026-01-13T00:00:00",
          "2026-01-14T00:00:00",
          "2026-01-15T00:00:00",
          "2026-01-16T00:00:00",
          "2026-01-17T00:00:00",
          "2026-01-18T00:00:00",
          "2026-01-19T00:00:00",
          "2026-01-20T00:00:00",
          "2026-01-21T00:00:00",
          "2026-01-22T00:00:00",
          "2026-01-23T00:00:00",
          "2026-01-24T00:00:00",
          "2026-01-25T00:00:00",
          "2026-01-26T00:00:00",
          "2026-01-27T00:00:00",
          "2026-01-28T00:00:00",
          "2026-01-29T00:00:00",
          "2026-01-30T00:00:00",
          "2026-01-31T00:00:00",
          "2026-02-01T00:00:00",
          "2026-02-02T00:00:00",
          "2026-02-03T00:00:00",
          "2026-02-04T00:00:00",
          "2026-02-05T00:00:00",
          "2026-02-06T00:00:00",
          "2026-02-07T00:00:00",
          "2026-02-08T00:00:00",
          "2026-02-09T00:00:00",
          "2026-02-10T00:00:00",
          "2026-02-11T00:00:00",
          "2026-02-12T00:00:00",
          "2026-02-13T00:00:00",
          "2026-02-14T00:00:00",
          "2026-02-15T00:00:00",
          "2026-02-16T00:00:00",
          "2026-02-17T00:00:00",
          "2026-02-18T00:00:00",
          "2026-02-19T00:00:00",
          "2026-02-20T00:00:00",
          "2026-02-21T00:00:00",
          "2026-02-22T00:00:00",
          "2026-02-23T00:00:00",
          "2026-02-24T00:00:00",
          "2026-02-25T00:00:00",
          "2026-02-26T00:00:00",
          "2026-02-27T00:00:00",
          "2026-02-28T00:00:00",
          "2026-03-01T00:00:00",
          "2026-03-02T00:00:00",
          "2026-03-03T00:00:00",
          "2026-03-04T00:00:00",
          "2026-03-05T00:00:00",
          "2026-03-06T00:00:00",
          "2026-03-07T00:00:00",
          "2026-03-08T00:00:00",
          "2026-03-09T00:00:00",
          "2026-03-10T00:00:00",
          "2026-03-11T00:00:00",
          "2026-03-12T00:00:00",
          "2026-03-13T00:00:00",
          "2026-03-14T00:00:00",
          "2026-03-15T00:00:00",
          "2026-03-16T00:00:00",
          "2026-03-17T00:00:00",
          "2026-03-18T00:00:00",
          "2026-03-19T00:00:00",
          "2026-03-20T00:00:00",
          "2026-03-21T00:00:00",
          "2026-03-22T00:00:00",
          "2026-03-23T00:00:00",
          "2026-03-24T00:00:00",
          "2026-03-25T00:00:00",
          "2026-03-26T00:00:00",
          "2026-03-27T00:00:00",
          "2026-03-28T00:00:00",
          "2026-03-29T00:00:00",
          "2026-03-30T00:00:00",
          "2026-03-31T00:00:00",
          "2026-04-01T00:00:00",
          "2026-04-02T00:00:00",
          "2026-04-03T00:00:00",
          "2026-04-04T00:00:00",
          "2026-04-05T00:00:00",
          "2026-04-06T00:00:00",
          "2026-04-07T00:00:00",
          "2026-04-08T00:00:00",
          "2026-04-09T00:00:00",
          "2026-04-10T00:00:00",
          "2026-04-11T00:00:00",
          "2026-04-12T00:00:00",
          "2026-04-13T00:00:00",
          "2026-04-14T00:00:00",
          "2026-04-15T00:00:00",
          "2026-04-16T00:00:00",
          "2026-04-17T00:00:00",
          "2026-04-18T00:00:00",
          "2026-04-19T00:00:00",
          "2026-04-20T00:00:00",
          "2026-04-21T00:00:00",
          "2026-04-22T00:00:00",
          "2026-04-23T00:00:00",
          "2026-04-24T00:00:00",
          "2026-04-25T00:00:00",
          "2026-04-26T00:00:00",
          "2026-04-27T00:00:00",
          "2026-04-28T00:00:00",
          "2026-04-29T00:00:00",
          "2026-04-30T00:00:00",
          "2026-05-01T00:00:00",
          "2026-05-02T00:00:00",
          "2026-05-03T00:00:00",
          "2026-05-04T00:00:00",
          "2026-05-05T00:00:00",
          "2026-05-06T00:00:00",
          "2026-05-07T00:00:00",
          "2026-05-08T00:00:00",
          "2026-05-09T00:00:00",
          "2026-05-10T00:00:00",
          "2026-05-11T00:00:00",
          "2026-05-12T00:00:00",
          "2026-05-13T00:00:00",
          "2026-05-14T00:00:00",
          "2026-05-15T00:00:00",
          "2026-05-16T00:00:00",
          "2026-05-17T00:00:00",
          "2026-05-18T00:00:00",
          "2026-05-19T00:00:00",
          "2026-05-20T00:00:00",
          "2026-05-21T00:00:00",
          "2026-05-22T00:00:00",
          "2026-05-23T00:00:00",
          "2026-05-24T00:00:00",
          "2026-05-25T00:00:00",
          "2026-05-26T00:00:00",
          "2026-05-27T00:00:00",
          "2026-05-28T00:00:00",
          "2026-05-29T00:00:00",
          "2026-05-30T00:00:00",
          "2026-05-31T00:00:00",
          "2026-06-01T00:00:00",
          "2026-06-02T00:00:00",
          "2026-06-03T00:00:00",
          "2026-06-04T00:00:00",
          "2026-06-05T00:00:00",
          "2026-06-06T00:00:00",
          "2026-06-07T00:00:00",
          "2026-06-08T00:00:00",
          "2026-06-09T00:00:00",
          "2026-06-10T00:00:00",
          "2026-06-11T00:00:00",
          "2026-06-12T00:00:00",
          "2026-06-13T00:00:00",
          "2026-06-14T00:00:00",
          "2026-06-15T00:00:00",
          "2026-06-16T00:00:00",
          "2026-06-17T00:00:00",
          "2026-06-18T00:00:00",
          "2026-06-19T00:00:00",
          "2026-06-20T00:00:00",
          "2026-06-21T00:00:00",
          "2026-06-22T00:00:00",
          "2026-06-23T00:00:00",
          "2026-06-24T00:00:00",
          "2026-06-25T00:00:00",
          "2026-06-26T00:00:00",
          "2026-06-27T00:00:00",
          "2026-06-28T00:00:00",
          "2026-06-29T00:00:00",
          "2026-06-30T00:00:00",
          "2026-07-01T00:00:00",
          "2026-07-02T00:00:00",
          "2026-07-03T00:00:00",
          "2026-07-04T00:00:00",
          "2026-07-05T00:00:00",
          "2026-07-06T00:00:00",
          "2026-07-07T00:00:00",
          "2026-07-08T00:00:00",
          "2026-07-09T00:00:00",
          "2026-07-10T00:00:00",
          "2026-07-11T00:00:00",
          "2026-07-12T00:00:00",
          "2026-07-13T00:00:00",
          "2026-07-14T00:00:00",
          "2026-07-15T00:00:00",
          "2026-07-16T00:00:00",
          "2026-07-17T00:00:00",
          "2026-07-18T00:00:00",
          "2026-07-19T00:00:00",
          "2026-07-20T00:00:00",
          "2026-07-21T00:00:00",
          "2026-07-22T00:00:00",
          "2026-07-23T00:00:00",
          "2026-07-24T00:00:00",
          "2026-07-25T00:00:00",
          "2026-07-26T00:00:00",
          "2026-07-27T00:00:00",
          "2026-07-28T00:00:00",
          "2026-07-29T00:00:00",
          "2026-07-30T00:00:00",
          "2026-07-31T00:00:00",
          "2026-08-01T00:00:00",
          "2026-08-02T00:00:00",
          "2026-08-03T00:00:00",
          "2026-08-04T00:00:00",
          "2026-08-05T00:00:00",
          "2026-08-06T00:00:00",
          "2026-08-07T00:00:00",
          "2026-08-08T00:00:00",
          "2026-08-09T00:00:00",
          "2026-08-10T00:00:00",
          "2026-08-11T00:00:00",
          "2026-08-12T00:00:00",
          "2026-08-13T00:00:00",
          "2026-08-14T00:00:00",
          "2026-08-15T00:00:00",
          "2026-08-16T00:00:00",
          "2026-08-17T00:00:00",
          "2026-08-18T00:00:00",
          "2026-08-19T00:00:00",
          "2026-08-20T00:00:00",
          "2026-08-21T00:00:00",
          "2026-08-22T00:00:00",
          "2026-08-23T00:00:00",
          "2026-08-24T00:00:00",
          "2026-08-25T00:00:00",
          "2026-08-26T00:00:00",
          "2026-08-27T00:00:00",
          "2026-08-28T00:00:00",
          "2026-08-29T00:00:00",
          "2026-08-30T00:00:00",
          "2026-08-31T00:00:00",
          "2026-09-01T00:00:00",
          "2026-09-02T00:00:00",
          "2026-09-03T00:00:00",
          "2026-09-04T00:00:00",
          "2026-09-05T00:00:00",
          "2026-09-06T00:00:00",
          "2026-09-07T00:00:00",
          "2026-09-08T00:00:00",
          "2026-09-09T00:00:00",
          "2026-09-10T00:00:00"
         ],
         "xaxis": "x2",
         "y": [
          0.04300841689109802,
          0.050788238644599915,
          0.05842707306146622,
          0.06587802618741989,
          0.07315441966056824,
          0.08019348233938217,
          0.0870017409324646,
          0.09354893118143082,
          0.09983516484498978,
          0.10584686696529388,
          0.11155513674020767,
          0.11696874350309372,
          0.12208525836467743,
          0.12689043581485748,
          0.13137681782245636,
          0.13556164503097534,
          0.1394401341676712,
          0.14300060272216797,
          0.14627377688884735,
          0.14925292134284973,
          0.15195558965206146,
          0.1543721854686737,
          0.15653617680072784,
          0.1584324985742569,
          0.16010428965091705,
          0.1615445762872696,
          0.16276980936527252,
          0.16379611194133759,
          0.16463196277618408,
          0.16530339419841766,
          0.16580793261528015,
          0.16617101430892944,
          0.1663983017206192,
          0.16650652885437012,
          0.16650579869747162,
          0.16640788316726685,
          0.16622158885002136,
          0.16596311330795288,
          0.16562975943088531,
          0.165237158536911,
          0.1647946685552597,
          0.16430288553237915,
          0.1637701541185379,
          0.16320009529590607,
          0.16260313987731934,
          0.1619681864976883,
          0.1613154411315918,
          0.16063527762889862,
          0.15992988646030426,
          0.159209206700325,
          0.15846601128578186,
          0.1577051281929016,
          0.15692223608493805,
          0.15612289309501648,
          0.1553056538105011,
          0.15447458624839783,
          0.15362314879894257,
          0.15275363624095917,
          0.1518751084804535,
          0.15098027884960175,
          0.15007607638835907,
          0.14915958046913147,
          0.1482391059398651,
          0.14731445908546448,
          0.14639101922512054,
          0.14547137916088104,
          0.1445588916540146,
          0.143660306930542,
          0.142781600356102,
          0.14192615449428558,
          0.14109884202480316,
          0.14030762016773224,
          0.13955333828926086,
          0.13884708285331726,
          0.13819634914398193,
          0.13759712874889374,
          0.13706079125404358,
          0.13659057021141052,
          0.13618849217891693,
          0.13586559891700745,
          0.1356150060892105,
          0.1354413479566574,
          0.13534227013587952,
          0.13532766699790955,
          0.13538126647472382,
          0.13551349937915802,
          0.13572098314762115,
          0.13598237931728363,
          0.13631129264831543,
          0.13668978214263916,
          0.1371094137430191,
          0.13756567239761353,
          0.13804207742214203,
          0.13852684199810028,
          0.1390109360218048,
          0.13947321474552155,
          0.13990625739097595,
          0.1402866691350937,
          0.14060460031032562,
          0.14083805680274963,
          0.14096936583518982,
          0.1409839540719986,
          0.14086194336414337,
          0.14058421552181244,
          0.14014406502246857,
          0.13950255513191223,
          0.13866259157657623,
          0.13760504126548767,
          0.1363116353750229,
          0.1347687840461731,
          0.13297802209854126,
          0.13090959191322327,
          0.12856359779834747,
          0.12593132257461548,
          0.12301766127347946,
          0.1198074221611023,
          0.11631365120410919,
          0.11251842230558395,
          0.10844056308269501,
          0.10409202426671982,
          0.09946373105049133,
          0.09457810968160629,
          0.08944256603717804,
          0.08408412337303162,
          0.07850836962461472,
          0.07273611426353455,
          0.06680107861757278,
          0.06071358174085617,
          0.05450483411550522,
          0.04818972945213318,
          0.041817788034677505,
          0.035402603447437286,
          0.028981173411011696,
          0.022575050592422485,
          0.016223423182964325,
          0.009957082569599152,
          0.003796066390350461,
          -0.002221812028437853,
          -0.008061682805418968,
          -0.013699198141694069,
          -0.019114261493086815,
          -0.02426767535507679,
          -0.029150141403079033,
          -0.033724550157785416,
          -0.03798169642686844,
          -0.04189452901482582,
          -0.04545138403773308,
          -0.048647020012140274,
          -0.051452767103910446,
          -0.0538780651986599,
          -0.0559142641723156,
          -0.057551655918359756,
          -0.05879508703947067,
          -0.05966034159064293,
          -0.060138896107673645,
          -0.06024031341075897,
          -0.05999607965350151,
          -0.05940104275941849,
          -0.05848704278469086,
          -0.057267069816589355,
          -0.05576823279261589,
          -0.05401010066270828,
          -0.052026525139808655,
          -0.04983963817358017,
          -0.04748443514108658,
          -0.044987525790929794,
          -0.04237958788871765,
          -0.039698533713817596,
          -0.036965370178222656,
          -0.03422636538743973,
          -0.031501755118370056,
          -0.028828347101807594,
          -0.026237700134515762,
          -0.02374914661049843,
          -0.021400820463895798,
          -0.01921558566391468,
          -0.017214057967066765,
          -0.015423130244016647,
          -0.013855880126357079,
          -0.012530982494354248,
          -0.0114683136343956,
          -0.010674498975276947,
          -0.010154956951737404,
          -0.00992156844586134,
          -0.009977797046303749,
          -0.010315658524632454,
          -0.010939046740531921,
          -0.011843165382742882,
          -0.013011215254664421,
          -0.014440225437283516,
          -0.016112850978970528,
          -0.01801011897623539,
          -0.020120061933994293,
          -0.0224175825715065,
          -0.02488088607788086,
          -0.027490580454468727,
          -0.030220406129956245,
          -0.03303717449307442,
          -0.03592339903116226,
          -0.038851335644721985,
          -0.041788823902606964,
          -0.044715847820043564,
          -0.047604091465473175,
          -0.050418008118867874,
          -0.0531487911939621,
          -0.055760838091373444,
          -0.0582473985850811,
          -0.060570038855075836,
          -0.0627237930893898,
          -0.06468694657087326,
          -0.06644773483276367,
          -0.06799917668104172,
          -0.06932342052459717,
          -0.07042403519153595,
          -0.07129590958356857,
          -0.07193726301193237,
          -0.07234727591276169,
          -0.07254081219434738,
          -0.07251901179552078,
          -0.07229030132293701,
          -0.07188441604375839,
          -0.07129542529582977,
          -0.07055351138114929,
          -0.06967702507972717,
          -0.06869135051965714,
          -0.06760383397340775,
          -0.06646499037742615,
          -0.06528175622224808,
          -0.06408651918172836,
          -0.062909334897995,
          -0.061772268265485764,
          -0.06070555001497269,
          -0.05973856896162033,
          -0.058888029307127,
          -0.05819909647107124,
          -0.05767646059393883,
          -0.057349275797605515,
          -0.05724206939339638,
          -0.05736936256289482,
          -0.05774505063891411,
          -0.05839449539780617,
          -0.05931958556175232,
          -0.06053975597023964,
          -0.06204655393958092,
          -0.0638541728258133,
          -0.06595637649297714,
          -0.06835692375898361,
          -0.07104691118001938,
          -0.0740123987197876,
          -0.07725207507610321,
          -0.08073928207159042,
          -0.08447060734033585,
          -0.08841091394424438,
          -0.0925450548529625,
          -0.0968533456325531,
          -0.10129521042108536,
          -0.10585641115903854,
          -0.11049918830394745,
          -0.11518751084804535,
          -0.11990266293287277,
          -0.12460421770811081,
          -0.129255473613739,
          -0.13382485508918762,
          -0.13828371465206146,
          -0.14260001480579376,
          -0.14673975110054016,
          -0.15066727995872498,
          -0.15436014533042908,
          -0.15779872238636017,
          -0.16094228625297546,
          -0.16378241777420044,
          -0.16629275679588318,
          -0.16845229268074036,
          -0.1702573001384735,
          -0.17168976366519928,
          -0.1727401316165924,
          -0.17340967059135437,
          -0.17369358241558075,
          -0.17359210550785065,
          -0.1731138676404953,
          -0.172265887260437,
          -0.17105801403522491,
          -0.16950753331184387,
          -0.16762861609458923,
          -0.16544964909553528,
          -0.16298361122608185,
          -0.16026102006435394,
          -0.1573089063167572,
          -0.15415515005588531,
          -0.15083681046962738,
          -0.14738015830516815,
          -0.14381824433803558,
          -0.14018382132053375,
          -0.1365182101726532,
          -0.1328461468219757,
          -0.12920896708965302,
          -0.12563848495483398,
          -0.12215796113014221,
          -0.11881634593009949,
          -0.11562643945217133,
          -0.11262179166078568,
          -0.10983381420373917,
          -0.10727385431528091,
          -0.10496900230646133,
          -0.10293901711702347,
          -0.10119360685348511,
          -0.09974480420351028,
          -0.09860560297966003,
          -0.09777548909187317,
          -0.09725762903690338,
          -0.09705176949501038,
          -0.0971512496471405,
          -0.09754806011915207,
          -0.09823202341794968,
          -0.0991833508014679,
          -0.10038447380065918,
          -0.10182078927755356,
          -0.10346381366252899,
          -0.10528387129306793,
          -0.10726111382246017,
          -0.10936114937067032,
          -0.1115509420633316,
          -0.1137944906949997,
          -0.11606447398662567,
          -0.11831995099782944,
          -0.1205289214849472,
          -0.12265163660049438,
          -0.12464762479066849,
          -0.12649255990982056,
          -0.1281483918428421,
          -0.1295745074748993,
          -0.13074558973312378,
          -0.13163034617900848,
          -0.13219459354877472,
          -0.13242165744304657,
          -0.1322745680809021,
          -0.13174113631248474,
          -0.13080447912216187,
          -0.12944671511650085,
          -0.1276439130306244,
          -0.12539705634117126,
          -0.1227090135216713,
          -0.11955448240041733,
          -0.11594714969396591,
          -0.11189186573028564,
          -0.10739300400018692,
          -0.10245317965745926,
          -0.09708859026432037,
          -0.09133221954107285,
          -0.08517349511384964,
          -0.07865479588508606,
          -0.07177416235208511,
          -0.06459327042102814,
          -0.05711613595485687,
          -0.04938177764415741,
          -0.041405536234378815,
          -0.03323006257414818,
          -0.024897070601582527,
          -0.016424348577857018,
          -0.007849425077438354,
          0.0007898124749772251,
          0.009455430321395397,
          0.01812586560845375,
          0.026754001155495644,
          0.0353272370994091
         ],
         "yaxis": "y2"
        }
       ],
       "layout": {
        "autosize": true,
        "font": {
         "size": 10
        },
        "height": 420,
        "hovermode": "x unified",
        "legend": {
         "traceorder": "reversed",
         "y": 0.1
        },
        "margin": {
         "b": 0,
         "l": 0,
         "pad": 0,
         "r": 10,
         "t": 10
        },
        "template": {
         "data": {
          "bar": [
           {
            "error_x": {
             "color": "#2a3f5f"
            },
            "error_y": {
             "color": "#2a3f5f"
            },
            "marker": {
             "line": {
              "color": "white",
              "width": 0.5
             },
             "pattern": {
              "fillmode": "overlay",
              "size": 10,
              "solidity": 0.2
             }
            },
            "type": "bar"
           }
          ],
          "barpolar": [
           {
            "marker": {
             "line": {
              "color": "white",
              "width": 0.5
             },
             "pattern": {
              "fillmode": "overlay",
              "size": 10,
              "solidity": 0.2
             }
            },
            "type": "barpolar"
           }
          ],
          "carpet": [
           {
            "aaxis": {
             "endlinecolor": "#2a3f5f",
             "gridcolor": "#C8D4E3",
             "linecolor": "#C8D4E3",
             "minorgridcolor": "#C8D4E3",
             "startlinecolor": "#2a3f5f"
            },
            "baxis": {
             "endlinecolor": "#2a3f5f",
             "gridcolor": "#C8D4E3",
             "linecolor": "#C8D4E3",
             "minorgridcolor": "#C8D4E3",
             "startlinecolor": "#2a3f5f"
            },
            "type": "carpet"
           }
          ],
          "choropleth": [
           {
            "colorbar": {
             "outlinewidth": 0,
             "ticks": ""
            },
            "type": "choropleth"
           }
          ],
          "contour": [
           {
            "colorbar": {
             "outlinewidth": 0,
             "ticks": ""
            },
            "colorscale": [
             [
              0,
              "#0d0887"
             ],
             [
              0.1111111111111111,
              "#46039f"
             ],
             [
              0.2222222222222222,
              "#7201a8"
             ],
             [
              0.3333333333333333,
              "#9c179e"
             ],
             [
              0.4444444444444444,
              "#bd3786"
             ],
             [
              0.5555555555555556,
              "#d8576b"
             ],
             [
              0.6666666666666666,
              "#ed7953"
             ],
             [
              0.7777777777777778,
              "#fb9f3a"
             ],
             [
              0.8888888888888888,
              "#fdca26"
             ],
             [
              1,
              "#f0f921"
             ]
            ],
            "type": "contour"
           }
          ],
          "contourcarpet": [
           {
            "colorbar": {
             "outlinewidth": 0,
             "ticks": ""
            },
            "type": "contourcarpet"
           }
          ],
          "heatmap": [
           {
            "colorbar": {
             "outlinewidth": 0,
             "ticks": ""
            },
            "colorscale": [
             [
              0,
              "#0d0887"
             ],
             [
              0.1111111111111111,
              "#46039f"
             ],
             [
              0.2222222222222222,
              "#7201a8"
             ],
             [
              0.3333333333333333,
              "#9c179e"
             ],
             [
              0.4444444444444444,
              "#bd3786"
             ],
             [
              0.5555555555555556,
              "#d8576b"
             ],
             [
              0.6666666666666666,
              "#ed7953"
             ],
             [
              0.7777777777777778,
              "#fb9f3a"
             ],
             [
              0.8888888888888888,
              "#fdca26"
             ],
             [
              1,
              "#f0f921"
             ]
            ],
            "type": "heatmap"
           }
          ],
          "heatmapgl": [
           {
            "colorbar": {
             "outlinewidth": 0,
             "ticks": ""
            },
            "colorscale": [
             [
              0,
              "#0d0887"
             ],
             [
              0.1111111111111111,
              "#46039f"
             ],
             [
              0.2222222222222222,
              "#7201a8"
             ],
             [
              0.3333333333333333,
              "#9c179e"
             ],
             [
              0.4444444444444444,
              "#bd3786"
             ],
             [
              0.5555555555555556,
              "#d8576b"
             ],
             [
              0.6666666666666666,
              "#ed7953"
             ],
             [
              0.7777777777777778,
              "#fb9f3a"
             ],
             [
              0.8888888888888888,
              "#fdca26"
             ],
             [
              1,
              "#f0f921"
             ]
            ],
            "type": "heatmapgl"
           }
          ],
          "histogram": [
           {
            "marker": {
             "pattern": {
              "fillmode": "overlay",
              "size": 10,
              "solidity": 0.2
             }
            },
            "type": "histogram"
           }
          ],
          "histogram2d": [
           {
            "colorbar": {
             "outlinewidth": 0,
             "ticks": ""
            },
            "colorscale": [
             [
              0,
              "#0d0887"
             ],
             [
              0.1111111111111111,
              "#46039f"
             ],
             [
              0.2222222222222222,
              "#7201a8"
             ],
             [
              0.3333333333333333,
              "#9c179e"
             ],
             [
              0.4444444444444444,
              "#bd3786"
             ],
             [
              0.5555555555555556,
              "#d8576b"
             ],
             [
              0.6666666666666666,
              "#ed7953"
             ],
             [
              0.7777777777777778,
              "#fb9f3a"
             ],
             [
              0.8888888888888888,
              "#fdca26"
             ],
             [
              1,
              "#f0f921"
             ]
            ],
            "type": "histogram2d"
           }
          ],
          "histogram2dcontour": [
           {
            "colorbar": {
             "outlinewidth": 0,
             "ticks": ""
            },
            "colorscale": [
             [
              0,
              "#0d0887"
             ],
             [
              0.1111111111111111,
              "#46039f"
             ],
             [
              0.2222222222222222,
              "#7201a8"
             ],
             [
              0.3333333333333333,
              "#9c179e"
             ],
             [
              0.4444444444444444,
              "#bd3786"
             ],
             [
              0.5555555555555556,
              "#d8576b"
             ],
             [
              0.6666666666666666,
              "#ed7953"
             ],
             [
              0.7777777777777778,
              "#fb9f3a"
             ],
             [
              0.8888888888888888,
              "#fdca26"
             ],
             [
              1,
              "#f0f921"
             ]
            ],
            "type": "histogram2dcontour"
           }
          ],
          "mesh3d": [
           {
            "colorbar": {
             "outlinewidth": 0,
             "ticks": ""
            },
            "type": "mesh3d"
           }
          ],
          "parcoords": [
           {
            "line": {
             "colorbar": {
              "outlinewidth": 0,
              "ticks": ""
             }
            },
            "type": "parcoords"
           }
          ],
          "pie": [
           {
            "automargin": true,
            "type": "pie"
           }
          ],
          "scatter": [
           {
            "fillpattern": {
             "fillmode": "overlay",
             "size": 10,
             "solidity": 0.2
            },
            "type": "scatter"
           }
          ],
          "scatter3d": [
           {
            "line": {
             "colorbar": {
              "outlinewidth": 0,
              "ticks": ""
             }
            },
            "marker": {
             "colorbar": {
              "outlinewidth": 0,
              "ticks": ""
             }
            },
            "type": "scatter3d"
           }
          ],
          "scattercarpet": [
           {
            "marker": {
             "colorbar": {
              "outlinewidth": 0,
              "ticks": ""
             }
            },
            "type": "scattercarpet"
           }
          ],
          "scattergeo": [
           {
            "marker": {
             "colorbar": {
              "outlinewidth": 0,
              "ticks": ""
             }
            },
            "type": "scattergeo"
           }
          ],
          "scattergl": [
           {
            "marker": {
             "colorbar": {
              "outlinewidth": 0,
              "ticks": ""
             }
            },
            "type": "scattergl"
           }
          ],
          "scattermapbox": [
           {
            "marker": {
             "colorbar": {
              "outlinewidth": 0,
              "ticks": ""
             }
            },
            "type": "scattermapbox"
           }
          ],
          "scatterpolar": [
           {
            "marker": {
             "colorbar": {
              "outlinewidth": 0,
              "ticks": ""
             }
            },
            "type": "scatterpolar"
           }
          ],
          "scatterpolargl": [
           {
            "marker": {
             "colorbar": {
              "outlinewidth": 0,
              "ticks": ""
             }
            },
            "type": "scatterpolargl"
           }
          ],
          "scatterternary": [
           {
            "marker": {
             "colorbar": {
              "outlinewidth": 0,
              "ticks": ""
             }
            },
            "type": "scatterternary"
           }
          ],
          "surface": [
           {
            "colorbar": {
             "outlinewidth": 0,
             "ticks": ""
            },
            "colorscale": [
             [
              0,
              "#0d0887"
             ],
             [
              0.1111111111111111,
              "#46039f"
             ],
             [
              0.2222222222222222,
              "#7201a8"
             ],
             [
              0.3333333333333333,
              "#9c179e"
             ],
             [
              0.4444444444444444,
              "#bd3786"
             ],
             [
              0.5555555555555556,
              "#d8576b"
             ],
             [
              0.6666666666666666,
              "#ed7953"
             ],
             [
              0.7777777777777778,
              "#fb9f3a"
             ],
             [
              0.8888888888888888,
              "#fdca26"
             ],
             [
              1,
              "#f0f921"
             ]
            ],
            "type": "surface"
           }
          ],
          "table": [
           {
            "cells": {
             "fill": {
              "color": "#EBF0F8"
             },
             "line": {
              "color": "white"
             }
            },
            "header": {
             "fill": {
              "color": "#C8D4E3"
             },
             "line": {
              "color": "white"
             }
            },
            "type": "table"
           }
          ]
         },
         "layout": {
          "annotationdefaults": {
           "arrowcolor": "#2a3f5f",
           "arrowhead": 0,
           "arrowwidth": 1
          },
          "autotypenumbers": "strict",
          "coloraxis": {
           "colorbar": {
            "outlinewidth": 0,
            "ticks": ""
           }
          },
          "colorscale": {
           "diverging": [
            [
             0,
             "#8e0152"
            ],
            [
             0.1,
             "#c51b7d"
            ],
            [
             0.2,
             "#de77ae"
            ],
            [
             0.3,
             "#f1b6da"
            ],
            [
             0.4,
             "#fde0ef"
            ],
            [
             0.5,
             "#f7f7f7"
            ],
            [
             0.6,
             "#e6f5d0"
            ],
            [
             0.7,
             "#b8e186"
            ],
            [
             0.8,
             "#7fbc41"
            ],
            [
             0.9,
             "#4d9221"
            ],
            [
             1,
             "#276419"
            ]
           ],
           "sequential": [
            [
             0,
             "#0d0887"
            ],
            [
             0.1111111111111111,
             "#46039f"
            ],
            [
             0.2222222222222222,
             "#7201a8"
            ],
            [
             0.3333333333333333,
             "#9c179e"
            ],
            [
             0.4444444444444444,
             "#bd3786"
            ],
            [
             0.5555555555555556,
             "#d8576b"
            ],
            [
             0.6666666666666666,
             "#ed7953"
            ],
            [
             0.7777777777777778,
             "#fb9f3a"
            ],
            [
             0.8888888888888888,
             "#fdca26"
            ],
            [
             1,
             "#f0f921"
            ]
           ],
           "sequentialminus": [
            [
             0,
             "#0d0887"
            ],
            [
             0.1111111111111111,
             "#46039f"
            ],
            [
             0.2222222222222222,
             "#7201a8"
            ],
            [
             0.3333333333333333,
             "#9c179e"
            ],
            [
             0.4444444444444444,
             "#bd3786"
            ],
            [
             0.5555555555555556,
             "#d8576b"
            ],
            [
             0.6666666666666666,
             "#ed7953"
            ],
            [
             0.7777777777777778,
             "#fb9f3a"
            ],
            [
             0.8888888888888888,
             "#fdca26"
            ],
            [
             1,
             "#f0f921"
            ]
           ]
          },
          "colorway": [
           "#636efa",
           "#EF553B",
           "#00cc96",
           "#ab63fa",
           "#FFA15A",
           "#19d3f3",
           "#FF6692",
           "#B6E880",
           "#FF97FF",
           "#FECB52"
          ],
          "font": {
           "color": "#2a3f5f"
          },
          "geo": {
           "bgcolor": "white",
           "lakecolor": "white",
           "landcolor": "white",
           "showlakes": true,
           "showland": true,
           "subunitcolor": "#C8D4E3"
          },
          "hoverlabel": {
           "align": "left"
          },
          "hovermode": "closest",
          "mapbox": {
           "style": "light"
          },
          "paper_bgcolor": "white",
          "plot_bgcolor": "white",
          "polar": {
           "angularaxis": {
            "gridcolor": "#EBF0F8",
            "linecolor": "#EBF0F8",
            "ticks": ""
           },
           "bgcolor": "white",
           "radialaxis": {
            "gridcolor": "#EBF0F8",
            "linecolor": "#EBF0F8",
            "ticks": ""
           }
          },
          "scene": {
           "xaxis": {
            "backgroundcolor": "white",
            "gridcolor": "#DFE8F3",
            "gridwidth": 2,
            "linecolor": "#EBF0F8",
            "showbackground": true,
            "ticks": "",
            "zerolinecolor": "#EBF0F8"
           },
           "yaxis": {
            "backgroundcolor": "white",
            "gridcolor": "#DFE8F3",
            "gridwidth": 2,
            "linecolor": "#EBF0F8",
            "showbackground": true,
            "ticks": "",
            "zerolinecolor": "#EBF0F8"
           },
           "zaxis": {
            "backgroundcolor": "white",
            "gridcolor": "#DFE8F3",
            "gridwidth": 2,
            "linecolor": "#EBF0F8",
            "showbackground": true,
            "ticks": "",
            "zerolinecolor": "#EBF0F8"
           }
          },
          "shapedefaults": {
           "line": {
            "color": "#2a3f5f"
           }
          },
          "ternary": {
           "aaxis": {
            "gridcolor": "#DFE8F3",
            "linecolor": "#A2B1C6",
            "ticks": ""
           },
           "baxis": {
            "gridcolor": "#DFE8F3",
            "linecolor": "#A2B1C6",
            "ticks": ""
           },
           "bgcolor": "white",
           "caxis": {
            "gridcolor": "#DFE8F3",
            "linecolor": "#A2B1C6",
            "ticks": ""
           }
          },
          "title": {
           "x": 0.05
          },
          "xaxis": {
           "automargin": true,
           "gridcolor": "#EBF0F8",
           "linecolor": "#EBF0F8",
           "ticks": "",
           "title": {
            "standoff": 15
           },
           "zerolinecolor": "#EBF0F8",
           "zerolinewidth": 2
          },
          "yaxis": {
           "automargin": true,
           "gridcolor": "#EBF0F8",
           "linecolor": "#EBF0F8",
           "ticks": "",
           "title": {
            "standoff": 15
           },
           "zerolinecolor": "#EBF0F8",
           "zerolinewidth": 2
          }
         }
        },
        "title": {
         "font": {
          "size": 12
         }
        },
        "width": 700,
        "xaxis": {
         "anchor": "y",
         "domain": [
          0,
          1
         ],
         "linewidth": 1.5,
         "mirror": true,
         "range": [
          "2025-08-24T00:00:00",
          "2026-09-28T00:00:00"
         ],
         "showline": true,
         "title": {
          "text": "ds"
         },
         "type": "date"
        },
        "xaxis2": {
         "anchor": "y2",
         "domain": [
          0,
          1
         ],
         "linewidth": 1.5,
         "mirror": true,
         "range": [
          "2025-08-24T00:00:00",
          "2026-09-28T00:00:00"
         ],
         "showline": true,
         "title": {
          "text": "ds"
         },
         "type": "date"
        },
        "yaxis": {
         "anchor": "x",
         "domain": [
          0.575,
          1
         ],
         "linewidth": 1.5,
         "mirror": true,
         "rangemode": "normal",
         "showline": true,
         "title": {
          "text": "Trend"
         }
        },
        "yaxis2": {
         "anchor": "x2",
         "domain": [
          0,
          0.425
         ],
         "linewidth": 1.5,
         "mirror": true,
         "rangemode": "tozero",
         "showline": true,
         "title": {
          "text": "yearly seasonality"
         }
        }
       }
      }
     },
     "metadata": {},
     "output_type": "display_data"
    }
   ],
   "source": [
    "modelo.plot_components(previsao_futura)"
   ]
  },
  {
   "cell_type": "markdown",
   "id": "6d3c2ef1",
   "metadata": {},
   "source": [
    "### Visualizando previsão"
   ]
  },
  {
   "cell_type": "code",
   "execution_count": 115,
   "id": "2252ec07",
   "metadata": {},
   "outputs": [
    {
     "data": {
      "image/png": "[encoded data removed]",
      "text/plain": [
       "<Figure size 1200x600 with 1 Axes>"
      ]
     },
     "metadata": {},
     "output_type": "display_data"
    }
   ],
   "source": [
    "plt.figure(figsize=(12, 6))\n",
    "\n",
    "# Previsão histórica\n",
    "plt.plot(\n",
    "    previsoes_historicas['ds'],\n",
    "    previsoes_historicas['yhat1'],\n",
    "    label='Previsões Históricas (2015 - 2025)',\n",
    "    c='r',\n",
    ")\n",
    "\n",
    "# Previsão futura\n",
    "plt.plot(\n",
    "    previsao_futura['ds'],\n",
    "    previsao_futura['yhat1'],\n",
    "    label='Previsões Futuras (Próximos 365 dias)',\n",
    "    c='b',\n",
    ")\n",
    "\n",
    "# Dados históricos\n",
    "plt.plot(\n",
    "    df_formatted['ds'],\n",
    "    df_formatted['y'],\n",
    "    label='Valores Históricas observados (2015 - 2025)',\n",
    "    c='g',\n",
    ")\n",
    "\n",
    "plt.legend()\n",
    "plt.show()"
   ]
  },
  {
   "cell_type": "markdown",
   "id": "1b68f154",
   "metadata": {},
   "source": [
    "### Avaliando modelo"
   ]
  },
  {
   "cell_type": "code",
   "execution_count": 116,
   "id": "c878cb25",
   "metadata": {},
   "outputs": [
    {
     "data": {
      "text/plain": [
       "0.9649124054168299"
      ]
     },
     "execution_count": 116,
     "metadata": {},
     "output_type": "execute_result"
    }
   ],
   "source": [
    "# R2 mede quanto da variância dos dados é explicada pelo seu modelo\n",
    "r2_score(y_true=previsoes_historicas['y'], y_pred=previsoes_historicas['yhat1'])\n",
    "\n",
    "# Quanto mais próximo de 1 é melhor"
   ]
  },
  {
   "cell_type": "code",
   "execution_count": 120,
   "id": "22446560",
   "metadata": {},
   "outputs": [
    {
     "data": {
      "text/plain": [
       "0.20756878300194254"
      ]
     },
     "execution_count": 120,
     "metadata": {},
     "output_type": "execute_result"
    }
   ],
   "source": [
    "# MSE (Erro médio absoluto)\n",
    "mean_absolute_error(y_true=previsoes_historicas['y'], y_pred=previsoes_historicas['yhat1'])\n",
    "\n",
    "# Erro médio que o modelo tem\n",
    "# Quanto menor melhor"
   ]
  },
  {
   "cell_type": "code",
   "execution_count": 121,
   "id": "cf37fa68",
   "metadata": {},
   "outputs": [
    {
     "data": {
      "text/plain": [
       "6.649846965509185"
      ]
     },
     "execution_count": 121,
     "metadata": {},
     "output_type": "execute_result"
    }
   ],
   "source": [
    "# Porcentagem média de erro\n",
    "mean_absolute_percentage_error(y_true=previsoes_historicas['y'], y_pred=previsoes_historicas['yhat1']) * 100\n",
    "\n",
    "# Quanto menor melhor"
   ]
  },
  {
   "cell_type": "markdown",
   "id": "8a240b83",
   "metadata": {},
   "source": [
    "### Salvando modelo"
   ]
  },
  {
   "cell_type": "code",
   "execution_count": 12,
   "id": "d582a197",
   "metadata": {},
   "outputs": [],
   "source": [
    "os.makedirs('./Models/Neural', exist_ok=True)"
   ]
  },
  {
   "cell_type": "code",
   "execution_count": 119,
   "id": "1061393a",
   "metadata": {},
   "outputs": [
    {
     "name": "stdout",
     "output_type": "stream",
     "text": [
      "Modelo salvo com sucesso!\n"
     ]
    }
   ],
   "source": [
    "with open('./Models/Neural/neural_model_v2.pkl', 'wb') as f:\n",
    "    pickle.dump(modelo, f)\n",
    "\n",
    "print(\"Modelo salvo com sucesso!\")"
   ]
  },
  {
   "cell_type": "markdown",
   "id": "e73029fe",
   "metadata": {},
   "source": [
    "### Carregando modelo"
   ]
  },
  {
   "cell_type": "code",
   "execution_count": null,
   "id": "02680af9",
   "metadata": {},
   "outputs": [],
   "source": [
    "def load_neural_model():\n",
    "    with open('./Models/Neural/neural_model_v1.pkl', 'rb') as f:\n",
    "        loaded_model = pickle.load(f)\n",
    "    \n",
    "    return loaded_model\n",
    "\n",
    "loaded_model = load_neural_model()"
   ]
  }
 ],
 "metadata": {
  "kernelspec": {
   "display_name": ".venv (3.12.3)",
   "language": "python",
   "name": "python3"
  },
  "language_info": {
   "codemirror_mode": {
    "name": "ipython",
    "version": 3
   },
   "file_extension": ".py",
   "mimetype": "text/x-python",
   "name": "python",
   "nbconvert_exporter": "python",
   "pygments_lexer": "ipython3",
   "version": "3.12.3"
  }
 },
 "nbformat": 4,
 "nbformat_minor": 5
}
