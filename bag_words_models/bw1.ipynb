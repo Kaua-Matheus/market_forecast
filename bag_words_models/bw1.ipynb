{
 "cells": [
  {
   "cell_type": "markdown",
   "id": "b64b1a53",
   "metadata": {},
   "source": [
    "# Início\n",
    "A ideia é utilizar modelos de linguagem para analisar conteúdos vindos de diversas fontes, visando adquirir informações importantes para a economia global. Usaremos essas informações para produzir uma saída e então usar essa saída dentro dos modelos de previsão, visando uma melhor acertividade no resultado final."
   ]
  },
  {
   "cell_type": "code",
   "execution_count": null,
   "id": "0312ba55",
   "metadata": {
    "vscode": {
     "languageId": "plaintext"
    }
   },
   "outputs": [],
   "source": [
    "# ---- Importações ----\n",
    "import pandas as pd"
   ]
  }
 ],
 "metadata": {
  "language_info": {
   "name": "python"
  }
 },
 "nbformat": 4,
 "nbformat_minor": 5
}
