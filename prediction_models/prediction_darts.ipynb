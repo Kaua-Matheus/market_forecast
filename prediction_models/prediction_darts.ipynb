{
 "cells": [
  {
   "cell_type": "markdown",
   "id": "29d9d1a2",
   "metadata": {},
   "source": [
    "# Inicio\n",
    "Iremos usar um modelo de predição do Darts para manipular séries temporais."
   ]
  },
  {
   "cell_type": "code",
   "execution_count": 1,
   "id": "80217775",
   "metadata": {},
   "outputs": [
    {
     "name": "stderr",
     "output_type": "stream",
     "text": [
      "/home/operador/Documentos/Estudos/Projetos/ScienceMarket_Original/.venv/lib/python3.12/site-packages/lightning_fabric/__init__.py:29: UserWarning: pkg_resources is deprecated as an API. See https://setuptools.pypa.io/en/latest/pkg_resources.html. The pkg_resources package is slated for removal as early as 2025-11-30. Refrain from using this package or pin to Setuptools<81.\n",
      "  __import__(\"pkg_resources\").declare_namespace(__name__)\n",
      "/home/operador/Documentos/Estudos/Projetos/ScienceMarket_Original/.venv/lib/python3.12/site-packages/tqdm/auto.py:21: TqdmWarning: IProgress not found. Please update jupyter and ipywidgets. See https://ipywidgets.readthedocs.io/en/stable/user_install.html\n",
      "  from .autonotebook import tqdm as notebook_tqdm\n"
     ]
    }
   ],
   "source": [
    "import pandas as pd\n",
    "import numpy as np\n",
    "from darts import TimeSeries\n",
    "from darts.models import ExponentialSmoothing\n",
    "import matplotlib.pyplot as plt\n",
    "from darts.datasets import ETTh2Dataset\n",
    "from darts.ad import KMeansScorer\n",
    "from darts.ad import QuantileDetector\n",
    "import yfinance as yf\n",
    "from datetime import datetime"
   ]
  },
  {
   "cell_type": "markdown",
   "id": "8f971c00",
   "metadata": {},
   "source": [
    "## Importando dados"
   ]
  },
  {
   "cell_type": "code",
   "execution_count": 2,
   "id": "2e5239aa",
   "metadata": {},
   "outputs": [
    {
     "name": "stderr",
     "output_type": "stream",
     "text": [
      "/tmp/ipykernel_160570/117030692.py:5: FutureWarning: YF.download() has changed argument auto_adjust default to True\n",
      "  data = yf.download(codigo, start=inicio, end=fim, multi_level_index=False)\n",
      "[*********************100%***********************]  1 of 1 completed\n"
     ]
    }
   ],
   "source": [
    "codigo = 'BRL=X'\n",
    "inicio = '2000-01-01'\n",
    "fim = pd.to_datetime(datetime.now()).strftime('%Y-%m-%d')\n",
    "\n",
    "data = yf.download(codigo, start=inicio, end=fim, multi_level_index=False)"
   ]
  },
  {
   "cell_type": "markdown",
   "id": "2e9a319d",
   "metadata": {},
   "source": [
    "## Tratamento"
   ]
  },
  {
   "cell_type": "code",
   "execution_count": 3,
   "id": "c802cb03",
   "metadata": {},
   "outputs": [
    {
     "data": {
      "text/html": [
       "<div>\n",
       "<style scoped>\n",
       "    .dataframe tbody tr th:only-of-type {\n",
       "        vertical-align: middle;\n",
       "    }\n",
       "\n",
       "    .dataframe tbody tr th {\n",
       "        vertical-align: top;\n",
       "    }\n",
       "\n",
       "    .dataframe thead th {\n",
       "        text-align: right;\n",
       "    }\n",
       "</style>\n",
       "<table border=\"1\" class=\"dataframe\">\n",
       "  <thead>\n",
       "    <tr style=\"text-align: right;\">\n",
       "      <th></th>\n",
       "      <th>Date</th>\n",
       "      <th>Close</th>\n",
       "    </tr>\n",
       "  </thead>\n",
       "  <tbody>\n",
       "    <tr>\n",
       "      <th>0</th>\n",
       "      <td>2003-12-01</td>\n",
       "      <td>2.9230</td>\n",
       "    </tr>\n",
       "    <tr>\n",
       "      <th>1</th>\n",
       "      <td>2003-12-02</td>\n",
       "      <td>2.9310</td>\n",
       "    </tr>\n",
       "    <tr>\n",
       "      <th>2</th>\n",
       "      <td>2003-12-03</td>\n",
       "      <td>2.9310</td>\n",
       "    </tr>\n",
       "    <tr>\n",
       "      <th>3</th>\n",
       "      <td>2003-12-04</td>\n",
       "      <td>2.9430</td>\n",
       "    </tr>\n",
       "    <tr>\n",
       "      <th>4</th>\n",
       "      <td>2003-12-05</td>\n",
       "      <td>2.9340</td>\n",
       "    </tr>\n",
       "    <tr>\n",
       "      <th>...</th>\n",
       "      <td>...</td>\n",
       "      <td>...</td>\n",
       "    </tr>\n",
       "    <tr>\n",
       "      <th>5230</th>\n",
       "      <td>2025-09-08</td>\n",
       "      <td>5.4122</td>\n",
       "    </tr>\n",
       "    <tr>\n",
       "      <th>5231</th>\n",
       "      <td>2025-09-09</td>\n",
       "      <td>5.4203</td>\n",
       "    </tr>\n",
       "    <tr>\n",
       "      <th>5232</th>\n",
       "      <td>2025-09-10</td>\n",
       "      <td>5.4336</td>\n",
       "    </tr>\n",
       "    <tr>\n",
       "      <th>5233</th>\n",
       "      <td>2025-09-11</td>\n",
       "      <td>5.4020</td>\n",
       "    </tr>\n",
       "    <tr>\n",
       "      <th>5234</th>\n",
       "      <td>2025-09-12</td>\n",
       "      <td>5.3882</td>\n",
       "    </tr>\n",
       "  </tbody>\n",
       "</table>\n",
       "<p>5235 rows × 2 columns</p>\n",
       "</div>"
      ],
      "text/plain": [
       "           Date   Close\n",
       "0    2003-12-01  2.9230\n",
       "1    2003-12-02  2.9310\n",
       "2    2003-12-03  2.9310\n",
       "3    2003-12-04  2.9430\n",
       "4    2003-12-05  2.9340\n",
       "...         ...     ...\n",
       "5230 2025-09-08  5.4122\n",
       "5231 2025-09-09  5.4203\n",
       "5232 2025-09-10  5.4336\n",
       "5233 2025-09-11  5.4020\n",
       "5234 2025-09-12  5.3882\n",
       "\n",
       "[5235 rows x 2 columns]"
      ]
     },
     "execution_count": 3,
     "metadata": {},
     "output_type": "execute_result"
    }
   ],
   "source": [
    "pd.DataFrame(data)[['Close']].reset_index()"
   ]
  },
  {
   "cell_type": "code",
   "execution_count": 4,
   "id": "0b697726",
   "metadata": {},
   "outputs": [
    {
     "name": "stdout",
     "output_type": "stream",
     "text": [
      "Dados separados!\n",
      "Train: 6365\n",
      "Test: 1592\n"
     ]
    }
   ],
   "source": [
    "df = pd.DataFrame({\n",
    "    'ds': pd.to_datetime(pd.DataFrame(data)[['Close']].reset_index()['Date']),\n",
    "    'y': pd.DataFrame(data)[['Close']].reset_index()['Close'].astype(float)\n",
    "})\n",
    "df = df.dropna()\n",
    "df = df.sort_values('ds').reset_index(drop=True)\n",
    "\n",
    "series = TimeSeries.from_dataframe(df, 'ds', 'y', freq='D')\n",
    "\n",
    "split = int(len(series) * 0.8)\n",
    "train, val = series[:split], series[split:]\n",
    "print(f\"Dados separados!\\nTrain: {len(train)}\\nTest: {len(val)}\")"
   ]
  },
  {
   "cell_type": "code",
   "execution_count": null,
   "id": "ece71ac0",
   "metadata": {},
   "outputs": [
    {
     "ename": "AttributeError",
     "evalue": "'TimeSeries' object has no attribute 'interpolate'",
     "output_type": "error",
     "traceback": [
      "\u001b[31m---------------------------------------------------------------------------\u001b[39m",
      "\u001b[31mAttributeError\u001b[39m                            Traceback (most recent call last)",
      "\u001b[36mCell\u001b[39m\u001b[36m \u001b[39m\u001b[32mIn[7]\u001b[39m\u001b[32m, line 4\u001b[39m\n\u001b[32m      1\u001b[39m \u001b[38;5;66;03m# Os valores estão zerados, tem que retirar os valores nulos.\u001b[39;00m\n\u001b[32m      2\u001b[39m \n\u001b[32m      3\u001b[39m \u001b[38;5;66;03m# Interpolate NaN values from train\u001b[39;00m\n\u001b[32m----> \u001b[39m\u001b[32m4\u001b[39m train_clean = \u001b[43mtrain\u001b[49m\u001b[43m.\u001b[49m\u001b[43minterpolate\u001b[49m()\n\u001b[32m      6\u001b[39m model = ExponentialSmoothing()\n\u001b[32m      7\u001b[39m model.fit(train_clean)\n",
      "\u001b[31mAttributeError\u001b[39m: 'TimeSeries' object has no attribute 'interpolate'"
     ]
    }
   ],
   "source": [
    "# Os valores estão zerados, tem que retirar os valores nulos.\n",
    "\n",
    "# Fill NaN values from train using interpolation\n",
    "train_clean = train.fill_missing_values()\n",
    "\n",
    "model = ExponentialSmoothing()\n",
    "model.fit(train_clean)\n",
    "prediction = model.predict(len(val), num_samples=1000)"
   ]
  },
  {
   "cell_type": "markdown",
   "id": "d409061b",
   "metadata": {},
   "source": [
    "## Visualização"
   ]
  },
  {
   "cell_type": "code",
   "execution_count": null,
   "id": "3d16e3b1",
   "metadata": {},
   "outputs": [],
   "source": []
  },
  {
   "cell_type": "markdown",
   "id": "75b1c426",
   "metadata": {},
   "source": [
    "## Modelo"
   ]
  }
 ],
 "metadata": {
  "kernelspec": {
   "display_name": ".venv (3.12.3)",
   "language": "python",
   "name": "python3"
  },
  "language_info": {
   "codemirror_mode": {
    "name": "ipython",
    "version": 3
   },
   "file_extension": ".py",
   "mimetype": "text/x-python",
   "name": "python",
   "nbconvert_exporter": "python",
   "pygments_lexer": "ipython3",
   "version": "3.12.3"
  }
 },
 "nbformat": 4,
 "nbformat_minor": 5
}
