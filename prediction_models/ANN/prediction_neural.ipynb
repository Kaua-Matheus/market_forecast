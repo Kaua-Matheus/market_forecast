{
 "cells": [
  {
   "cell_type": "markdown",
   "id": "fcc9164e",
   "metadata": {},
   "source": [
    "# Inicio\n",
    "Iremos usar um modelo de rede neural para manipular séries temporais.\\\n",
    "Iremos usar o NeuralProphet"
   ]
  },
  {
   "cell_type": "code",
   "execution_count": 1,
   "id": "2aa2ec9d",
   "metadata": {},
   "outputs": [
    {
     "name": "stderr",
     "output_type": "stream",
     "text": [
      "/home/operador/Documentos/Estudos/Projetos/ScienceMarket/.venv/lib/python3.12/site-packages/lightning_fabric/__init__.py:29: UserWarning: pkg_resources is deprecated as an API. See https://setuptools.pypa.io/en/latest/pkg_resources.html. The pkg_resources package is slated for removal as early as 2025-11-30. Refrain from using this package or pin to Setuptools<81.\n",
      "  __import__(\"pkg_resources\").declare_namespace(__name__)\n",
      "/home/operador/Documentos/Estudos/Projetos/ScienceMarket/.venv/lib/python3.12/site-packages/tqdm/auto.py:21: TqdmWarning: IProgress not found. Please update jupyter and ipywidgets. See https://ipywidgets.readthedocs.io/en/stable/user_install.html\n",
      "  from .autonotebook import tqdm as notebook_tqdm\n",
      "Importing plotly failed. Interactive plots will not work.\n",
      "Importing plotly failed. Interactive plots will not work.\n"
     ]
    }
   ],
   "source": [
    "import pandas as pd\n",
    "import matplotlib.pyplot as plt\n",
    "import numpy as np\n",
    "import yfinance as yf\n",
    "import torch\n",
    "import os\n",
    "import pickle\n",
    "\n",
    "from sklearn.metrics import (\n",
    "    r2_score,\n",
    "    mean_absolute_error,\n",
    "    mean_absolute_percentage_error\n",
    ")\n",
    "\n",
    "from datetime import datetime\n",
    "from neuralprophet.configure import Season\n",
    "torch.serialization.add_safe_globals([Season])\n",
    "\n",
    "import neuralprophet"
   ]
  },
  {
   "cell_type": "code",
   "execution_count": 2,
   "id": "8829ad6e",
   "metadata": {},
   "outputs": [
    {
     "name": "stderr",
     "output_type": "stream",
     "text": [
      "WARNING - (py.warnings._showwarnmsg) - /tmp/ipykernel_22004/117030692.py:5: FutureWarning: YF.download() has changed argument auto_adjust default to True\n",
      "  data = yf.download(codigo, start=inicio, end=fim, multi_level_index=False)\n",
      "\n",
      "[*********************100%***********************]  1 of 1 completed\n"
     ]
    }
   ],
   "source": [
    "codigo = 'BRL=X'\n",
    "inicio = '2000-01-01'\n",
    "fim = pd.to_datetime(datetime.now()).strftime('%Y-%m-%d')\n",
    "\n",
    "data = yf.download(codigo, start=inicio, end=fim, multi_level_index=False)"
   ]
  },
  {
   "cell_type": "code",
   "execution_count": 3,
   "id": "dcc8c251",
   "metadata": {},
   "outputs": [],
   "source": [
    "# Transformando em dataframe\n",
    "df = pd.DataFrame(data)\n",
    "\n",
    "# Transformando dados\n",
    "df = df[['Close']].reset_index()\n",
    "df.columns = ['ds', 'y']"
   ]
  },
  {
   "cell_type": "code",
   "execution_count": 4,
   "id": "7189843d",
   "metadata": {},
   "outputs": [],
   "source": [
    "df_formatted = pd.DataFrame({\n",
    "    'ds': pd.to_datetime(df['ds']),\n",
    "    'y': df['y'].astype(float)\n",
    "})\n",
    "df_formatted = df_formatted.dropna()\n",
    "df_formatted = df_formatted.sort_values('ds').reset_index(drop=True)"
   ]
  },
  {
   "cell_type": "markdown",
   "id": "08f8453d",
   "metadata": {},
   "source": [
    "## Modelo\n",
    "Iremos treinar o modelo com os dados"
   ]
  },
  {
   "cell_type": "markdown",
   "id": "60920ed9",
   "metadata": {},
   "source": [
    "### Modelo CBoW"
   ]
  },
  {
   "cell_type": "code",
   "execution_count": 2,
   "id": "174e9f90",
   "metadata": {},
   "outputs": [],
   "source": [
    "# ---- Dados ----\n",
    "sentiment_1 = pd.read_csv('../../data/financial_sentiment_1/data.csv')\n",
    "sentiment_2 = pd.read_csv('../../data/financial_sentiment_2/data.csv', encoding='latin1')\n",
    "sentiment_3 = pd.read_csv('../../data/financial_sentiment_3/data.csv')\n",
    "\n",
    "# --- Tratamento 1 ---\n",
    "sentiment_1['Sentiment'] = sentiment_1['Sentiment'].map({'positive': 1, 'negative': 0, 'neutral': 2})\n",
    "\n",
    "# --- Tratamento 2 ---\n",
    "sentiment_2.columns = ['Sentiment', 'Sentence']\n",
    "sentiment_2 = sentiment_2[['Sentence', 'Sentiment']]\n",
    "sentiment_2['Sentiment'] = sentiment_2['Sentiment'].map({'positive': 1, 'negative': 0, 'neutral': 2})\n",
    "\n",
    "# --- Tratamento 3 ---\n",
    "# Os dados 3 estão mais completos, talvez essas informações podem ser usadas.\n",
    "sentiment_3 = pd.DataFrame({\n",
    "    'Sentence' :sentiment_3['Title'],\n",
    "    'Sentiment' :sentiment_3['Sentiment'],\n",
    "})\n",
    "sentiment_3['Sentiment'] = sentiment_3['Sentiment'].map({'positive': 1, 'negative': 0, 'neutral': 2})\n",
    "\n",
    "# ---- Dataset Final ----\n",
    "df_sentiment = pd.concat([sentiment_1, sentiment_2, sentiment_3], ignore_index=True)\n",
    "df_sentiment = df_sentiment.drop((df_sentiment.loc[df_sentiment['Sentiment'] == 2]).index)\n",
    "df_sentiment = df_sentiment.dropna(subset=['Sentence', 'Sentiment'])"
   ]
  },
  {
   "cell_type": "code",
   "execution_count": 3,
   "id": "e35fd62f",
   "metadata": {},
   "outputs": [],
   "source": [
    "# ---- Implementação do CBoW\n",
    "# Ainda é necessário arrumar o caminho para que seja possível importar a classe\n",
    "\n",
    "import os, sys\n",
    "\n",
    "sys.path.append(os.path.abspath(os.path.join(os.getcwd(), \"../../GLN\")))\n",
    "from continuous_bag_of_words import CBoW"
   ]
  },
  {
   "cell_type": "code",
   "execution_count": 4,
   "id": "662ea388",
   "metadata": {},
   "outputs": [
    {
     "name": "stdout",
     "output_type": "stream",
     "text": [
      "Model trained successfully!\n",
      "Accuracy: 73.55%\n"
     ]
    },
    {
     "data": {
      "text/html": [
       "<style>#sk-container-id-1 {\n",
       "  /* Definition of color scheme common for light and dark mode */\n",
       "  --sklearn-color-text: #000;\n",
       "  --sklearn-color-text-muted: #666;\n",
       "  --sklearn-color-line: gray;\n",
       "  /* Definition of color scheme for unfitted estimators */\n",
       "  --sklearn-color-unfitted-level-0: #fff5e6;\n",
       "  --sklearn-color-unfitted-level-1: #f6e4d2;\n",
       "  --sklearn-color-unfitted-level-2: #ffe0b3;\n",
       "  --sklearn-color-unfitted-level-3: chocolate;\n",
       "  /* Definition of color scheme for fitted estimators */\n",
       "  --sklearn-color-fitted-level-0: #f0f8ff;\n",
       "  --sklearn-color-fitted-level-1: #d4ebff;\n",
       "  --sklearn-color-fitted-level-2: #b3dbfd;\n",
       "  --sklearn-color-fitted-level-3: cornflowerblue;\n",
       "\n",
       "  /* Specific color for light theme */\n",
       "  --sklearn-color-text-on-default-background: var(--sg-text-color, var(--theme-code-foreground, var(--jp-content-font-color1, black)));\n",
       "  --sklearn-color-background: var(--sg-background-color, var(--theme-background, var(--jp-layout-color0, white)));\n",
       "  --sklearn-color-border-box: var(--sg-text-color, var(--theme-code-foreground, var(--jp-content-font-color1, black)));\n",
       "  --sklearn-color-icon: #696969;\n",
       "\n",
       "  @media (prefers-color-scheme: dark) {\n",
       "    /* Redefinition of color scheme for dark theme */\n",
       "    --sklearn-color-text-on-default-background: var(--sg-text-color, var(--theme-code-foreground, var(--jp-content-font-color1, white)));\n",
       "    --sklearn-color-background: var(--sg-background-color, var(--theme-background, var(--jp-layout-color0, #111)));\n",
       "    --sklearn-color-border-box: var(--sg-text-color, var(--theme-code-foreground, var(--jp-content-font-color1, white)));\n",
       "    --sklearn-color-icon: #878787;\n",
       "  }\n",
       "}\n",
       "\n",
       "#sk-container-id-1 {\n",
       "  color: var(--sklearn-color-text);\n",
       "}\n",
       "\n",
       "#sk-container-id-1 pre {\n",
       "  padding: 0;\n",
       "}\n",
       "\n",
       "#sk-container-id-1 input.sk-hidden--visually {\n",
       "  border: 0;\n",
       "  clip: rect(1px 1px 1px 1px);\n",
       "  clip: rect(1px, 1px, 1px, 1px);\n",
       "  height: 1px;\n",
       "  margin: -1px;\n",
       "  overflow: hidden;\n",
       "  padding: 0;\n",
       "  position: absolute;\n",
       "  width: 1px;\n",
       "}\n",
       "\n",
       "#sk-container-id-1 div.sk-dashed-wrapped {\n",
       "  border: 1px dashed var(--sklearn-color-line);\n",
       "  margin: 0 0.4em 0.5em 0.4em;\n",
       "  box-sizing: border-box;\n",
       "  padding-bottom: 0.4em;\n",
       "  background-color: var(--sklearn-color-background);\n",
       "}\n",
       "\n",
       "#sk-container-id-1 div.sk-container {\n",
       "  /* jupyter's `normalize.less` sets `[hidden] { display: none; }`\n",
       "     but bootstrap.min.css set `[hidden] { display: none !important; }`\n",
       "     so we also need the `!important` here to be able to override the\n",
       "     default hidden behavior on the sphinx rendered scikit-learn.org.\n",
       "     See: https://github.com/scikit-learn/scikit-learn/issues/21755 */\n",
       "  display: inline-block !important;\n",
       "  position: relative;\n",
       "}\n",
       "\n",
       "#sk-container-id-1 div.sk-text-repr-fallback {\n",
       "  display: none;\n",
       "}\n",
       "\n",
       "div.sk-parallel-item,\n",
       "div.sk-serial,\n",
       "div.sk-item {\n",
       "  /* draw centered vertical line to link estimators */\n",
       "  background-image: linear-gradient(var(--sklearn-color-text-on-default-background), var(--sklearn-color-text-on-default-background));\n",
       "  background-size: 2px 100%;\n",
       "  background-repeat: no-repeat;\n",
       "  background-position: center center;\n",
       "}\n",
       "\n",
       "/* Parallel-specific style estimator block */\n",
       "\n",
       "#sk-container-id-1 div.sk-parallel-item::after {\n",
       "  content: \"\";\n",
       "  width: 100%;\n",
       "  border-bottom: 2px solid var(--sklearn-color-text-on-default-background);\n",
       "  flex-grow: 1;\n",
       "}\n",
       "\n",
       "#sk-container-id-1 div.sk-parallel {\n",
       "  display: flex;\n",
       "  align-items: stretch;\n",
       "  justify-content: center;\n",
       "  background-color: var(--sklearn-color-background);\n",
       "  position: relative;\n",
       "}\n",
       "\n",
       "#sk-container-id-1 div.sk-parallel-item {\n",
       "  display: flex;\n",
       "  flex-direction: column;\n",
       "}\n",
       "\n",
       "#sk-container-id-1 div.sk-parallel-item:first-child::after {\n",
       "  align-self: flex-end;\n",
       "  width: 50%;\n",
       "}\n",
       "\n",
       "#sk-container-id-1 div.sk-parallel-item:last-child::after {\n",
       "  align-self: flex-start;\n",
       "  width: 50%;\n",
       "}\n",
       "\n",
       "#sk-container-id-1 div.sk-parallel-item:only-child::after {\n",
       "  width: 0;\n",
       "}\n",
       "\n",
       "/* Serial-specific style estimator block */\n",
       "\n",
       "#sk-container-id-1 div.sk-serial {\n",
       "  display: flex;\n",
       "  flex-direction: column;\n",
       "  align-items: center;\n",
       "  background-color: var(--sklearn-color-background);\n",
       "  padding-right: 1em;\n",
       "  padding-left: 1em;\n",
       "}\n",
       "\n",
       "\n",
       "/* Toggleable style: style used for estimator/Pipeline/ColumnTransformer box that is\n",
       "clickable and can be expanded/collapsed.\n",
       "- Pipeline and ColumnTransformer use this feature and define the default style\n",
       "- Estimators will overwrite some part of the style using the `sk-estimator` class\n",
       "*/\n",
       "\n",
       "/* Pipeline and ColumnTransformer style (default) */\n",
       "\n",
       "#sk-container-id-1 div.sk-toggleable {\n",
       "  /* Default theme specific background. It is overwritten whether we have a\n",
       "  specific estimator or a Pipeline/ColumnTransformer */\n",
       "  background-color: var(--sklearn-color-background);\n",
       "}\n",
       "\n",
       "/* Toggleable label */\n",
       "#sk-container-id-1 label.sk-toggleable__label {\n",
       "  cursor: pointer;\n",
       "  display: flex;\n",
       "  width: 100%;\n",
       "  margin-bottom: 0;\n",
       "  padding: 0.5em;\n",
       "  box-sizing: border-box;\n",
       "  text-align: center;\n",
       "  align-items: start;\n",
       "  justify-content: space-between;\n",
       "  gap: 0.5em;\n",
       "}\n",
       "\n",
       "#sk-container-id-1 label.sk-toggleable__label .caption {\n",
       "  font-size: 0.6rem;\n",
       "  font-weight: lighter;\n",
       "  color: var(--sklearn-color-text-muted);\n",
       "}\n",
       "\n",
       "#sk-container-id-1 label.sk-toggleable__label-arrow:before {\n",
       "  /* Arrow on the left of the label */\n",
       "  content: \"▸\";\n",
       "  float: left;\n",
       "  margin-right: 0.25em;\n",
       "  color: var(--sklearn-color-icon);\n",
       "}\n",
       "\n",
       "#sk-container-id-1 label.sk-toggleable__label-arrow:hover:before {\n",
       "  color: var(--sklearn-color-text);\n",
       "}\n",
       "\n",
       "/* Toggleable content - dropdown */\n",
       "\n",
       "#sk-container-id-1 div.sk-toggleable__content {\n",
       "  display: none;\n",
       "  text-align: left;\n",
       "  /* unfitted */\n",
       "  background-color: var(--sklearn-color-unfitted-level-0);\n",
       "}\n",
       "\n",
       "#sk-container-id-1 div.sk-toggleable__content.fitted {\n",
       "  /* fitted */\n",
       "  background-color: var(--sklearn-color-fitted-level-0);\n",
       "}\n",
       "\n",
       "#sk-container-id-1 div.sk-toggleable__content pre {\n",
       "  margin: 0.2em;\n",
       "  border-radius: 0.25em;\n",
       "  color: var(--sklearn-color-text);\n",
       "  /* unfitted */\n",
       "  background-color: var(--sklearn-color-unfitted-level-0);\n",
       "}\n",
       "\n",
       "#sk-container-id-1 div.sk-toggleable__content.fitted pre {\n",
       "  /* unfitted */\n",
       "  background-color: var(--sklearn-color-fitted-level-0);\n",
       "}\n",
       "\n",
       "#sk-container-id-1 input.sk-toggleable__control:checked~div.sk-toggleable__content {\n",
       "  /* Expand drop-down */\n",
       "  display: block;\n",
       "  width: 100%;\n",
       "  overflow: visible;\n",
       "}\n",
       "\n",
       "#sk-container-id-1 input.sk-toggleable__control:checked~label.sk-toggleable__label-arrow:before {\n",
       "  content: \"▾\";\n",
       "}\n",
       "\n",
       "/* Pipeline/ColumnTransformer-specific style */\n",
       "\n",
       "#sk-container-id-1 div.sk-label input.sk-toggleable__control:checked~label.sk-toggleable__label {\n",
       "  color: var(--sklearn-color-text);\n",
       "  background-color: var(--sklearn-color-unfitted-level-2);\n",
       "}\n",
       "\n",
       "#sk-container-id-1 div.sk-label.fitted input.sk-toggleable__control:checked~label.sk-toggleable__label {\n",
       "  background-color: var(--sklearn-color-fitted-level-2);\n",
       "}\n",
       "\n",
       "/* Estimator-specific style */\n",
       "\n",
       "/* Colorize estimator box */\n",
       "#sk-container-id-1 div.sk-estimator input.sk-toggleable__control:checked~label.sk-toggleable__label {\n",
       "  /* unfitted */\n",
       "  background-color: var(--sklearn-color-unfitted-level-2);\n",
       "}\n",
       "\n",
       "#sk-container-id-1 div.sk-estimator.fitted input.sk-toggleable__control:checked~label.sk-toggleable__label {\n",
       "  /* fitted */\n",
       "  background-color: var(--sklearn-color-fitted-level-2);\n",
       "}\n",
       "\n",
       "#sk-container-id-1 div.sk-label label.sk-toggleable__label,\n",
       "#sk-container-id-1 div.sk-label label {\n",
       "  /* The background is the default theme color */\n",
       "  color: var(--sklearn-color-text-on-default-background);\n",
       "}\n",
       "\n",
       "/* On hover, darken the color of the background */\n",
       "#sk-container-id-1 div.sk-label:hover label.sk-toggleable__label {\n",
       "  color: var(--sklearn-color-text);\n",
       "  background-color: var(--sklearn-color-unfitted-level-2);\n",
       "}\n",
       "\n",
       "/* Label box, darken color on hover, fitted */\n",
       "#sk-container-id-1 div.sk-label.fitted:hover label.sk-toggleable__label.fitted {\n",
       "  color: var(--sklearn-color-text);\n",
       "  background-color: var(--sklearn-color-fitted-level-2);\n",
       "}\n",
       "\n",
       "/* Estimator label */\n",
       "\n",
       "#sk-container-id-1 div.sk-label label {\n",
       "  font-family: monospace;\n",
       "  font-weight: bold;\n",
       "  display: inline-block;\n",
       "  line-height: 1.2em;\n",
       "}\n",
       "\n",
       "#sk-container-id-1 div.sk-label-container {\n",
       "  text-align: center;\n",
       "}\n",
       "\n",
       "/* Estimator-specific */\n",
       "#sk-container-id-1 div.sk-estimator {\n",
       "  font-family: monospace;\n",
       "  border: 1px dotted var(--sklearn-color-border-box);\n",
       "  border-radius: 0.25em;\n",
       "  box-sizing: border-box;\n",
       "  margin-bottom: 0.5em;\n",
       "  /* unfitted */\n",
       "  background-color: var(--sklearn-color-unfitted-level-0);\n",
       "}\n",
       "\n",
       "#sk-container-id-1 div.sk-estimator.fitted {\n",
       "  /* fitted */\n",
       "  background-color: var(--sklearn-color-fitted-level-0);\n",
       "}\n",
       "\n",
       "/* on hover */\n",
       "#sk-container-id-1 div.sk-estimator:hover {\n",
       "  /* unfitted */\n",
       "  background-color: var(--sklearn-color-unfitted-level-2);\n",
       "}\n",
       "\n",
       "#sk-container-id-1 div.sk-estimator.fitted:hover {\n",
       "  /* fitted */\n",
       "  background-color: var(--sklearn-color-fitted-level-2);\n",
       "}\n",
       "\n",
       "/* Specification for estimator info (e.g. \"i\" and \"?\") */\n",
       "\n",
       "/* Common style for \"i\" and \"?\" */\n",
       "\n",
       ".sk-estimator-doc-link,\n",
       "a:link.sk-estimator-doc-link,\n",
       "a:visited.sk-estimator-doc-link {\n",
       "  float: right;\n",
       "  font-size: smaller;\n",
       "  line-height: 1em;\n",
       "  font-family: monospace;\n",
       "  background-color: var(--sklearn-color-background);\n",
       "  border-radius: 1em;\n",
       "  height: 1em;\n",
       "  width: 1em;\n",
       "  text-decoration: none !important;\n",
       "  margin-left: 0.5em;\n",
       "  text-align: center;\n",
       "  /* unfitted */\n",
       "  border: var(--sklearn-color-unfitted-level-1) 1pt solid;\n",
       "  color: var(--sklearn-color-unfitted-level-1);\n",
       "}\n",
       "\n",
       ".sk-estimator-doc-link.fitted,\n",
       "a:link.sk-estimator-doc-link.fitted,\n",
       "a:visited.sk-estimator-doc-link.fitted {\n",
       "  /* fitted */\n",
       "  border: var(--sklearn-color-fitted-level-1) 1pt solid;\n",
       "  color: var(--sklearn-color-fitted-level-1);\n",
       "}\n",
       "\n",
       "/* On hover */\n",
       "div.sk-estimator:hover .sk-estimator-doc-link:hover,\n",
       ".sk-estimator-doc-link:hover,\n",
       "div.sk-label-container:hover .sk-estimator-doc-link:hover,\n",
       ".sk-estimator-doc-link:hover {\n",
       "  /* unfitted */\n",
       "  background-color: var(--sklearn-color-unfitted-level-3);\n",
       "  color: var(--sklearn-color-background);\n",
       "  text-decoration: none;\n",
       "}\n",
       "\n",
       "div.sk-estimator.fitted:hover .sk-estimator-doc-link.fitted:hover,\n",
       ".sk-estimator-doc-link.fitted:hover,\n",
       "div.sk-label-container:hover .sk-estimator-doc-link.fitted:hover,\n",
       ".sk-estimator-doc-link.fitted:hover {\n",
       "  /* fitted */\n",
       "  background-color: var(--sklearn-color-fitted-level-3);\n",
       "  color: var(--sklearn-color-background);\n",
       "  text-decoration: none;\n",
       "}\n",
       "\n",
       "/* Span, style for the box shown on hovering the info icon */\n",
       ".sk-estimator-doc-link span {\n",
       "  display: none;\n",
       "  z-index: 9999;\n",
       "  position: relative;\n",
       "  font-weight: normal;\n",
       "  right: .2ex;\n",
       "  padding: .5ex;\n",
       "  margin: .5ex;\n",
       "  width: min-content;\n",
       "  min-width: 20ex;\n",
       "  max-width: 50ex;\n",
       "  color: var(--sklearn-color-text);\n",
       "  box-shadow: 2pt 2pt 4pt #999;\n",
       "  /* unfitted */\n",
       "  background: var(--sklearn-color-unfitted-level-0);\n",
       "  border: .5pt solid var(--sklearn-color-unfitted-level-3);\n",
       "}\n",
       "\n",
       ".sk-estimator-doc-link.fitted span {\n",
       "  /* fitted */\n",
       "  background: var(--sklearn-color-fitted-level-0);\n",
       "  border: var(--sklearn-color-fitted-level-3);\n",
       "}\n",
       "\n",
       ".sk-estimator-doc-link:hover span {\n",
       "  display: block;\n",
       "}\n",
       "\n",
       "/* \"?\"-specific style due to the `<a>` HTML tag */\n",
       "\n",
       "#sk-container-id-1 a.estimator_doc_link {\n",
       "  float: right;\n",
       "  font-size: 1rem;\n",
       "  line-height: 1em;\n",
       "  font-family: monospace;\n",
       "  background-color: var(--sklearn-color-background);\n",
       "  border-radius: 1rem;\n",
       "  height: 1rem;\n",
       "  width: 1rem;\n",
       "  text-decoration: none;\n",
       "  /* unfitted */\n",
       "  color: var(--sklearn-color-unfitted-level-1);\n",
       "  border: var(--sklearn-color-unfitted-level-1) 1pt solid;\n",
       "}\n",
       "\n",
       "#sk-container-id-1 a.estimator_doc_link.fitted {\n",
       "  /* fitted */\n",
       "  border: var(--sklearn-color-fitted-level-1) 1pt solid;\n",
       "  color: var(--sklearn-color-fitted-level-1);\n",
       "}\n",
       "\n",
       "/* On hover */\n",
       "#sk-container-id-1 a.estimator_doc_link:hover {\n",
       "  /* unfitted */\n",
       "  background-color: var(--sklearn-color-unfitted-level-3);\n",
       "  color: var(--sklearn-color-background);\n",
       "  text-decoration: none;\n",
       "}\n",
       "\n",
       "#sk-container-id-1 a.estimator_doc_link.fitted:hover {\n",
       "  /* fitted */\n",
       "  background-color: var(--sklearn-color-fitted-level-3);\n",
       "}\n",
       "\n",
       ".estimator-table summary {\n",
       "    padding: .5rem;\n",
       "    font-family: monospace;\n",
       "    cursor: pointer;\n",
       "}\n",
       "\n",
       ".estimator-table details[open] {\n",
       "    padding-left: 0.1rem;\n",
       "    padding-right: 0.1rem;\n",
       "    padding-bottom: 0.3rem;\n",
       "}\n",
       "\n",
       ".estimator-table .parameters-table {\n",
       "    margin-left: auto !important;\n",
       "    margin-right: auto !important;\n",
       "}\n",
       "\n",
       ".estimator-table .parameters-table tr:nth-child(odd) {\n",
       "    background-color: #fff;\n",
       "}\n",
       "\n",
       ".estimator-table .parameters-table tr:nth-child(even) {\n",
       "    background-color: #f6f6f6;\n",
       "}\n",
       "\n",
       ".estimator-table .parameters-table tr:hover {\n",
       "    background-color: #e0e0e0;\n",
       "}\n",
       "\n",
       ".estimator-table table td {\n",
       "    border: 1px solid rgba(106, 105, 104, 0.232);\n",
       "}\n",
       "\n",
       ".user-set td {\n",
       "    color:rgb(255, 94, 0);\n",
       "    text-align: left;\n",
       "}\n",
       "\n",
       ".user-set td.value pre {\n",
       "    color:rgb(255, 94, 0) !important;\n",
       "    background-color: transparent !important;\n",
       "}\n",
       "\n",
       ".default td {\n",
       "    color: black;\n",
       "    text-align: left;\n",
       "}\n",
       "\n",
       ".user-set td i,\n",
       ".default td i {\n",
       "    color: black;\n",
       "}\n",
       "\n",
       ".copy-paste-icon {\n",
       "    background-image: url(data:image/svg+xml;base64,PHN2ZyB4bWxucz0iaHR0cDovL3d3dy53My5vcmcvMjAwMC9zdmciIHZpZXdCb3g9IjAgMCA0NDggNTEyIj48IS0tIUZvbnQgQXdlc29tZSBGcmVlIDYuNy4yIGJ5IEBmb250YXdlc29tZSAtIGh0dHBzOi8vZm9udGF3ZXNvbWUuY29tIExpY2Vuc2UgLSBodHRwczovL2ZvbnRhd2Vzb21lLmNvbS9saWNlbnNlL2ZyZWUgQ29weXJpZ2h0IDIwMjUgRm9udGljb25zLCBJbmMuLS0+PHBhdGggZD0iTTIwOCAwTDMzMi4xIDBjMTIuNyAwIDI0LjkgNS4xIDMzLjkgMTQuMWw2Ny45IDY3LjljOSA5IDE0LjEgMjEuMiAxNC4xIDMzLjlMNDQ4IDMzNmMwIDI2LjUtMjEuNSA0OC00OCA0OGwtMTkyIDBjLTI2LjUgMC00OC0yMS41LTQ4LTQ4bDAtMjg4YzAtMjYuNSAyMS41LTQ4IDQ4LTQ4ek00OCAxMjhsODAgMCAwIDY0LTY0IDAgMCAyNTYgMTkyIDAgMC0zMiA2NCAwIDAgNDhjMCAyNi41LTIxLjUgNDgtNDggNDhMNDggNTEyYy0yNi41IDAtNDgtMjEuNS00OC00OEwwIDE3NmMwLTI2LjUgMjEuNS00OCA0OC00OHoiLz48L3N2Zz4=);\n",
       "    background-repeat: no-repeat;\n",
       "    background-size: 14px 14px;\n",
       "    background-position: 0;\n",
       "    display: inline-block;\n",
       "    width: 14px;\n",
       "    height: 14px;\n",
       "    cursor: pointer;\n",
       "}\n",
       "</style><body><div id=\"sk-container-id-1\" class=\"sk-top-container\"><div class=\"sk-text-repr-fallback\"><pre>LogisticRegression(max_iter=1000)</pre><b>In a Jupyter environment, please rerun this cell to show the HTML representation or trust the notebook. <br />On GitHub, the HTML representation is unable to render, please try loading this page with nbviewer.org.</b></div><div class=\"sk-container\" hidden><div class=\"sk-item\"><div class=\"sk-estimator fitted sk-toggleable\"><input class=\"sk-toggleable__control sk-hidden--visually\" id=\"sk-estimator-id-1\" type=\"checkbox\" checked><label for=\"sk-estimator-id-1\" class=\"sk-toggleable__label fitted sk-toggleable__label-arrow\"><div><div>LogisticRegression</div></div><div><a class=\"sk-estimator-doc-link fitted\" rel=\"noreferrer\" target=\"_blank\" href=\"https://scikit-learn.org/1.7/modules/generated/sklearn.linear_model.LogisticRegression.html\">?<span>Documentation for LogisticRegression</span></a><span class=\"sk-estimator-doc-link fitted\">i<span>Fitted</span></span></div></label><div class=\"sk-toggleable__content fitted\" data-param-prefix=\"\">\n",
       "        <div class=\"estimator-table\">\n",
       "            <details>\n",
       "                <summary>Parameters</summary>\n",
       "                <table class=\"parameters-table\">\n",
       "                  <tbody>\n",
       "                    \n",
       "        <tr class=\"default\">\n",
       "            <td><i class=\"copy-paste-icon\"\n",
       "                 onclick=\"copyToClipboard('penalty',\n",
       "                          this.parentElement.nextElementSibling)\"\n",
       "            ></i></td>\n",
       "            <td class=\"param\">penalty&nbsp;</td>\n",
       "            <td class=\"value\">&#x27;l2&#x27;</td>\n",
       "        </tr>\n",
       "    \n",
       "\n",
       "        <tr class=\"default\">\n",
       "            <td><i class=\"copy-paste-icon\"\n",
       "                 onclick=\"copyToClipboard('dual',\n",
       "                          this.parentElement.nextElementSibling)\"\n",
       "            ></i></td>\n",
       "            <td class=\"param\">dual&nbsp;</td>\n",
       "            <td class=\"value\">False</td>\n",
       "        </tr>\n",
       "    \n",
       "\n",
       "        <tr class=\"default\">\n",
       "            <td><i class=\"copy-paste-icon\"\n",
       "                 onclick=\"copyToClipboard('tol',\n",
       "                          this.parentElement.nextElementSibling)\"\n",
       "            ></i></td>\n",
       "            <td class=\"param\">tol&nbsp;</td>\n",
       "            <td class=\"value\">0.0001</td>\n",
       "        </tr>\n",
       "    \n",
       "\n",
       "        <tr class=\"default\">\n",
       "            <td><i class=\"copy-paste-icon\"\n",
       "                 onclick=\"copyToClipboard('C',\n",
       "                          this.parentElement.nextElementSibling)\"\n",
       "            ></i></td>\n",
       "            <td class=\"param\">C&nbsp;</td>\n",
       "            <td class=\"value\">1.0</td>\n",
       "        </tr>\n",
       "    \n",
       "\n",
       "        <tr class=\"default\">\n",
       "            <td><i class=\"copy-paste-icon\"\n",
       "                 onclick=\"copyToClipboard('fit_intercept',\n",
       "                          this.parentElement.nextElementSibling)\"\n",
       "            ></i></td>\n",
       "            <td class=\"param\">fit_intercept&nbsp;</td>\n",
       "            <td class=\"value\">True</td>\n",
       "        </tr>\n",
       "    \n",
       "\n",
       "        <tr class=\"default\">\n",
       "            <td><i class=\"copy-paste-icon\"\n",
       "                 onclick=\"copyToClipboard('intercept_scaling',\n",
       "                          this.parentElement.nextElementSibling)\"\n",
       "            ></i></td>\n",
       "            <td class=\"param\">intercept_scaling&nbsp;</td>\n",
       "            <td class=\"value\">1</td>\n",
       "        </tr>\n",
       "    \n",
       "\n",
       "        <tr class=\"default\">\n",
       "            <td><i class=\"copy-paste-icon\"\n",
       "                 onclick=\"copyToClipboard('class_weight',\n",
       "                          this.parentElement.nextElementSibling)\"\n",
       "            ></i></td>\n",
       "            <td class=\"param\">class_weight&nbsp;</td>\n",
       "            <td class=\"value\">None</td>\n",
       "        </tr>\n",
       "    \n",
       "\n",
       "        <tr class=\"default\">\n",
       "            <td><i class=\"copy-paste-icon\"\n",
       "                 onclick=\"copyToClipboard('random_state',\n",
       "                          this.parentElement.nextElementSibling)\"\n",
       "            ></i></td>\n",
       "            <td class=\"param\">random_state&nbsp;</td>\n",
       "            <td class=\"value\">None</td>\n",
       "        </tr>\n",
       "    \n",
       "\n",
       "        <tr class=\"default\">\n",
       "            <td><i class=\"copy-paste-icon\"\n",
       "                 onclick=\"copyToClipboard('solver',\n",
       "                          this.parentElement.nextElementSibling)\"\n",
       "            ></i></td>\n",
       "            <td class=\"param\">solver&nbsp;</td>\n",
       "            <td class=\"value\">&#x27;lbfgs&#x27;</td>\n",
       "        </tr>\n",
       "    \n",
       "\n",
       "        <tr class=\"user-set\">\n",
       "            <td><i class=\"copy-paste-icon\"\n",
       "                 onclick=\"copyToClipboard('max_iter',\n",
       "                          this.parentElement.nextElementSibling)\"\n",
       "            ></i></td>\n",
       "            <td class=\"param\">max_iter&nbsp;</td>\n",
       "            <td class=\"value\">1000</td>\n",
       "        </tr>\n",
       "    \n",
       "\n",
       "        <tr class=\"default\">\n",
       "            <td><i class=\"copy-paste-icon\"\n",
       "                 onclick=\"copyToClipboard('multi_class',\n",
       "                          this.parentElement.nextElementSibling)\"\n",
       "            ></i></td>\n",
       "            <td class=\"param\">multi_class&nbsp;</td>\n",
       "            <td class=\"value\">&#x27;deprecated&#x27;</td>\n",
       "        </tr>\n",
       "    \n",
       "\n",
       "        <tr class=\"default\">\n",
       "            <td><i class=\"copy-paste-icon\"\n",
       "                 onclick=\"copyToClipboard('verbose',\n",
       "                          this.parentElement.nextElementSibling)\"\n",
       "            ></i></td>\n",
       "            <td class=\"param\">verbose&nbsp;</td>\n",
       "            <td class=\"value\">0</td>\n",
       "        </tr>\n",
       "    \n",
       "\n",
       "        <tr class=\"default\">\n",
       "            <td><i class=\"copy-paste-icon\"\n",
       "                 onclick=\"copyToClipboard('warm_start',\n",
       "                          this.parentElement.nextElementSibling)\"\n",
       "            ></i></td>\n",
       "            <td class=\"param\">warm_start&nbsp;</td>\n",
       "            <td class=\"value\">False</td>\n",
       "        </tr>\n",
       "    \n",
       "\n",
       "        <tr class=\"default\">\n",
       "            <td><i class=\"copy-paste-icon\"\n",
       "                 onclick=\"copyToClipboard('n_jobs',\n",
       "                          this.parentElement.nextElementSibling)\"\n",
       "            ></i></td>\n",
       "            <td class=\"param\">n_jobs&nbsp;</td>\n",
       "            <td class=\"value\">None</td>\n",
       "        </tr>\n",
       "    \n",
       "\n",
       "        <tr class=\"default\">\n",
       "            <td><i class=\"copy-paste-icon\"\n",
       "                 onclick=\"copyToClipboard('l1_ratio',\n",
       "                          this.parentElement.nextElementSibling)\"\n",
       "            ></i></td>\n",
       "            <td class=\"param\">l1_ratio&nbsp;</td>\n",
       "            <td class=\"value\">None</td>\n",
       "        </tr>\n",
       "    \n",
       "                  </tbody>\n",
       "                </table>\n",
       "            </details>\n",
       "        </div>\n",
       "    </div></div></div></div></div><script>function copyToClipboard(text, element) {\n",
       "    // Get the parameter prefix from the closest toggleable content\n",
       "    const toggleableContent = element.closest('.sk-toggleable__content');\n",
       "    const paramPrefix = toggleableContent ? toggleableContent.dataset.paramPrefix : '';\n",
       "    const fullParamName = paramPrefix ? `${paramPrefix}${text}` : text;\n",
       "\n",
       "    const originalStyle = element.style;\n",
       "    const computedStyle = window.getComputedStyle(element);\n",
       "    const originalWidth = computedStyle.width;\n",
       "    const originalHTML = element.innerHTML.replace('Copied!', '');\n",
       "\n",
       "    navigator.clipboard.writeText(fullParamName)\n",
       "        .then(() => {\n",
       "            element.style.width = originalWidth;\n",
       "            element.style.color = 'green';\n",
       "            element.innerHTML = \"Copied!\";\n",
       "\n",
       "            setTimeout(() => {\n",
       "                element.innerHTML = originalHTML;\n",
       "                element.style = originalStyle;\n",
       "            }, 2000);\n",
       "        })\n",
       "        .catch(err => {\n",
       "            console.error('Failed to copy:', err);\n",
       "            element.style.color = 'red';\n",
       "            element.innerHTML = \"Failed!\";\n",
       "            setTimeout(() => {\n",
       "                element.innerHTML = originalHTML;\n",
       "                element.style = originalStyle;\n",
       "            }, 2000);\n",
       "        });\n",
       "    return false;\n",
       "}\n",
       "\n",
       "document.querySelectorAll('.fa-regular.fa-copy').forEach(function(element) {\n",
       "    const toggleableContent = element.closest('.sk-toggleable__content');\n",
       "    const paramPrefix = toggleableContent ? toggleableContent.dataset.paramPrefix : '';\n",
       "    const paramName = element.parentElement.nextElementSibling.textContent.trim();\n",
       "    const fullParamName = paramPrefix ? `${paramPrefix}${paramName}` : paramName;\n",
       "\n",
       "    element.setAttribute('title', fullParamName);\n",
       "});\n",
       "</script></body>"
      ],
      "text/plain": [
       "LogisticRegression(max_iter=1000)"
      ]
     },
     "execution_count": 4,
     "metadata": {},
     "output_type": "execute_result"
    }
   ],
   "source": [
    "classifier_continuous = CBoW.Classifier()\n",
    "classifier_continuous.build(df_sentiment)"
   ]
  },
  {
   "cell_type": "code",
   "execution_count": null,
   "id": "5e1c2556",
   "metadata": {},
   "outputs": [
    {
     "data": {
      "text/plain": [
       "array([1, 1, 1, 1])"
      ]
     },
     "execution_count": 13,
     "metadata": {},
     "output_type": "execute_result"
    }
   ],
   "source": [
    "# ---- Fazendo uma previsão com classifier ----\n",
    "texto_pred = [\n",
    "    \"New crypto coin going strong in this weekend!\", \n",
    "    \"Dolar on low\", \n",
    "    \"The price of oil is going down.\",\n",
    "    \"$ESI on lows, down $1.50 to $2.50 BK a real possibility\"\n",
    "    ]\n",
    "\n",
    "# Verifica se o modelo está treinado\n",
    "classifier_continuous.predict(texto_pred)\n",
    "\n",
    "# Ainda é necessário arrumar o modelo de previsão e verificar se está errando."
   ]
  },
  {
   "cell_type": "markdown",
   "id": "e9a517b5",
   "metadata": {},
   "source": [
    "### Modelo NN"
   ]
  },
  {
   "cell_type": "code",
   "execution_count": 5,
   "id": "89c47b63",
   "metadata": {},
   "outputs": [
    {
     "name": "stderr",
     "output_type": "stream",
     "text": [
      "INFO - (NP.config.__post_init__) - Note: Trend changepoint regularization is experimental.\n",
      "WARNING - (NP.forecaster.fit) - When Global modeling with local normalization, metrics are displayed in normalized scale.\n",
      "WARNING - (py.warnings._showwarnmsg) - /home/operador/Documentos/Estudos/Projetos/ScienceMarket_Original/.venv/lib/python3.12/site-packages/neuralprophet/df_utils.py:464: FutureWarning: DataFrameGroupBy.apply operated on the grouping columns. This behavior is deprecated, and in a future version of pandas the grouping columns will be excluded from the operation. Either pass `include_groups=False` to exclude the groupings or explicitly select the grouping columns after groupby to silence this warning.\n",
      "  if df.groupby(\"ID\").apply(lambda x: x.duplicated(\"ds\").any()).any():\n",
      "\n",
      "WARNING - (py.warnings._showwarnmsg) - /home/operador/Documentos/Estudos/Projetos/ScienceMarket_Original/.venv/lib/python3.12/site-packages/neuralprophet/df_utils.py:1152: FutureWarning: Series.view is deprecated and will be removed in a future version. Use ``astype`` as an alternative to change the dtype.\n",
      "  converted_ds = pd.to_datetime(ds_col, utc=True).view(dtype=np.int64)\n",
      "\n",
      "INFO - (NP.df_utils._infer_frequency) - Major frequency B corresponds to 99.542% of the data.\n",
      "WARNING - (py.warnings._showwarnmsg) - /home/operador/Documentos/Estudos/Projetos/ScienceMarket_Original/.venv/lib/python3.12/site-packages/neuralprophet/df_utils.py:1152: FutureWarning: Series.view is deprecated and will be removed in a future version. Use ``astype`` as an alternative to change the dtype.\n",
      "  converted_ds = pd.to_datetime(ds_col, utc=True).view(dtype=np.int64)\n",
      "\n",
      "WARNING - (py.warnings._showwarnmsg) - /home/operador/Documentos/Estudos/Projetos/ScienceMarket_Original/.venv/lib/python3.12/site-packages/neuralprophet/df_utils.py:1152: FutureWarning: Series.view is deprecated and will be removed in a future version. Use ``astype`` as an alternative to change the dtype.\n",
      "  converted_ds = pd.to_datetime(ds_col, utc=True).view(dtype=np.int64)\n",
      "\n",
      "INFO - (NP.df_utils._infer_frequency) - Defined frequency is equal to major frequency - D\n",
      "INFO - (NP.config.init_data_params) - Setting normalization to global as only one dataframe provided for training.\n",
      "INFO - (NP.config.set_auto_batch_epoch) - Auto-set epochs to 70\n"
     ]
    },
    {
     "name": "stdout",
     "output_type": "stream",
     "text": [
      "Epoch 70: 100%|██████████| 70/70 [00:00<00:00, 79.87it/s, loss=0.0046, v_num=1, MAE=0.215, RMSE=0.268, Loss=0.00463, RegLoss=0.000327]    \n"
     ]
    }
   ],
   "source": [
    "modelo = neuralprophet.NeuralProphet(\n",
    "    growth='linear',\n",
    "    changepoints_range=0.9,\n",
    "    n_changepoints=25,\n",
    "\n",
    "    yearly_seasonality=True,\n",
    "    weekly_seasonality=False,\n",
    "    daily_seasonality=False,\n",
    "\n",
    "    batch_size=32,\n",
    "    learning_rate=0.01,\n",
    "\n",
    "    seasonality_mode='multiplicative',\n",
    "    normalize='minmax',\n",
    "\n",
    "    trend_reg=0.01,\n",
    "    ar_reg=0.01,\n",
    "\n",
    "    n_forecasts=1,\n",
    "\n",
    "    trend_reg_threshold=False\n",
    ")\n",
    "metrics = modelo.fit(\n",
    "    df_formatted,\n",
    "    freq='D',\n",
    "    validation_df=None,\n",
    "    progress='bar'\n",
    "    )"
   ]
  },
  {
   "cell_type": "markdown",
   "id": "086e59c0",
   "metadata": {},
   "source": [
    "### Testando modelo"
   ]
  },
  {
   "cell_type": "code",
   "execution_count": 6,
   "id": "ef9883ee",
   "metadata": {},
   "outputs": [
    {
     "name": "stderr",
     "output_type": "stream",
     "text": [
      "WARNING - (py.warnings._showwarnmsg) - /home/operador/Documentos/Estudos/Projetos/ScienceMarket_Original/.venv/lib/python3.12/site-packages/neuralprophet/df_utils.py:1152: FutureWarning: Series.view is deprecated and will be removed in a future version. Use ``astype`` as an alternative to change the dtype.\n",
      "  converted_ds = pd.to_datetime(ds_col, utc=True).view(dtype=np.int64)\n",
      "\n",
      "INFO - (NP.df_utils._infer_frequency) - Major frequency B corresponds to 99.542% of the data.\n",
      "WARNING - (py.warnings._showwarnmsg) - /home/operador/Documentos/Estudos/Projetos/ScienceMarket_Original/.venv/lib/python3.12/site-packages/neuralprophet/df_utils.py:1152: FutureWarning: Series.view is deprecated and will be removed in a future version. Use ``astype`` as an alternative to change the dtype.\n",
      "  converted_ds = pd.to_datetime(ds_col, utc=True).view(dtype=np.int64)\n",
      "\n",
      "WARNING - (py.warnings._showwarnmsg) - /home/operador/Documentos/Estudos/Projetos/ScienceMarket_Original/.venv/lib/python3.12/site-packages/neuralprophet/df_utils.py:1152: FutureWarning: Series.view is deprecated and will be removed in a future version. Use ``astype`` as an alternative to change the dtype.\n",
      "  converted_ds = pd.to_datetime(ds_col, utc=True).view(dtype=np.int64)\n",
      "\n",
      "INFO - (NP.df_utils._infer_frequency) - Defined frequency is equal to major frequency - D\n"
     ]
    },
    {
     "name": "stderr",
     "output_type": "stream",
     "text": [
      "INFO - (NP.df_utils.return_df_in_original_format) - Returning df with no ID column\n",
      "WARNING - (py.warnings._showwarnmsg) - /home/operador/Documentos/Estudos/Projetos/ScienceMarket_Original/.venv/lib/python3.12/site-packages/neuralprophet/df_utils.py:1152: FutureWarning: Series.view is deprecated and will be removed in a future version. Use ``astype`` as an alternative to change the dtype.\n",
      "  converted_ds = pd.to_datetime(ds_col, utc=True).view(dtype=np.int64)\n",
      "\n",
      "INFO - (NP.df_utils._infer_frequency) - Major frequency D corresponds to 99.726% of the data.\n",
      "WARNING - (py.warnings._showwarnmsg) - /home/operador/Documentos/Estudos/Projetos/ScienceMarket_Original/.venv/lib/python3.12/site-packages/neuralprophet/df_utils.py:1152: FutureWarning: Series.view is deprecated and will be removed in a future version. Use ``astype`` as an alternative to change the dtype.\n",
      "  converted_ds = pd.to_datetime(ds_col, utc=True).view(dtype=np.int64)\n",
      "\n",
      "WARNING - (py.warnings._showwarnmsg) - /home/operador/Documentos/Estudos/Projetos/ScienceMarket_Original/.venv/lib/python3.12/site-packages/neuralprophet/df_utils.py:1152: FutureWarning: Series.view is deprecated and will be removed in a future version. Use ``astype`` as an alternative to change the dtype.\n",
      "  converted_ds = pd.to_datetime(ds_col, utc=True).view(dtype=np.int64)\n",
      "\n",
      "INFO - (NP.df_utils._infer_frequency) - Defined frequency is equal to major frequency - D\n",
      "WARNING - (py.warnings._showwarnmsg) - /home/operador/Documentos/Estudos/Projetos/ScienceMarket_Original/.venv/lib/python3.12/site-packages/neuralprophet/df_utils.py:1152: FutureWarning: Series.view is deprecated and will be removed in a future version. Use ``astype`` as an alternative to change the dtype.\n",
      "  converted_ds = pd.to_datetime(ds_col, utc=True).view(dtype=np.int64)\n",
      "\n",
      "INFO - (NP.df_utils._infer_frequency) - Major frequency D corresponds to 99.726% of the data.\n",
      "WARNING - (py.warnings._showwarnmsg) - /home/operador/Documentos/Estudos/Projetos/ScienceMarket_Original/.venv/lib/python3.12/site-packages/neuralprophet/df_utils.py:1152: FutureWarning: Series.view is deprecated and will be removed in a future version. Use ``astype`` as an alternative to change the dtype.\n",
      "  converted_ds = pd.to_datetime(ds_col, utc=True).view(dtype=np.int64)\n",
      "\n",
      "WARNING - (py.warnings._showwarnmsg) - /home/operador/Documentos/Estudos/Projetos/ScienceMarket_Original/.venv/lib/python3.12/site-packages/neuralprophet/df_utils.py:1152: FutureWarning: Series.view is deprecated and will be removed in a future version. Use ``astype`` as an alternative to change the dtype.\n",
      "  converted_ds = pd.to_datetime(ds_col, utc=True).view(dtype=np.int64)\n",
      "\n",
      "INFO - (NP.df_utils._infer_frequency) - Defined frequency is equal to major frequency - D\n",
      "WARNING - (py.warnings._showwarnmsg) - /home/operador/Documentos/Estudos/Projetos/ScienceMarket_Original/.venv/lib/python3.12/site-packages/neuralprophet/df_utils.py:464: FutureWarning: DataFrameGroupBy.apply operated on the grouping columns. This behavior is deprecated, and in a future version of pandas the grouping columns will be excluded from the operation. Either pass `include_groups=False` to exclude the groupings or explicitly select the grouping columns after groupby to silence this warning.\n",
      "  if df.groupby(\"ID\").apply(lambda x: x.duplicated(\"ds\").any()).any():\n",
      "\n",
      "WARNING - (py.warnings._showwarnmsg) - /home/operador/Documentos/Estudos/Projetos/ScienceMarket_Original/.venv/lib/python3.12/site-packages/neuralprophet/data/process.py:517: FutureWarning: DataFrameGroupBy.apply operated on the grouping columns. This behavior is deprecated, and in a future version of pandas the grouping columns will be excluded from the operation. Either pass `include_groups=False` to exclude the groupings or explicitly select the grouping columns after groupby to silence this warning.\n",
      "  df_dropped = df.groupby(\"ID\", group_keys=False).apply(lambda x: x.loc[: last_valid_index[x.name]])\n",
      "\n"
     ]
    },
    {
     "name": "stdout",
     "output_type": "stream",
     "text": [
      "Predicting DataLoader 0: 100%|██████████| 1/1 [00:00<00:00, 189.23it/s]"
     ]
    },
    {
     "name": "stderr",
     "output_type": "stream",
     "text": [
      "INFO - (NP.df_utils.return_df_in_original_format) - Returning df with no ID column\n",
      "WARNING - (py.warnings._showwarnmsg) - /home/operador/Documentos/Estudos/Projetos/ScienceMarket_Original/.venv/lib/python3.12/site-packages/neuralprophet/df_utils.py:1152: FutureWarning: Series.view is deprecated and will be removed in a future version. Use ``astype`` as an alternative to change the dtype.\n",
      "  converted_ds = pd.to_datetime(ds_col, utc=True).view(dtype=np.int64)\n",
      "\n",
      "INFO - (NP.df_utils._infer_frequency) - Major frequency B corresponds to 99.542% of the data.\n",
      "WARNING - (py.warnings._showwarnmsg) - /home/operador/Documentos/Estudos/Projetos/ScienceMarket_Original/.venv/lib/python3.12/site-packages/neuralprophet/df_utils.py:1152: FutureWarning: Series.view is deprecated and will be removed in a future version. Use ``astype`` as an alternative to change the dtype.\n",
      "  converted_ds = pd.to_datetime(ds_col, utc=True).view(dtype=np.int64)\n",
      "\n"
     ]
    },
    {
     "name": "stdout",
     "output_type": "stream",
     "text": [
      "\n"
     ]
    },
    {
     "name": "stderr",
     "output_type": "stream",
     "text": [
      "WARNING - (py.warnings._showwarnmsg) - /home/operador/Documentos/Estudos/Projetos/ScienceMarket_Original/.venv/lib/python3.12/site-packages/neuralprophet/df_utils.py:1152: FutureWarning: Series.view is deprecated and will be removed in a future version. Use ``astype`` as an alternative to change the dtype.\n",
      "  converted_ds = pd.to_datetime(ds_col, utc=True).view(dtype=np.int64)\n",
      "\n",
      "INFO - (NP.df_utils._infer_frequency) - Defined frequency is equal to major frequency - D\n",
      "WARNING - (py.warnings._showwarnmsg) - /home/operador/Documentos/Estudos/Projetos/ScienceMarket_Original/.venv/lib/python3.12/site-packages/neuralprophet/df_utils.py:1152: FutureWarning: Series.view is deprecated and will be removed in a future version. Use ``astype`` as an alternative to change the dtype.\n",
      "  converted_ds = pd.to_datetime(ds_col, utc=True).view(dtype=np.int64)\n",
      "\n",
      "INFO - (NP.df_utils._infer_frequency) - Major frequency B corresponds to 99.542% of the data.\n",
      "WARNING - (py.warnings._showwarnmsg) - /home/operador/Documentos/Estudos/Projetos/ScienceMarket_Original/.venv/lib/python3.12/site-packages/neuralprophet/df_utils.py:1152: FutureWarning: Series.view is deprecated and will be removed in a future version. Use ``astype`` as an alternative to change the dtype.\n",
      "  converted_ds = pd.to_datetime(ds_col, utc=True).view(dtype=np.int64)\n",
      "\n",
      "WARNING - (py.warnings._showwarnmsg) - /home/operador/Documentos/Estudos/Projetos/ScienceMarket_Original/.venv/lib/python3.12/site-packages/neuralprophet/df_utils.py:1152: FutureWarning: Series.view is deprecated and will be removed in a future version. Use ``astype`` as an alternative to change the dtype.\n",
      "  converted_ds = pd.to_datetime(ds_col, utc=True).view(dtype=np.int64)\n",
      "\n",
      "INFO - (NP.df_utils._infer_frequency) - Defined frequency is equal to major frequency - D\n",
      "WARNING - (py.warnings._showwarnmsg) - /home/operador/Documentos/Estudos/Projetos/ScienceMarket_Original/.venv/lib/python3.12/site-packages/neuralprophet/df_utils.py:464: FutureWarning: DataFrameGroupBy.apply operated on the grouping columns. This behavior is deprecated, and in a future version of pandas the grouping columns will be excluded from the operation. Either pass `include_groups=False` to exclude the groupings or explicitly select the grouping columns after groupby to silence this warning.\n",
      "  if df.groupby(\"ID\").apply(lambda x: x.duplicated(\"ds\").any()).any():\n",
      "\n"
     ]
    },
    {
     "name": "stdout",
     "output_type": "stream",
     "text": [
      "Predicting DataLoader 0: 100%|██████████| 6/6 [00:00<00:00, 130.36it/s]"
     ]
    },
    {
     "name": "stderr",
     "output_type": "stream",
     "text": [
      "INFO - (NP.df_utils.return_df_in_original_format) - Returning df with no ID column\n"
     ]
    },
    {
     "name": "stdout",
     "output_type": "stream",
     "text": [
      "\n"
     ]
    }
   ],
   "source": [
    "dados_futuros = modelo.make_future_dataframe(df_formatted, periods=365)\n",
    "previsao_futura = modelo.predict(dados_futuros)\n",
    "\n",
    "previsoes_historicas = modelo.predict(df_formatted)"
   ]
  },
  {
   "cell_type": "code",
   "execution_count": 7,
   "id": "f72aa08e",
   "metadata": {},
   "outputs": [
    {
     "data": {
      "text/html": [
       "<div>\n",
       "<style scoped>\n",
       "    .dataframe tbody tr th:only-of-type {\n",
       "        vertical-align: middle;\n",
       "    }\n",
       "\n",
       "    .dataframe tbody tr th {\n",
       "        vertical-align: top;\n",
       "    }\n",
       "\n",
       "    .dataframe thead th {\n",
       "        text-align: right;\n",
       "    }\n",
       "</style>\n",
       "<table border=\"1\" class=\"dataframe\">\n",
       "  <thead>\n",
       "    <tr style=\"text-align: right;\">\n",
       "      <th></th>\n",
       "      <th>ds</th>\n",
       "      <th>y</th>\n",
       "      <th>yhat1</th>\n",
       "      <th>trend</th>\n",
       "      <th>season_yearly</th>\n",
       "    </tr>\n",
       "  </thead>\n",
       "  <tbody>\n",
       "    <tr>\n",
       "      <th>0</th>\n",
       "      <td>2025-09-13</td>\n",
       "      <td>None</td>\n",
       "      <td>6.055782</td>\n",
       "      <td>6.039128</td>\n",
       "      <td>0.016653</td>\n",
       "    </tr>\n",
       "    <tr>\n",
       "      <th>1</th>\n",
       "      <td>2025-09-14</td>\n",
       "      <td>None</td>\n",
       "      <td>6.063865</td>\n",
       "      <td>6.040434</td>\n",
       "      <td>0.023431</td>\n",
       "    </tr>\n",
       "    <tr>\n",
       "      <th>2</th>\n",
       "      <td>2025-09-15</td>\n",
       "      <td>None</td>\n",
       "      <td>6.071926</td>\n",
       "      <td>6.041738</td>\n",
       "      <td>0.030188</td>\n",
       "    </tr>\n",
       "    <tr>\n",
       "      <th>3</th>\n",
       "      <td>2025-09-16</td>\n",
       "      <td>None</td>\n",
       "      <td>6.079906</td>\n",
       "      <td>6.043042</td>\n",
       "      <td>0.036863</td>\n",
       "    </tr>\n",
       "    <tr>\n",
       "      <th>4</th>\n",
       "      <td>2025-09-17</td>\n",
       "      <td>None</td>\n",
       "      <td>6.087801</td>\n",
       "      <td>6.044345</td>\n",
       "      <td>0.043455</td>\n",
       "    </tr>\n",
       "  </tbody>\n",
       "</table>\n",
       "</div>"
      ],
      "text/plain": [
       "          ds     y     yhat1     trend  season_yearly\n",
       "0 2025-09-13  None  6.055782  6.039128       0.016653\n",
       "1 2025-09-14  None  6.063865  6.040434       0.023431\n",
       "2 2025-09-15  None  6.071926  6.041738       0.030188\n",
       "3 2025-09-16  None  6.079906  6.043042       0.036863\n",
       "4 2025-09-17  None  6.087801  6.044345       0.043455"
      ]
     },
     "execution_count": 7,
     "metadata": {},
     "output_type": "execute_result"
    }
   ],
   "source": [
    "previsao_futura.head()"
   ]
  },
  {
   "cell_type": "code",
   "execution_count": 8,
   "id": "cfce2521",
   "metadata": {},
   "outputs": [
    {
     "name": "stderr",
     "output_type": "stream",
     "text": [
      "ERROR - (NP.plotly.plot_components) - plotly-resampler is not installed. Please install it to use the resampler.\n",
      "WARNING - (py.warnings._showwarnmsg) - /home/operador/Documentos/Estudos/Projetos/ScienceMarket_Original/.venv/lib/python3.12/site-packages/neuralprophet/plot_forecast_plotly.py:283: FutureWarning: Downcasting object dtype arrays on .fillna, .ffill, .bfill is deprecated and will change in a future version. Call result.infer_objects(copy=False) instead. To opt-in to the future behavior, set `pd.set_option('future.no_silent_downcasting', True)`\n",
      "  fcst = fcst.fillna(value=np.nan)\n",
      "\n",
      "WARNING - (py.warnings._showwarnmsg) - /home/operador/Documentos/Estudos/Projetos/ScienceMarket_Original/.venv/lib/python3.12/site-packages/neuralprophet/plot_forecast_plotly.py:410: FutureWarning:\n",
      "\n",
      "The behavior of DatetimeProperties.to_pydatetime is deprecated, in a future version this will return a Series containing python datetime objects instead of an ndarray. To retain the old behavior, call `np.array` on the result\n",
      "\n",
      "\n"
     ]
    },
    {
     "data": {
      "application/vnd.plotly.v1+json": {
       "config": {
        "plotlyServerURL": "https://plot.ly"
       },
       "data": [
        {
         "line": {
          "color": "#2d92ff",
          "width": 2
         },
         "mode": "lines",
         "name": "Trend",
         "showlegend": false,
         "type": "scatter",
         "x": [
          "2025-09-13T00:00:00",
          "2025-09-14T00:00:00",
          "2025-09-15T00:00:00",
          "2025-09-16T00:00:00",
          "2025-09-17T00:00:00",
          "2025-09-18T00:00:00",
          "2025-09-19T00:00:00",
          "2025-09-20T00:00:00",
          "2025-09-21T00:00:00",
          "2025-09-22T00:00:00",
          "2025-09-23T00:00:00",
          "2025-09-24T00:00:00",
          "2025-09-25T00:00:00",
          "2025-09-26T00:00:00",
          "2025-09-27T00:00:00",
          "2025-09-28T00:00:00",
          "2025-09-29T00:00:00",
          "2025-09-30T00:00:00",
          "2025-10-01T00:00:00",
          "2025-10-02T00:00:00",
          "2025-10-03T00:00:00",
          "2025-10-04T00:00:00",
          "2025-10-05T00:00:00",
          "2025-10-06T00:00:00",
          "2025-10-07T00:00:00",
          "2025-10-08T00:00:00",
          "2025-10-09T00:00:00",
          "2025-10-10T00:00:00",
          "2025-10-11T00:00:00",
          "2025-10-12T00:00:00",
          "2025-10-13T00:00:00",
          "2025-10-14T00:00:00",
          "2025-10-15T00:00:00",
          "2025-10-16T00:00:00",
          "2025-10-17T00:00:00",
          "2025-10-18T00:00:00",
          "2025-10-19T00:00:00",
          "2025-10-20T00:00:00",
          "2025-10-21T00:00:00",
          "2025-10-22T00:00:00",
          "2025-10-23T00:00:00",
          "2025-10-24T00:00:00",
          "2025-10-25T00:00:00",
          "2025-10-26T00:00:00",
          "2025-10-27T00:00:00",
          "2025-10-28T00:00:00",
          "2025-10-29T00:00:00",
          "2025-10-30T00:00:00",
          "2025-10-31T00:00:00",
          "2025-11-01T00:00:00",
          "2025-11-02T00:00:00",
          "2025-11-03T00:00:00",
          "2025-11-04T00:00:00",
          "2025-11-05T00:00:00",
          "2025-11-06T00:00:00",
          "2025-11-07T00:00:00",
          "2025-11-08T00:00:00",
          "2025-11-09T00:00:00",
          "2025-11-10T00:00:00",
          "2025-11-11T00:00:00",
          "2025-11-12T00:00:00",
          "2025-11-13T00:00:00",
          "2025-11-14T00:00:00",
          "2025-11-15T00:00:00",
          "2025-11-16T00:00:00",
          "2025-11-17T00:00:00",
          "2025-11-18T00:00:00",
          "2025-11-19T00:00:00",
          "2025-11-20T00:00:00",
          "2025-11-21T00:00:00",
          "2025-11-22T00:00:00",
          "2025-11-23T00:00:00",
          "2025-11-24T00:00:00",
          "2025-11-25T00:00:00",
          "2025-11-26T00:00:00",
          "2025-11-27T00:00:00",
          "2025-11-28T00:00:00",
          "2025-11-29T00:00:00",
          "2025-11-30T00:00:00",
          "2025-12-01T00:00:00",
          "2025-12-02T00:00:00",
          "2025-12-03T00:00:00",
          "2025-12-04T00:00:00",
          "2025-12-05T00:00:00",
          "2025-12-06T00:00:00",
          "2025-12-07T00:00:00",
          "2025-12-08T00:00:00",
          "2025-12-09T00:00:00",
          "2025-12-10T00:00:00",
          "2025-12-11T00:00:00",
          "2025-12-12T00:00:00",
          "2025-12-13T00:00:00",
          "2025-12-14T00:00:00",
          "2025-12-15T00:00:00",
          "2025-12-16T00:00:00",
          "2025-12-17T00:00:00",
          "2025-12-18T00:00:00",
          "2025-12-19T00:00:00",
          "2025-12-20T00:00:00",
          "2025-12-21T00:00:00",
          "2025-12-22T00:00:00",
          "2025-12-23T00:00:00",
          "2025-12-24T00:00:00",
          "2025-12-25T00:00:00",
          "2025-12-26T00:00:00",
          "2025-12-27T00:00:00",
          "2025-12-28T00:00:00",
          "2025-12-29T00:00:00",
          "2025-12-30T00:00:00",
          "2025-12-31T00:00:00",
          "2026-01-01T00:00:00",
          "2026-01-02T00:00:00",
          "2026-01-03T00:00:00",
          "2026-01-04T00:00:00",
          "2026-01-05T00:00:00",
          "2026-01-06T00:00:00",
          "2026-01-07T00:00:00",
          "2026-01-08T00:00:00",
          "2026-01-09T00:00:00",
          "2026-01-10T00:00:00",
          "2026-01-11T00:00:00",
          "2026-01-12T00:00:00",
          "2026-01-13T00:00:00",
          "2026-01-14T00:00:00",
          "2026-01-15T00:00:00",
          "2026-01-16T00:00:00",
          "2026-01-17T00:00:00",
          "2026-01-18T00:00:00",
          "2026-01-19T00:00:00",
          "2026-01-20T00:00:00",
          "2026-01-21T00:00:00",
          "2026-01-22T00:00:00",
          "2026-01-23T00:00:00",
          "2026-01-24T00:00:00",
          "2026-01-25T00:00:00",
          "2026-01-26T00:00:00",
          "2026-01-27T00:00:00",
          "2026-01-28T00:00:00",
          "2026-01-29T00:00:00",
          "2026-01-30T00:00:00",
          "2026-01-31T00:00:00",
          "2026-02-01T00:00:00",
          "2026-02-02T00:00:00",
          "2026-02-03T00:00:00",
          "2026-02-04T00:00:00",
          "2026-02-05T00:00:00",
          "2026-02-06T00:00:00",
          "2026-02-07T00:00:00",
          "2026-02-08T00:00:00",
          "2026-02-09T00:00:00",
          "2026-02-10T00:00:00",
          "2026-02-11T00:00:00",
          "2026-02-12T00:00:00",
          "2026-02-13T00:00:00",
          "2026-02-14T00:00:00",
          "2026-02-15T00:00:00",
          "2026-02-16T00:00:00",
          "2026-02-17T00:00:00",
          "2026-02-18T00:00:00",
          "2026-02-19T00:00:00",
          "2026-02-20T00:00:00",
          "2026-02-21T00:00:00",
          "2026-02-22T00:00:00",
          "2026-02-23T00:00:00",
          "2026-02-24T00:00:00",
          "2026-02-25T00:00:00",
          "2026-02-26T00:00:00",
          "2026-02-27T00:00:00",
          "2026-02-28T00:00:00",
          "2026-03-01T00:00:00",
          "2026-03-02T00:00:00",
          "2026-03-03T00:00:00",
          "2026-03-04T00:00:00",
          "2026-03-05T00:00:00",
          "2026-03-06T00:00:00",
          "2026-03-07T00:00:00",
          "2026-03-08T00:00:00",
          "2026-03-09T00:00:00",
          "2026-03-10T00:00:00",
          "2026-03-11T00:00:00",
          "2026-03-12T00:00:00",
          "2026-03-13T00:00:00",
          "2026-03-14T00:00:00",
          "2026-03-15T00:00:00",
          "2026-03-16T00:00:00",
          "2026-03-17T00:00:00",
          "2026-03-18T00:00:00",
          "2026-03-19T00:00:00",
          "2026-03-20T00:00:00",
          "2026-03-21T00:00:00",
          "2026-03-22T00:00:00",
          "2026-03-23T00:00:00",
          "2026-03-24T00:00:00",
          "2026-03-25T00:00:00",
          "2026-03-26T00:00:00",
          "2026-03-27T00:00:00",
          "2026-03-28T00:00:00",
          "2026-03-29T00:00:00",
          "2026-03-30T00:00:00",
          "2026-03-31T00:00:00",
          "2026-04-01T00:00:00",
          "2026-04-02T00:00:00",
          "2026-04-03T00:00:00",
          "2026-04-04T00:00:00",
          "2026-04-05T00:00:00",
          "2026-04-06T00:00:00",
          "2026-04-07T00:00:00",
          "2026-04-08T00:00:00",
          "2026-04-09T00:00:00",
          "2026-04-10T00:00:00",
          "2026-04-11T00:00:00",
          "2026-04-12T00:00:00",
          "2026-04-13T00:00:00",
          "2026-04-14T00:00:00",
          "2026-04-15T00:00:00",
          "2026-04-16T00:00:00",
          "2026-04-17T00:00:00",
          "2026-04-18T00:00:00",
          "2026-04-19T00:00:00",
          "2026-04-20T00:00:00",
          "2026-04-21T00:00:00",
          "2026-04-22T00:00:00",
          "2026-04-23T00:00:00",
          "2026-04-24T00:00:00",
          "2026-04-25T00:00:00",
          "2026-04-26T00:00:00",
          "2026-04-27T00:00:00",
          "2026-04-28T00:00:00",
          "2026-04-29T00:00:00",
          "2026-04-30T00:00:00",
          "2026-05-01T00:00:00",
          "2026-05-02T00:00:00",
          "2026-05-03T00:00:00",
          "2026-05-04T00:00:00",
          "2026-05-05T00:00:00",
          "2026-05-06T00:00:00",
          "2026-05-07T00:00:00",
          "2026-05-08T00:00:00",
          "2026-05-09T00:00:00",
          "2026-05-10T00:00:00",
          "2026-05-11T00:00:00",
          "2026-05-12T00:00:00",
          "2026-05-13T00:00:00",
          "2026-05-14T00:00:00",
          "2026-05-15T00:00:00",
          "2026-05-16T00:00:00",
          "2026-05-17T00:00:00",
          "2026-05-18T00:00:00",
          "2026-05-19T00:00:00",
          "2026-05-20T00:00:00",
          "2026-05-21T00:00:00",
          "2026-05-22T00:00:00",
          "2026-05-23T00:00:00",
          "2026-05-24T00:00:00",
          "2026-05-25T00:00:00",
          "2026-05-26T00:00:00",
          "2026-05-27T00:00:00",
          "2026-05-28T00:00:00",
          "2026-05-29T00:00:00",
          "2026-05-30T00:00:00",
          "2026-05-31T00:00:00",
          "2026-06-01T00:00:00",
          "2026-06-02T00:00:00",
          "2026-06-03T00:00:00",
          "2026-06-04T00:00:00",
          "2026-06-05T00:00:00",
          "2026-06-06T00:00:00",
          "2026-06-07T00:00:00",
          "2026-06-08T00:00:00",
          "2026-06-09T00:00:00",
          "2026-06-10T00:00:00",
          "2026-06-11T00:00:00",
          "2026-06-12T00:00:00",
          "2026-06-13T00:00:00",
          "2026-06-14T00:00:00",
          "2026-06-15T00:00:00",
          "2026-06-16T00:00:00",
          "2026-06-17T00:00:00",
          "2026-06-18T00:00:00",
          "2026-06-19T00:00:00",
          "2026-06-20T00:00:00",
          "2026-06-21T00:00:00",
          "2026-06-22T00:00:00",
          "2026-06-23T00:00:00",
          "2026-06-24T00:00:00",
          "2026-06-25T00:00:00",
          "2026-06-26T00:00:00",
          "2026-06-27T00:00:00",
          "2026-06-28T00:00:00",
          "2026-06-29T00:00:00",
          "2026-06-30T00:00:00",
          "2026-07-01T00:00:00",
          "2026-07-02T00:00:00",
          "2026-07-03T00:00:00",
          "2026-07-04T00:00:00",
          "2026-07-05T00:00:00",
          "2026-07-06T00:00:00",
          "2026-07-07T00:00:00",
          "2026-07-08T00:00:00",
          "2026-07-09T00:00:00",
          "2026-07-10T00:00:00",
          "2026-07-11T00:00:00",
          "2026-07-12T00:00:00",
          "2026-07-13T00:00:00",
          "2026-07-14T00:00:00",
          "2026-07-15T00:00:00",
          "2026-07-16T00:00:00",
          "2026-07-17T00:00:00",
          "2026-07-18T00:00:00",
          "2026-07-19T00:00:00",
          "2026-07-20T00:00:00",
          "2026-07-21T00:00:00",
          "2026-07-22T00:00:00",
          "2026-07-23T00:00:00",
          "2026-07-24T00:00:00",
          "2026-07-25T00:00:00",
          "2026-07-26T00:00:00",
          "2026-07-27T00:00:00",
          "2026-07-28T00:00:00",
          "2026-07-29T00:00:00",
          "2026-07-30T00:00:00",
          "2026-07-31T00:00:00",
          "2026-08-01T00:00:00",
          "2026-08-02T00:00:00",
          "2026-08-03T00:00:00",
          "2026-08-04T00:00:00",
          "2026-08-05T00:00:00",
          "2026-08-06T00:00:00",
          "2026-08-07T00:00:00",
          "2026-08-08T00:00:00",
          "2026-08-09T00:00:00",
          "2026-08-10T00:00:00",
          "2026-08-11T00:00:00",
          "2026-08-12T00:00:00",
          "2026-08-13T00:00:00",
          "2026-08-14T00:00:00",
          "2026-08-15T00:00:00",
          "2026-08-16T00:00:00",
          "2026-08-17T00:00:00",
          "2026-08-18T00:00:00",
          "2026-08-19T00:00:00",
          "2026-08-20T00:00:00",
          "2026-08-21T00:00:00",
          "2026-08-22T00:00:00",
          "2026-08-23T00:00:00",
          "2026-08-24T00:00:00",
          "2026-08-25T00:00:00",
          "2026-08-26T00:00:00",
          "2026-08-27T00:00:00",
          "2026-08-28T00:00:00",
          "2026-08-29T00:00:00",
          "2026-08-30T00:00:00",
          "2026-08-31T00:00:00",
          "2026-09-01T00:00:00",
          "2026-09-02T00:00:00",
          "2026-09-03T00:00:00",
          "2026-09-04T00:00:00",
          "2026-09-05T00:00:00",
          "2026-09-06T00:00:00",
          "2026-09-07T00:00:00",
          "2026-09-08T00:00:00",
          "2026-09-09T00:00:00",
          "2026-09-10T00:00:00",
          "2026-09-11T00:00:00",
          "2026-09-12T00:00:00"
         ],
         "xaxis": "x",
         "y": [
          6.039128303527832,
          6.040433883666992,
          6.0417375564575195,
          6.043042182922363,
          6.044345378875732,
          6.045650005340576,
          6.04695463180542,
          6.048257827758789,
          6.049561500549316,
          6.050867080688477,
          6.052170753479004,
          6.0534749031066895,
          6.054778575897217,
          6.0560832023620605,
          6.057387828826904,
          6.058691024780273,
          6.059995651245117,
          6.061300277709961,
          6.06260347366333,
          6.063908100128174,
          6.065212726593018,
          6.066515922546387,
          6.0678205490112305,
          6.069124221801758,
          6.070428848266602,
          6.071732997894287,
          6.0730366706848145,
          6.074342250823975,
          6.075645923614502,
          6.076949119567871,
          6.078253746032715,
          6.079558372497559,
          6.080861568450928,
          6.0821661949157715,
          6.083469867706299,
          6.084775447845459,
          6.086078643798828,
          6.0873823165893555,
          6.088686943054199,
          6.089991569519043,
          6.091294765472412,
          6.092599391937256,
          6.093902587890625,
          6.095208644866943,
          6.0965118408203125,
          6.09781551361084,
          6.09912109375,
          6.100424289703369,
          6.1017279624938965,
          6.10303258895874,
          6.104336738586426,
          6.1056413650512695,
          6.106945037841797,
          6.108248233795166,
          6.109553813934326,
          6.1108574867248535,
          6.112160682678223,
          6.113465309143066,
          6.11476993560791,
          6.116074562072754,
          6.117377758026123,
          6.118682384490967,
          6.1199870109558105,
          6.121290683746338,
          6.122593879699707,
          6.123899459838867,
          6.1252031326293945,
          6.126507759094238,
          6.127810955047607,
          6.129115581512451,
          6.130420207977295,
          6.131723403930664,
          6.133027076721191,
          6.134332656860352,
          6.135636329650879,
          6.1369404792785645,
          6.138245105743408,
          6.1395487785339355,
          6.140853404998779,
          6.142156600952148,
          6.143461227416992,
          6.144765853881836,
          6.146069049835205,
          6.147373676300049,
          6.148678302764893,
          6.149981498718262,
          6.1512861251831055,
          6.152589797973633,
          6.153894424438477,
          6.155198574066162,
          6.1565022468566895,
          6.15780782699585,
          6.159111499786377,
          6.160414695739746,
          6.16171932220459,
          6.163023948669434,
          6.164327144622803,
          6.1656317710876465,
          6.166935443878174,
          6.168241024017334,
          6.169544219970703,
          6.1708478927612305,
          6.172153472900391,
          6.173457145690918,
          6.174760341644287,
          6.176064968109131,
          6.177369594573975,
          6.178674221038818,
          6.1799774169921875,
          6.181281089782715,
          6.182586669921875,
          6.183889865875244,
          6.1851935386657715,
          6.186498165130615,
          6.187802314758301,
          6.1891069412231445,
          6.190410614013672,
          6.191713809967041,
          6.193019390106201,
          6.1943230628967285,
          6.195626258850098,
          6.196932315826416,
          6.198235511779785,
          6.199540138244629,
          6.200843334197998,
          6.202147960662842,
          6.2034525871276855,
          6.204756259918213,
          6.206059455871582,
          6.207365036010742,
          6.2086687088012695,
          6.209973335266113,
          6.211276531219482,
          6.212581157684326,
          6.21388578414917,
          6.215188980102539,
          6.216493606567383,
          6.217798233032227,
          6.219101905822754,
          6.2204060554504395,
          6.221710681915283,
          6.2230143547058105,
          6.224318981170654,
          6.225622177124023,
          6.226926803588867,
          6.228231430053711,
          6.22953462600708,
          6.23084020614624,
          6.232143878936768,
          6.233447074890137,
          6.2347517013549805,
          6.236056327819824,
          6.237360000610352,
          6.238664150238037,
          6.2399678230285645,
          6.241273403167725,
          6.242577075958252,
          6.243880271911621,
          6.245184898376465,
          6.246489524841309,
          6.247792720794678,
          6.2490973472595215,
          6.250401020050049,
          6.251706600189209,
          6.253009796142578,
          6.2543134689331055,
          6.255619049072266,
          6.256922721862793,
          6.258225917816162,
          6.259530544281006,
          6.26083517074585,
          6.262139797210693,
          6.2634429931640625,
          6.26474666595459,
          6.26605224609375,
          6.267355442047119,
          6.2686591148376465,
          6.26996374130249,
          6.271267890930176,
          6.2725725173950195,
          6.273876190185547,
          6.275180816650391,
          6.276484966278076,
          6.2777886390686035,
          6.279091835021973,
          6.280397891998291,
          6.28170108795166,
          6.283005714416504,
          6.284308910369873,
          6.285613536834717,
          6.2869181632995605,
          6.288221836090088,
          6.289525032043457,
          6.290830612182617,
          6.2921342849731445,
          6.293438911437988,
          6.294743537902832,
          6.296046733856201,
          6.297351360321045,
          6.298654556274414,
          6.299959182739258,
          6.301263809204102,
          6.302567481994629,
          6.3038716316223145,
          6.305176258087158,
          6.3064799308776855,
          6.307784557342529,
          6.309087753295898,
          6.310392379760742,
          6.311697006225586,
          6.313000202178955,
          6.314305782318115,
          6.315609455108643,
          6.316912651062012,
          6.3182172775268555,
          6.319521903991699,
          6.320825576782227,
          6.322129726409912,
          6.3234333992004395,
          6.3247389793396,
          6.326042652130127,
          6.327345848083496,
          6.328651428222656,
          6.329955101013184,
          6.331258296966553,
          6.3325629234313965,
          6.33386754989624,
          6.335172176361084,
          6.336475372314453,
          6.3377790451049805,
          6.339084625244141,
          6.340388298034668,
          6.341691493988037,
          6.342996120452881,
          6.344300746917725,
          6.345605373382568,
          6.3469085693359375,
          6.348212242126465,
          6.349517822265625,
          6.350821018218994,
          6.3521246910095215,
          6.353430271148682,
          6.354733467102051,
          6.3560380935668945,
          6.357341766357422,
          6.358646392822266,
          6.359950542449951,
          6.3612542152404785,
          6.362557411193848,
          6.363863468170166,
          6.365166664123535,
          6.366471290588379,
          6.367774486541748,
          6.369079113006592,
          6.3703837394714355,
          6.371687412261963,
          6.372991561889648,
          6.374296188354492,
          6.3755998611450195,
          6.376904487609863,
          6.378209114074707,
          6.379512310028076,
          6.38081693649292,
          6.382120132446289,
          6.383424758911133,
          6.384729385375977,
          6.386033058166504,
          6.387338638305664,
          6.388641834259033,
          6.3899455070495605,
          6.391250133514404,
          6.39255428314209,
          6.393857955932617,
          6.395162582397461,
          6.39646577835083,
          6.39777135848999,
          6.399075031280518,
          6.400378227233887,
          6.4016828536987305,
          6.402987480163574,
          6.404291152954102,
          6.405595302581787,
          6.4068989753723145,
          6.408204555511475,
          6.409508228302002,
          6.410811424255371,
          6.412117004394531,
          6.413420677185059,
          6.414723873138428,
          6.4160284996032715,
          6.417333126068115,
          6.418637752532959,
          6.419940948486328,
          6.4212446212768555,
          6.422550201416016,
          6.423853874206543,
          6.425157070159912,
          6.426462650299072,
          6.4277663230896,
          6.429070949554443,
          6.4303741455078125,
          6.431678771972656,
          6.4329833984375,
          6.434286594390869,
          6.4355902671813965,
          6.436895847320557,
          6.438199043273926,
          6.4395036697387695,
          6.440807342529297,
          6.442111968994141,
          6.443416118621826,
          6.4447197914123535,
          6.446022987365723,
          6.447329044342041,
          6.44863224029541,
          6.449936866760254,
          6.451241493225098,
          6.452544689178467,
          6.4538493156433105,
          6.455152988433838,
          6.456457138061523,
          6.457761764526367,
          6.4590654373168945,
          6.460370063781738,
          6.461674690246582,
          6.462977886199951,
          6.464282512664795,
          6.465585708618164,
          6.466890335083008,
          6.468194961547852,
          6.469498634338379,
          6.470804214477539,
          6.472107410430908,
          6.4734110832214355,
          6.474715709686279,
          6.476019859313965,
          6.477323532104492,
          6.478628158569336,
          6.479931354522705,
          6.481236934661865,
          6.482540607452393,
          6.483843803405762,
          6.48514986038208,
          6.486453056335449,
          6.487756729125977,
          6.489060878753662,
          6.490365505218506,
          6.49167013168335,
          6.492973804473877,
          6.494277000427246,
          6.495582580566406,
          6.496886253356934,
          6.498189449310303,
          6.4994940757751465,
          6.50079870223999,
          6.502103328704834,
          6.503406524658203,
          6.5047101974487305,
          6.506015777587891,
          6.507319450378418,
          6.508622646331787,
          6.509928226470947,
          6.511231899261475,
          6.512536525726318,
          6.5138397216796875
         ],
         "yaxis": "y"
        },
        {
         "line": {
          "color": "#2d92ff",
          "width": 2
         },
         "mode": "lines",
         "name": "yearly seasonality",
         "showlegend": false,
         "type": "scatter",
         "x": [
          "2025-09-13T00:00:00",
          "2025-09-14T00:00:00",
          "2025-09-15T00:00:00",
          "2025-09-16T00:00:00",
          "2025-09-17T00:00:00",
          "2025-09-18T00:00:00",
          "2025-09-19T00:00:00",
          "2025-09-20T00:00:00",
          "2025-09-21T00:00:00",
          "2025-09-22T00:00:00",
          "2025-09-23T00:00:00",
          "2025-09-24T00:00:00",
          "2025-09-25T00:00:00",
          "2025-09-26T00:00:00",
          "2025-09-27T00:00:00",
          "2025-09-28T00:00:00",
          "2025-09-29T00:00:00",
          "2025-09-30T00:00:00",
          "2025-10-01T00:00:00",
          "2025-10-02T00:00:00",
          "2025-10-03T00:00:00",
          "2025-10-04T00:00:00",
          "2025-10-05T00:00:00",
          "2025-10-06T00:00:00",
          "2025-10-07T00:00:00",
          "2025-10-08T00:00:00",
          "2025-10-09T00:00:00",
          "2025-10-10T00:00:00",
          "2025-10-11T00:00:00",
          "2025-10-12T00:00:00",
          "2025-10-13T00:00:00",
          "2025-10-14T00:00:00",
          "2025-10-15T00:00:00",
          "2025-10-16T00:00:00",
          "2025-10-17T00:00:00",
          "2025-10-18T00:00:00",
          "2025-10-19T00:00:00",
          "2025-10-20T00:00:00",
          "2025-10-21T00:00:00",
          "2025-10-22T00:00:00",
          "2025-10-23T00:00:00",
          "2025-10-24T00:00:00",
          "2025-10-25T00:00:00",
          "2025-10-26T00:00:00",
          "2025-10-27T00:00:00",
          "2025-10-28T00:00:00",
          "2025-10-29T00:00:00",
          "2025-10-30T00:00:00",
          "2025-10-31T00:00:00",
          "2025-11-01T00:00:00",
          "2025-11-02T00:00:00",
          "2025-11-03T00:00:00",
          "2025-11-04T00:00:00",
          "2025-11-05T00:00:00",
          "2025-11-06T00:00:00",
          "2025-11-07T00:00:00",
          "2025-11-08T00:00:00",
          "2025-11-09T00:00:00",
          "2025-11-10T00:00:00",
          "2025-11-11T00:00:00",
          "2025-11-12T00:00:00",
          "2025-11-13T00:00:00",
          "2025-11-14T00:00:00",
          "2025-11-15T00:00:00",
          "2025-11-16T00:00:00",
          "2025-11-17T00:00:00",
          "2025-11-18T00:00:00",
          "2025-11-19T00:00:00",
          "2025-11-20T00:00:00",
          "2025-11-21T00:00:00",
          "2025-11-22T00:00:00",
          "2025-11-23T00:00:00",
          "2025-11-24T00:00:00",
          "2025-11-25T00:00:00",
          "2025-11-26T00:00:00",
          "2025-11-27T00:00:00",
          "2025-11-28T00:00:00",
          "2025-11-29T00:00:00",
          "2025-11-30T00:00:00",
          "2025-12-01T00:00:00",
          "2025-12-02T00:00:00",
          "2025-12-03T00:00:00",
          "2025-12-04T00:00:00",
          "2025-12-05T00:00:00",
          "2025-12-06T00:00:00",
          "2025-12-07T00:00:00",
          "2025-12-08T00:00:00",
          "2025-12-09T00:00:00",
          "2025-12-10T00:00:00",
          "2025-12-11T00:00:00",
          "2025-12-12T00:00:00",
          "2025-12-13T00:00:00",
          "2025-12-14T00:00:00",
          "2025-12-15T00:00:00",
          "2025-12-16T00:00:00",
          "2025-12-17T00:00:00",
          "2025-12-18T00:00:00",
          "2025-12-19T00:00:00",
          "2025-12-20T00:00:00",
          "2025-12-21T00:00:00",
          "2025-12-22T00:00:00",
          "2025-12-23T00:00:00",
          "2025-12-24T00:00:00",
          "2025-12-25T00:00:00",
          "2025-12-26T00:00:00",
          "2025-12-27T00:00:00",
          "2025-12-28T00:00:00",
          "2025-12-29T00:00:00",
          "2025-12-30T00:00:00",
          "2025-12-31T00:00:00",
          "2026-01-01T00:00:00",
          "2026-01-02T00:00:00",
          "2026-01-03T00:00:00",
          "2026-01-04T00:00:00",
          "2026-01-05T00:00:00",
          "2026-01-06T00:00:00",
          "2026-01-07T00:00:00",
          "2026-01-08T00:00:00",
          "2026-01-09T00:00:00",
          "2026-01-10T00:00:00",
          "2026-01-11T00:00:00",
          "2026-01-12T00:00:00",
          "2026-01-13T00:00:00",
          "2026-01-14T00:00:00",
          "2026-01-15T00:00:00",
          "2026-01-16T00:00:00",
          "2026-01-17T00:00:00",
          "2026-01-18T00:00:00",
          "2026-01-19T00:00:00",
          "2026-01-20T00:00:00",
          "2026-01-21T00:00:00",
          "2026-01-22T00:00:00",
          "2026-01-23T00:00:00",
          "2026-01-24T00:00:00",
          "2026-01-25T00:00:00",
          "2026-01-26T00:00:00",
          "2026-01-27T00:00:00",
          "2026-01-28T00:00:00",
          "2026-01-29T00:00:00",
          "2026-01-30T00:00:00",
          "2026-01-31T00:00:00",
          "2026-02-01T00:00:00",
          "2026-02-02T00:00:00",
          "2026-02-03T00:00:00",
          "2026-02-04T00:00:00",
          "2026-02-05T00:00:00",
          "2026-02-06T00:00:00",
          "2026-02-07T00:00:00",
          "2026-02-08T00:00:00",
          "2026-02-09T00:00:00",
          "2026-02-10T00:00:00",
          "2026-02-11T00:00:00",
          "2026-02-12T00:00:00",
          "2026-02-13T00:00:00",
          "2026-02-14T00:00:00",
          "2026-02-15T00:00:00",
          "2026-02-16T00:00:00",
          "2026-02-17T00:00:00",
          "2026-02-18T00:00:00",
          "2026-02-19T00:00:00",
          "2026-02-20T00:00:00",
          "2026-02-21T00:00:00",
          "2026-02-22T00:00:00",
          "2026-02-23T00:00:00",
          "2026-02-24T00:00:00",
          "2026-02-25T00:00:00",
          "2026-02-26T00:00:00",
          "2026-02-27T00:00:00",
          "2026-02-28T00:00:00",
          "2026-03-01T00:00:00",
          "2026-03-02T00:00:00",
          "2026-03-03T00:00:00",
          "2026-03-04T00:00:00",
          "2026-03-05T00:00:00",
          "2026-03-06T00:00:00",
          "2026-03-07T00:00:00",
          "2026-03-08T00:00:00",
          "2026-03-09T00:00:00",
          "2026-03-10T00:00:00",
          "2026-03-11T00:00:00",
          "2026-03-12T00:00:00",
          "2026-03-13T00:00:00",
          "2026-03-14T00:00:00",
          "2026-03-15T00:00:00",
          "2026-03-16T00:00:00",
          "2026-03-17T00:00:00",
          "2026-03-18T00:00:00",
          "2026-03-19T00:00:00",
          "2026-03-20T00:00:00",
          "2026-03-21T00:00:00",
          "2026-03-22T00:00:00",
          "2026-03-23T00:00:00",
          "2026-03-24T00:00:00",
          "2026-03-25T00:00:00",
          "2026-03-26T00:00:00",
          "2026-03-27T00:00:00",
          "2026-03-28T00:00:00",
          "2026-03-29T00:00:00",
          "2026-03-30T00:00:00",
          "2026-03-31T00:00:00",
          "2026-04-01T00:00:00",
          "2026-04-02T00:00:00",
          "2026-04-03T00:00:00",
          "2026-04-04T00:00:00",
          "2026-04-05T00:00:00",
          "2026-04-06T00:00:00",
          "2026-04-07T00:00:00",
          "2026-04-08T00:00:00",
          "2026-04-09T00:00:00",
          "2026-04-10T00:00:00",
          "2026-04-11T00:00:00",
          "2026-04-12T00:00:00",
          "2026-04-13T00:00:00",
          "2026-04-14T00:00:00",
          "2026-04-15T00:00:00",
          "2026-04-16T00:00:00",
          "2026-04-17T00:00:00",
          "2026-04-18T00:00:00",
          "2026-04-19T00:00:00",
          "2026-04-20T00:00:00",
          "2026-04-21T00:00:00",
          "2026-04-22T00:00:00",
          "2026-04-23T00:00:00",
          "2026-04-24T00:00:00",
          "2026-04-25T00:00:00",
          "2026-04-26T00:00:00",
          "2026-04-27T00:00:00",
          "2026-04-28T00:00:00",
          "2026-04-29T00:00:00",
          "2026-04-30T00:00:00",
          "2026-05-01T00:00:00",
          "2026-05-02T00:00:00",
          "2026-05-03T00:00:00",
          "2026-05-04T00:00:00",
          "2026-05-05T00:00:00",
          "2026-05-06T00:00:00",
          "2026-05-07T00:00:00",
          "2026-05-08T00:00:00",
          "2026-05-09T00:00:00",
          "2026-05-10T00:00:00",
          "2026-05-11T00:00:00",
          "2026-05-12T00:00:00",
          "2026-05-13T00:00:00",
          "2026-05-14T00:00:00",
          "2026-05-15T00:00:00",
          "2026-05-16T00:00:00",
          "2026-05-17T00:00:00",
          "2026-05-18T00:00:00",
          "2026-05-19T00:00:00",
          "2026-05-20T00:00:00",
          "2026-05-21T00:00:00",
          "2026-05-22T00:00:00",
          "2026-05-23T00:00:00",
          "2026-05-24T00:00:00",
          "2026-05-25T00:00:00",
          "2026-05-26T00:00:00",
          "2026-05-27T00:00:00",
          "2026-05-28T00:00:00",
          "2026-05-29T00:00:00",
          "2026-05-30T00:00:00",
          "2026-05-31T00:00:00",
          "2026-06-01T00:00:00",
          "2026-06-02T00:00:00",
          "2026-06-03T00:00:00",
          "2026-06-04T00:00:00",
          "2026-06-05T00:00:00",
          "2026-06-06T00:00:00",
          "2026-06-07T00:00:00",
          "2026-06-08T00:00:00",
          "2026-06-09T00:00:00",
          "2026-06-10T00:00:00",
          "2026-06-11T00:00:00",
          "2026-06-12T00:00:00",
          "2026-06-13T00:00:00",
          "2026-06-14T00:00:00",
          "2026-06-15T00:00:00",
          "2026-06-16T00:00:00",
          "2026-06-17T00:00:00",
          "2026-06-18T00:00:00",
          "2026-06-19T00:00:00",
          "2026-06-20T00:00:00",
          "2026-06-21T00:00:00",
          "2026-06-22T00:00:00",
          "2026-06-23T00:00:00",
          "2026-06-24T00:00:00",
          "2026-06-25T00:00:00",
          "2026-06-26T00:00:00",
          "2026-06-27T00:00:00",
          "2026-06-28T00:00:00",
          "2026-06-29T00:00:00",
          "2026-06-30T00:00:00",
          "2026-07-01T00:00:00",
          "2026-07-02T00:00:00",
          "2026-07-03T00:00:00",
          "2026-07-04T00:00:00",
          "2026-07-05T00:00:00",
          "2026-07-06T00:00:00",
          "2026-07-07T00:00:00",
          "2026-07-08T00:00:00",
          "2026-07-09T00:00:00",
          "2026-07-10T00:00:00",
          "2026-07-11T00:00:00",
          "2026-07-12T00:00:00",
          "2026-07-13T00:00:00",
          "2026-07-14T00:00:00",
          "2026-07-15T00:00:00",
          "2026-07-16T00:00:00",
          "2026-07-17T00:00:00",
          "2026-07-18T00:00:00",
          "2026-07-19T00:00:00",
          "2026-07-20T00:00:00",
          "2026-07-21T00:00:00",
          "2026-07-22T00:00:00",
          "2026-07-23T00:00:00",
          "2026-07-24T00:00:00",
          "2026-07-25T00:00:00",
          "2026-07-26T00:00:00",
          "2026-07-27T00:00:00",
          "2026-07-28T00:00:00",
          "2026-07-29T00:00:00",
          "2026-07-30T00:00:00",
          "2026-07-31T00:00:00",
          "2026-08-01T00:00:00",
          "2026-08-02T00:00:00",
          "2026-08-03T00:00:00",
          "2026-08-04T00:00:00",
          "2026-08-05T00:00:00",
          "2026-08-06T00:00:00",
          "2026-08-07T00:00:00",
          "2026-08-08T00:00:00",
          "2026-08-09T00:00:00",
          "2026-08-10T00:00:00",
          "2026-08-11T00:00:00",
          "2026-08-12T00:00:00",
          "2026-08-13T00:00:00",
          "2026-08-14T00:00:00",
          "2026-08-15T00:00:00",
          "2026-08-16T00:00:00",
          "2026-08-17T00:00:00",
          "2026-08-18T00:00:00",
          "2026-08-19T00:00:00",
          "2026-08-20T00:00:00",
          "2026-08-21T00:00:00",
          "2026-08-22T00:00:00",
          "2026-08-23T00:00:00",
          "2026-08-24T00:00:00",
          "2026-08-25T00:00:00",
          "2026-08-26T00:00:00",
          "2026-08-27T00:00:00",
          "2026-08-28T00:00:00",
          "2026-08-29T00:00:00",
          "2026-08-30T00:00:00",
          "2026-08-31T00:00:00",
          "2026-09-01T00:00:00",
          "2026-09-02T00:00:00",
          "2026-09-03T00:00:00",
          "2026-09-04T00:00:00",
          "2026-09-05T00:00:00",
          "2026-09-06T00:00:00",
          "2026-09-07T00:00:00",
          "2026-09-08T00:00:00",
          "2026-09-09T00:00:00",
          "2026-09-10T00:00:00",
          "2026-09-11T00:00:00",
          "2026-09-12T00:00:00"
         ],
         "xaxis": "x2",
         "y": [
          0.016653146594762802,
          0.02343085967004299,
          0.030188001692295074,
          0.03686346113681793,
          0.043455272912979126,
          0.04993152990937233,
          0.05628315359354019,
          0.062491632997989655,
          0.06852032244205475,
          0.07436632364988327,
          0.08002246916294098,
          0.08546112477779388,
          0.09066300094127655,
          0.09563849866390228,
          0.10037034004926682,
          0.10483157634735107,
          0.10904617607593536,
          0.11299309879541397,
          0.11667930334806442,
          0.12008398771286011,
          0.12322957068681717,
          0.12608957290649414,
          0.12869882583618164,
          0.13104018568992615,
          0.13311995565891266,
          0.1349487602710724,
          0.13652563095092773,
          0.13787253201007843,
          0.13897868990898132,
          0.139867901802063,
          0.14053918421268463,
          0.14100943505764008,
          0.14128603041172028,
          0.14137911796569824,
          0.1413007378578186,
          0.14106616377830505,
          0.14067581295967102,
          0.1401444971561432,
          0.1394931823015213,
          0.1387210488319397,
          0.13784284889698029,
          0.13687177002429962,
          0.13581883907318115,
          0.13468722999095917,
          0.1334993988275528,
          0.13225531578063965,
          0.13096566498279572,
          0.1296490728855133,
          0.12830521166324615,
          0.12694783508777618,
          0.12558287382125854,
          0.12422093749046326,
          0.12286976724863052,
          0.12154164165258408,
          0.12023565173149109,
          0.11896055936813354,
          0.11773333698511124,
          0.11654999107122421,
          0.11542310565710068,
          0.11435457319021225,
          0.11335199326276779,
          0.11242230236530304,
          0.11157231032848358,
          0.11080092936754227,
          0.11011678725481033,
          0.10952378809452057,
          0.10902729630470276,
          0.1086253672838211,
          0.1083245649933815,
          0.10812808573246002,
          0.10803117603063583,
          0.10804082453250885,
          0.10815689712762833,
          0.10837485641241074,
          0.1086966022849083,
          0.10911929607391357,
          0.10963848978281021,
          0.11025559157133102,
          0.11096204817295074,
          0.11174828559160233,
          0.11261498183012009,
          0.11355479061603546,
          0.11454955488443375,
          0.11560355126857758,
          0.11670581251382828,
          0.1178293526172638,
          0.11898171156644821,
          0.12014152854681015,
          0.12129397690296173,
          0.1224323958158493,
          0.12353621423244476,
          0.1245899572968483,
          0.12558406591415405,
          0.12649492919445038,
          0.12731480598449707,
          0.12802031636238098,
          0.12860046327114105,
          0.1290365755558014,
          0.12931248545646667,
          0.12941397726535797,
          0.12932561337947845,
          0.12903207540512085,
          0.1285264641046524,
          0.12778142094612122,
          0.12679816782474518,
          0.12556524574756622,
          0.12406802922487259,
          0.12229882180690765,
          0.12026388943195343,
          0.11794076859951019,
          0.11533469706773758,
          0.11244316399097443,
          0.10927184671163559,
          0.10581552237272263,
          0.10208984464406967,
          0.09808476269245148,
          0.09381966292858124,
          0.08931117504835129,
          0.08455553650856018,
          0.07957836240530014,
          0.0743887796998024,
          0.06901350617408752,
          0.0634656623005867,
          0.05776197090744972,
          0.05193808674812317,
          0.04600849747657776,
          0.039996370673179626,
          0.03392447531223297,
          0.02783540077507496,
          0.02174193784594536,
          0.015677109360694885,
          0.009665990248322487,
          0.003738908562809229,
          -0.002075638622045517,
          -0.007758156396448612,
          -0.01327721681445837,
          -0.01860167272388935,
          -0.023711098358035088,
          -0.028588512912392616,
          -0.03320056200027466,
          -0.03753996267914772,
          -0.04157528653740883,
          -0.0453004390001297,
          -0.0486932136118412,
          -0.05174393579363823,
          -0.05445127189159393,
          -0.05679033324122429,
          -0.05877164751291275,
          -0.06039028614759445,
          -0.06163642555475235,
          -0.06251829117536545,
          -0.06305316090583801,
          -0.06323054432868958,
          -0.06305982917547226,
          -0.06257688254117966,
          -0.06177092343568802,
          -0.060674384236335754,
          -0.05929916352033615,
          -0.05766776204109192,
          -0.055799905210733414,
          -0.05372707173228264,
          -0.051466140896081924,
          -0.04904825612902641,
          -0.046500105410814285,
          -0.04384518042206764,
          -0.04111745208501816,
          -0.038337066769599915,
          -0.035541437566280365,
          -0.032749660313129425,
          -0.029993915930390358,
          -0.027300266548991203,
          -0.02468557469546795,
          -0.022184157744050026,
          -0.01981288380920887,
          -0.017591120675206184,
          -0.015542647801339626,
          -0.013676191680133343,
          -0.012008680030703545,
          -0.010557698085904121,
          -0.009328952059149742,
          -0.008324583992362022,
          -0.007556580007076263,
          -0.007028104271739721,
          -0.00672985939309001,
          -0.00666884146630764,
          -0.0068379417061805725,
          -0.00722115021198988,
          -0.007821713574230671,
          -0.008614822290837765,
          -0.009594895876944065,
          -0.01074485294520855,
          -0.012048281729221344,
          -0.013478627428412437,
          -0.015025107190012932,
          -0.016665464267134666,
          -0.018365580588579178,
          -0.020120440050959587,
          -0.021897492930293083,
          -0.023671559989452362,
          -0.02542741596698761,
          -0.027141233906149864,
          -0.028781315311789513,
          -0.03033985011279583,
          -0.03178943693637848,
          -0.03311806917190552,
          -0.03430349752306938,
          -0.0353330634534359,
          -0.036194659769535065,
          -0.036875296384096146,
          -0.037369534373283386,
          -0.037667304277420044,
          -0.037767793983221054,
          -0.03766974061727524,
          -0.03737299144268036,
          -0.036879584193229675,
          -0.03620138019323349,
          -0.03534190356731415,
          -0.03431170806288719,
          -0.033136457204818726,
          -0.031812604516744614,
          -0.030370358377695084,
          -0.028830023482441902,
          -0.027209671214222908,
          -0.02552260272204876,
          -0.02381717599928379,
          -0.022097695618867874,
          -0.020397476851940155,
          -0.018746133893728256,
          -0.017165090888738632,
          -0.015684466809034348,
          -0.014333436265587807,
          -0.013130647130310535,
          -0.012116883881390095,
          -0.011300706304609776,
          -0.01070978119969368,
          -0.010372897610068321,
          -0.010302308015525341,
          -0.010514249093830585,
          -0.0110361622646451,
          -0.011868558824062347,
          -0.013036470860242844,
          -0.014533047564327717,
          -0.0163713488727808,
          -0.018549885600805283,
          -0.02107543684542179,
          -0.023939980193972588,
          -0.027131643146276474,
          -0.0306541845202446,
          -0.034480053931474686,
          -0.038611944764852524,
          -0.04301294684410095,
          -0.04767286404967308,
          -0.05257130041718483,
          -0.05767204985022545,
          -0.06296063214540482,
          -0.06839894503355026,
          -0.07395388931035995,
          -0.0796056017279625,
          -0.08531318604946136,
          -0.09103699773550034,
          -0.09674834460020065,
          -0.10241299867630005,
          -0.10799690335988998,
          -0.11346499621868134,
          -0.11877316981554031,
          -0.12390259653329849,
          -0.1288221776485443,
          -0.13348600268363953,
          -0.13788187503814697,
          -0.14197754859924316,
          -0.14574235677719116,
          -0.14916659891605377,
          -0.15222543478012085,
          -0.1548982560634613,
          -0.15718165040016174,
          -0.15905748307704926,
          -0.16052016615867615,
          -0.16156858205795288,
          -0.16220057010650635,
          -0.1624172180891037,
          -0.16222664713859558,
          -0.1616358906030655,
          -0.1606605350971222,
          -0.1593106985092163,
          -0.1576063632965088,
          -0.15556852519512177,
          -0.15321849286556244,
          -0.1505858153104782,
          -0.14769460260868073,
          -0.14457125961780548,
          -0.14124789834022522,
          -0.13775967061519623,
          -0.1341322511434555,
          -0.13040603697299957,
          -0.1266123652458191,
          -0.12277667224407196,
          -0.11895110458135605,
          -0.11515052616596222,
          -0.11141373962163925,
          -0.10777958482503891,
          -0.10426296293735504,
          -0.10090014338493347,
          -0.09772046655416489,
          -0.09474248439073563,
          -0.09198686480522156,
          -0.08948013931512833,
          -0.08723126351833344,
          -0.08525671809911728,
          -0.08357245475053787,
          -0.08217882364988327,
          -0.08108444511890411,
          -0.08029438555240631,
          -0.07979866862297058,
          -0.07959955185651779,
          -0.07969143241643906,
          -0.08005939424037933,
          -0.08069070428609848,
          -0.0815737396478653,
          -0.08268682658672333,
          -0.08401086181402206,
          -0.08552035689353943,
          -0.0871955156326294,
          -0.08900586515665054,
          -0.09092584252357483,
          -0.09292489290237427,
          -0.09496858716011047,
          -0.09703380614519119,
          -0.09908591955900192,
          -0.10108862817287445,
          -0.1030164286494255,
          -0.10483597964048386,
          -0.10651205480098724,
          -0.10802340507507324,
          -0.10933225601911545,
          -0.1104123592376709,
          -0.11124879866838455,
          -0.11180827766656876,
          -0.11205954104661942,
          -0.11199672520160675,
          -0.11160437762737274,
          -0.11085019260644913,
          -0.10973401367664337,
          -0.10824436694383621,
          -0.10637055337429047,
          -0.10410565882921219,
          -0.10144639760255814,
          -0.09840846806764603,
          -0.09497266262769699,
          -0.09115888178348541,
          -0.0869583860039711,
          -0.08240822702646255,
          -0.0775015652179718,
          -0.0722646713256836,
          -0.06670082360506058,
          -0.06083676964044571,
          -0.05470328405499458,
          -0.0483071468770504,
          -0.0416773296892643,
          -0.03484106808900833,
          -0.027829304337501526,
          -0.020658506080508232,
          -0.013367814011871815,
          -0.005968581885099411,
          0.001498672179877758,
          0.009001270867884159
         ],
         "yaxis": "y2"
        }
       ],
       "layout": {
        "autosize": true,
        "font": {
         "size": 10
        },
        "height": 420,
        "hovermode": "x unified",
        "legend": {
         "traceorder": "reversed",
         "y": 0.1
        },
        "margin": {
         "b": 0,
         "l": 0,
         "pad": 0,
         "r": 10,
         "t": 10
        },
        "template": {
         "data": {
          "bar": [
           {
            "error_x": {
             "color": "#2a3f5f"
            },
            "error_y": {
             "color": "#2a3f5f"
            },
            "marker": {
             "line": {
              "color": "white",
              "width": 0.5
             },
             "pattern": {
              "fillmode": "overlay",
              "size": 10,
              "solidity": 0.2
             }
            },
            "type": "bar"
           }
          ],
          "barpolar": [
           {
            "marker": {
             "line": {
              "color": "white",
              "width": 0.5
             },
             "pattern": {
              "fillmode": "overlay",
              "size": 10,
              "solidity": 0.2
             }
            },
            "type": "barpolar"
           }
          ],
          "carpet": [
           {
            "aaxis": {
             "endlinecolor": "#2a3f5f",
             "gridcolor": "#C8D4E3",
             "linecolor": "#C8D4E3",
             "minorgridcolor": "#C8D4E3",
             "startlinecolor": "#2a3f5f"
            },
            "baxis": {
             "endlinecolor": "#2a3f5f",
             "gridcolor": "#C8D4E3",
             "linecolor": "#C8D4E3",
             "minorgridcolor": "#C8D4E3",
             "startlinecolor": "#2a3f5f"
            },
            "type": "carpet"
           }
          ],
          "choropleth": [
           {
            "colorbar": {
             "outlinewidth": 0,
             "ticks": ""
            },
            "type": "choropleth"
           }
          ],
          "contour": [
           {
            "colorbar": {
             "outlinewidth": 0,
             "ticks": ""
            },
            "colorscale": [
             [
              0,
              "#0d0887"
             ],
             [
              0.1111111111111111,
              "#46039f"
             ],
             [
              0.2222222222222222,
              "#7201a8"
             ],
             [
              0.3333333333333333,
              "#9c179e"
             ],
             [
              0.4444444444444444,
              "#bd3786"
             ],
             [
              0.5555555555555556,
              "#d8576b"
             ],
             [
              0.6666666666666666,
              "#ed7953"
             ],
             [
              0.7777777777777778,
              "#fb9f3a"
             ],
             [
              0.8888888888888888,
              "#fdca26"
             ],
             [
              1,
              "#f0f921"
             ]
            ],
            "type": "contour"
           }
          ],
          "contourcarpet": [
           {
            "colorbar": {
             "outlinewidth": 0,
             "ticks": ""
            },
            "type": "contourcarpet"
           }
          ],
          "heatmap": [
           {
            "colorbar": {
             "outlinewidth": 0,
             "ticks": ""
            },
            "colorscale": [
             [
              0,
              "#0d0887"
             ],
             [
              0.1111111111111111,
              "#46039f"
             ],
             [
              0.2222222222222222,
              "#7201a8"
             ],
             [
              0.3333333333333333,
              "#9c179e"
             ],
             [
              0.4444444444444444,
              "#bd3786"
             ],
             [
              0.5555555555555556,
              "#d8576b"
             ],
             [
              0.6666666666666666,
              "#ed7953"
             ],
             [
              0.7777777777777778,
              "#fb9f3a"
             ],
             [
              0.8888888888888888,
              "#fdca26"
             ],
             [
              1,
              "#f0f921"
             ]
            ],
            "type": "heatmap"
           }
          ],
          "heatmapgl": [
           {
            "colorbar": {
             "outlinewidth": 0,
             "ticks": ""
            },
            "colorscale": [
             [
              0,
              "#0d0887"
             ],
             [
              0.1111111111111111,
              "#46039f"
             ],
             [
              0.2222222222222222,
              "#7201a8"
             ],
             [
              0.3333333333333333,
              "#9c179e"
             ],
             [
              0.4444444444444444,
              "#bd3786"
             ],
             [
              0.5555555555555556,
              "#d8576b"
             ],
             [
              0.6666666666666666,
              "#ed7953"
             ],
             [
              0.7777777777777778,
              "#fb9f3a"
             ],
             [
              0.8888888888888888,
              "#fdca26"
             ],
             [
              1,
              "#f0f921"
             ]
            ],
            "type": "heatmapgl"
           }
          ],
          "histogram": [
           {
            "marker": {
             "pattern": {
              "fillmode": "overlay",
              "size": 10,
              "solidity": 0.2
             }
            },
            "type": "histogram"
           }
          ],
          "histogram2d": [
           {
            "colorbar": {
             "outlinewidth": 0,
             "ticks": ""
            },
            "colorscale": [
             [
              0,
              "#0d0887"
             ],
             [
              0.1111111111111111,
              "#46039f"
             ],
             [
              0.2222222222222222,
              "#7201a8"
             ],
             [
              0.3333333333333333,
              "#9c179e"
             ],
             [
              0.4444444444444444,
              "#bd3786"
             ],
             [
              0.5555555555555556,
              "#d8576b"
             ],
             [
              0.6666666666666666,
              "#ed7953"
             ],
             [
              0.7777777777777778,
              "#fb9f3a"
             ],
             [
              0.8888888888888888,
              "#fdca26"
             ],
             [
              1,
              "#f0f921"
             ]
            ],
            "type": "histogram2d"
           }
          ],
          "histogram2dcontour": [
           {
            "colorbar": {
             "outlinewidth": 0,
             "ticks": ""
            },
            "colorscale": [
             [
              0,
              "#0d0887"
             ],
             [
              0.1111111111111111,
              "#46039f"
             ],
             [
              0.2222222222222222,
              "#7201a8"
             ],
             [
              0.3333333333333333,
              "#9c179e"
             ],
             [
              0.4444444444444444,
              "#bd3786"
             ],
             [
              0.5555555555555556,
              "#d8576b"
             ],
             [
              0.6666666666666666,
              "#ed7953"
             ],
             [
              0.7777777777777778,
              "#fb9f3a"
             ],
             [
              0.8888888888888888,
              "#fdca26"
             ],
             [
              1,
              "#f0f921"
             ]
            ],
            "type": "histogram2dcontour"
           }
          ],
          "mesh3d": [
           {
            "colorbar": {
             "outlinewidth": 0,
             "ticks": ""
            },
            "type": "mesh3d"
           }
          ],
          "parcoords": [
           {
            "line": {
             "colorbar": {
              "outlinewidth": 0,
              "ticks": ""
             }
            },
            "type": "parcoords"
           }
          ],
          "pie": [
           {
            "automargin": true,
            "type": "pie"
           }
          ],
          "scatter": [
           {
            "fillpattern": {
             "fillmode": "overlay",
             "size": 10,
             "solidity": 0.2
            },
            "type": "scatter"
           }
          ],
          "scatter3d": [
           {
            "line": {
             "colorbar": {
              "outlinewidth": 0,
              "ticks": ""
             }
            },
            "marker": {
             "colorbar": {
              "outlinewidth": 0,
              "ticks": ""
             }
            },
            "type": "scatter3d"
           }
          ],
          "scattercarpet": [
           {
            "marker": {
             "colorbar": {
              "outlinewidth": 0,
              "ticks": ""
             }
            },
            "type": "scattercarpet"
           }
          ],
          "scattergeo": [
           {
            "marker": {
             "colorbar": {
              "outlinewidth": 0,
              "ticks": ""
             }
            },
            "type": "scattergeo"
           }
          ],
          "scattergl": [
           {
            "marker": {
             "colorbar": {
              "outlinewidth": 0,
              "ticks": ""
             }
            },
            "type": "scattergl"
           }
          ],
          "scattermapbox": [
           {
            "marker": {
             "colorbar": {
              "outlinewidth": 0,
              "ticks": ""
             }
            },
            "type": "scattermapbox"
           }
          ],
          "scatterpolar": [
           {
            "marker": {
             "colorbar": {
              "outlinewidth": 0,
              "ticks": ""
             }
            },
            "type": "scatterpolar"
           }
          ],
          "scatterpolargl": [
           {
            "marker": {
             "colorbar": {
              "outlinewidth": 0,
              "ticks": ""
             }
            },
            "type": "scatterpolargl"
           }
          ],
          "scatterternary": [
           {
            "marker": {
             "colorbar": {
              "outlinewidth": 0,
              "ticks": ""
             }
            },
            "type": "scatterternary"
           }
          ],
          "surface": [
           {
            "colorbar": {
             "outlinewidth": 0,
             "ticks": ""
            },
            "colorscale": [
             [
              0,
              "#0d0887"
             ],
             [
              0.1111111111111111,
              "#46039f"
             ],
             [
              0.2222222222222222,
              "#7201a8"
             ],
             [
              0.3333333333333333,
              "#9c179e"
             ],
             [
              0.4444444444444444,
              "#bd3786"
             ],
             [
              0.5555555555555556,
              "#d8576b"
             ],
             [
              0.6666666666666666,
              "#ed7953"
             ],
             [
              0.7777777777777778,
              "#fb9f3a"
             ],
             [
              0.8888888888888888,
              "#fdca26"
             ],
             [
              1,
              "#f0f921"
             ]
            ],
            "type": "surface"
           }
          ],
          "table": [
           {
            "cells": {
             "fill": {
              "color": "#EBF0F8"
             },
             "line": {
              "color": "white"
             }
            },
            "header": {
             "fill": {
              "color": "#C8D4E3"
             },
             "line": {
              "color": "white"
             }
            },
            "type": "table"
           }
          ]
         },
         "layout": {
          "annotationdefaults": {
           "arrowcolor": "#2a3f5f",
           "arrowhead": 0,
           "arrowwidth": 1
          },
          "autotypenumbers": "strict",
          "coloraxis": {
           "colorbar": {
            "outlinewidth": 0,
            "ticks": ""
           }
          },
          "colorscale": {
           "diverging": [
            [
             0,
             "#8e0152"
            ],
            [
             0.1,
             "#c51b7d"
            ],
            [
             0.2,
             "#de77ae"
            ],
            [
             0.3,
             "#f1b6da"
            ],
            [
             0.4,
             "#fde0ef"
            ],
            [
             0.5,
             "#f7f7f7"
            ],
            [
             0.6,
             "#e6f5d0"
            ],
            [
             0.7,
             "#b8e186"
            ],
            [
             0.8,
             "#7fbc41"
            ],
            [
             0.9,
             "#4d9221"
            ],
            [
             1,
             "#276419"
            ]
           ],
           "sequential": [
            [
             0,
             "#0d0887"
            ],
            [
             0.1111111111111111,
             "#46039f"
            ],
            [
             0.2222222222222222,
             "#7201a8"
            ],
            [
             0.3333333333333333,
             "#9c179e"
            ],
            [
             0.4444444444444444,
             "#bd3786"
            ],
            [
             0.5555555555555556,
             "#d8576b"
            ],
            [
             0.6666666666666666,
             "#ed7953"
            ],
            [
             0.7777777777777778,
             "#fb9f3a"
            ],
            [
             0.8888888888888888,
             "#fdca26"
            ],
            [
             1,
             "#f0f921"
            ]
           ],
           "sequentialminus": [
            [
             0,
             "#0d0887"
            ],
            [
             0.1111111111111111,
             "#46039f"
            ],
            [
             0.2222222222222222,
             "#7201a8"
            ],
            [
             0.3333333333333333,
             "#9c179e"
            ],
            [
             0.4444444444444444,
             "#bd3786"
            ],
            [
             0.5555555555555556,
             "#d8576b"
            ],
            [
             0.6666666666666666,
             "#ed7953"
            ],
            [
             0.7777777777777778,
             "#fb9f3a"
            ],
            [
             0.8888888888888888,
             "#fdca26"
            ],
            [
             1,
             "#f0f921"
            ]
           ]
          },
          "colorway": [
           "#636efa",
           "#EF553B",
           "#00cc96",
           "#ab63fa",
           "#FFA15A",
           "#19d3f3",
           "#FF6692",
           "#B6E880",
           "#FF97FF",
           "#FECB52"
          ],
          "font": {
           "color": "#2a3f5f"
          },
          "geo": {
           "bgcolor": "white",
           "lakecolor": "white",
           "landcolor": "white",
           "showlakes": true,
           "showland": true,
           "subunitcolor": "#C8D4E3"
          },
          "hoverlabel": {
           "align": "left"
          },
          "hovermode": "closest",
          "mapbox": {
           "style": "light"
          },
          "paper_bgcolor": "white",
          "plot_bgcolor": "white",
          "polar": {
           "angularaxis": {
            "gridcolor": "#EBF0F8",
            "linecolor": "#EBF0F8",
            "ticks": ""
           },
           "bgcolor": "white",
           "radialaxis": {
            "gridcolor": "#EBF0F8",
            "linecolor": "#EBF0F8",
            "ticks": ""
           }
          },
          "scene": {
           "xaxis": {
            "backgroundcolor": "white",
            "gridcolor": "#DFE8F3",
            "gridwidth": 2,
            "linecolor": "#EBF0F8",
            "showbackground": true,
            "ticks": "",
            "zerolinecolor": "#EBF0F8"
           },
           "yaxis": {
            "backgroundcolor": "white",
            "gridcolor": "#DFE8F3",
            "gridwidth": 2,
            "linecolor": "#EBF0F8",
            "showbackground": true,
            "ticks": "",
            "zerolinecolor": "#EBF0F8"
           },
           "zaxis": {
            "backgroundcolor": "white",
            "gridcolor": "#DFE8F3",
            "gridwidth": 2,
            "linecolor": "#EBF0F8",
            "showbackground": true,
            "ticks": "",
            "zerolinecolor": "#EBF0F8"
           }
          },
          "shapedefaults": {
           "line": {
            "color": "#2a3f5f"
           }
          },
          "ternary": {
           "aaxis": {
            "gridcolor": "#DFE8F3",
            "linecolor": "#A2B1C6",
            "ticks": ""
           },
           "baxis": {
            "gridcolor": "#DFE8F3",
            "linecolor": "#A2B1C6",
            "ticks": ""
           },
           "bgcolor": "white",
           "caxis": {
            "gridcolor": "#DFE8F3",
            "linecolor": "#A2B1C6",
            "ticks": ""
           }
          },
          "title": {
           "x": 0.05
          },
          "xaxis": {
           "automargin": true,
           "gridcolor": "#EBF0F8",
           "linecolor": "#EBF0F8",
           "ticks": "",
           "title": {
            "standoff": 15
           },
           "zerolinecolor": "#EBF0F8",
           "zerolinewidth": 2
          },
          "yaxis": {
           "automargin": true,
           "gridcolor": "#EBF0F8",
           "linecolor": "#EBF0F8",
           "ticks": "",
           "title": {
            "standoff": 15
           },
           "zerolinecolor": "#EBF0F8",
           "zerolinewidth": 2
          }
         }
        },
        "title": {
         "font": {
          "size": 12
         }
        },
        "width": 700,
        "xaxis": {
         "anchor": "y",
         "domain": [
          0,
          1
         ],
         "linewidth": 1.5,
         "mirror": true,
         "range": [
          "2025-08-26T00:00:00",
          "2026-09-30T00:00:00"
         ],
         "showline": true,
         "title": {
          "text": "ds"
         },
         "type": "date"
        },
        "xaxis2": {
         "anchor": "y2",
         "domain": [
          0,
          1
         ],
         "linewidth": 1.5,
         "mirror": true,
         "range": [
          "2025-08-26T00:00:00",
          "2026-09-30T00:00:00"
         ],
         "showline": true,
         "title": {
          "text": "ds"
         },
         "type": "date"
        },
        "yaxis": {
         "anchor": "x",
         "domain": [
          0.575,
          1
         ],
         "linewidth": 1.5,
         "mirror": true,
         "rangemode": "normal",
         "showline": true,
         "title": {
          "text": "Trend"
         }
        },
        "yaxis2": {
         "anchor": "x2",
         "domain": [
          0,
          0.425
         ],
         "linewidth": 1.5,
         "mirror": true,
         "rangemode": "tozero",
         "showline": true,
         "title": {
          "text": "yearly seasonality"
         }
        }
       }
      }
     },
     "metadata": {},
     "output_type": "display_data"
    }
   ],
   "source": [
    "modelo.plot_components(previsao_futura)"
   ]
  },
  {
   "cell_type": "markdown",
   "id": "6d3c2ef1",
   "metadata": {},
   "source": [
    "### Visualizando previsão"
   ]
  },
  {
   "cell_type": "code",
   "execution_count": 9,
   "id": "2252ec07",
   "metadata": {},
   "outputs": [
    {
     "data": {
      "image/png": "[encoded data removed]",
      "text/plain": [
       "<Figure size 1200x600 with 1 Axes>"
      ]
     },
     "metadata": {},
     "output_type": "display_data"
    }
   ],
   "source": [
    "plt.figure(figsize=(12, 6))\n",
    "\n",
    "# Previsão histórica\n",
    "plt.plot(\n",
    "    previsoes_historicas['ds'],\n",
    "    previsoes_historicas['yhat1'],\n",
    "    label='Previsões Históricas (2015 - 2025)',\n",
    "    c='r',\n",
    ")\n",
    "\n",
    "# Previsão futura\n",
    "plt.plot(\n",
    "    previsao_futura['ds'],\n",
    "    previsao_futura['yhat1'],\n",
    "    label='Previsões Futuras (Próximos 365 dias)',\n",
    "    c='b',\n",
    ")\n",
    "\n",
    "# Dados históricos\n",
    "plt.plot(\n",
    "    df_formatted['ds'],\n",
    "    df_formatted['y'],\n",
    "    label='Valores Históricas observados (2015 - 2025)',\n",
    "    c='g',\n",
    ")\n",
    "\n",
    "plt.legend()\n",
    "plt.show()"
   ]
  },
  {
   "cell_type": "markdown",
   "id": "1b68f154",
   "metadata": {},
   "source": [
    "### Avaliando modelo"
   ]
  },
  {
   "cell_type": "code",
   "execution_count": 10,
   "id": "c878cb25",
   "metadata": {},
   "outputs": [
    {
     "data": {
      "text/plain": [
       "0.9631603144314222"
      ]
     },
     "execution_count": 10,
     "metadata": {},
     "output_type": "execute_result"
    }
   ],
   "source": [
    "# R2 mede quanto da variância dos dados é explicada pelo seu modelo\n",
    "r2_score(y_true=previsoes_historicas['y'], y_pred=previsoes_historicas['yhat1'])\n",
    "\n",
    "# Quanto mais próximo de 1 é melhor"
   ]
  },
  {
   "cell_type": "code",
   "execution_count": 11,
   "id": "22446560",
   "metadata": {},
   "outputs": [
    {
     "data": {
      "text/plain": [
       "0.21580204624387345"
      ]
     },
     "execution_count": 11,
     "metadata": {},
     "output_type": "execute_result"
    }
   ],
   "source": [
    "# MSE (Erro médio absoluto)\n",
    "mean_absolute_error(y_true=previsoes_historicas['y'], y_pred=previsoes_historicas['yhat1'])\n",
    "\n",
    "# Erro médio que o modelo tem\n",
    "# Quanto menor melhor"
   ]
  },
  {
   "cell_type": "code",
   "execution_count": 12,
   "id": "cf37fa68",
   "metadata": {},
   "outputs": [
    {
     "data": {
      "text/plain": [
       "6.983317539162563"
      ]
     },
     "execution_count": 12,
     "metadata": {},
     "output_type": "execute_result"
    }
   ],
   "source": [
    "# Porcentagem média de erro\n",
    "mean_absolute_percentage_error(y_true=previsoes_historicas['y'], y_pred=previsoes_historicas['yhat1']) * 100\n",
    "\n",
    "# Quanto menor melhor"
   ]
  },
  {
   "cell_type": "markdown",
   "id": "8a240b83",
   "metadata": {},
   "source": [
    "### Salvando modelo"
   ]
  },
  {
   "cell_type": "code",
   "execution_count": null,
   "id": "d582a197",
   "metadata": {},
   "outputs": [],
   "source": [
    "os.makedirs('../Models/Neural', exist_ok=True)"
   ]
  },
  {
   "cell_type": "code",
   "execution_count": null,
   "id": "1061393a",
   "metadata": {},
   "outputs": [
    {
     "name": "stdout",
     "output_type": "stream",
     "text": [
      "Modelo salvo com sucesso!\n"
     ]
    }
   ],
   "source": [
    "with open('../Models/Neural/neural_model_v2.pkl', 'wb') as f:\n",
    "    pickle.dump(modelo, f)\n",
    "\n",
    "print(\"Modelo salvo com sucesso!\")"
   ]
  },
  {
   "cell_type": "markdown",
   "id": "e73029fe",
   "metadata": {},
   "source": [
    "### Carregando modelo"
   ]
  },
  {
   "cell_type": "code",
   "execution_count": null,
   "id": "02680af9",
   "metadata": {},
   "outputs": [],
   "source": [
    "def load_neural_model():\n",
    "    with open('../Models/Neural/neural_model_v1.pkl', 'rb') as f:\n",
    "        loaded_model = pickle.load(f)\n",
    "    \n",
    "    return loaded_model\n",
    "\n",
    "loaded_model = load_neural_model()"
   ]
  }
 ],
 "metadata": {
  "kernelspec": {
   "display_name": ".venv (3.12.3)",
   "language": "python",
   "name": "python3"
  },
  "language_info": {
   "codemirror_mode": {
    "name": "ipython",
    "version": 3
   },
   "file_extension": ".py",
   "mimetype": "text/x-python",
   "name": "python",
   "nbconvert_exporter": "python",
   "pygments_lexer": "ipython3",
   "version": "3.12.3"
  }
 },
 "nbformat": 4,
 "nbformat_minor": 5
}
